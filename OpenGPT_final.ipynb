{
  "cells": [
    {
      "cell_type": "markdown",
      "metadata": {
        "id": "view-in-github",
        "colab_type": "text"
      },
      "source": [
        "<a href=\"https://colab.research.google.com/github/G-Gopan/OGPT/blob/main/OpenGPT_final.ipynb\" target=\"_parent\"><img src=\"https://colab.research.google.com/assets/colab-badge.svg\" alt=\"Open In Colab\"/></a>"
      ]
    },
    {
      "cell_type": "code",
      "execution_count": null,
      "metadata": {
        "id": "dWg9CvX9RJS8"
      },
      "outputs": [],
      "source": [
        "# **!!! Switch the runtime to GPU !!!**"
      ]
    },
    {
      "cell_type": "code",
      "execution_count": null,
      "metadata": {
        "colab": {
          "base_uri": "https://localhost:8080/"
        },
        "id": "AaQsqfqqPYY0",
        "outputId": "8fac4819-a219-4146-f45d-98c3ab94b8b3"
      },
      "outputs": [
        {
          "output_type": "stream",
          "name": "stdout",
          "text": [
            "Collecting opengpt\n",
            "  Downloading opengpt-0.0.5-py3-none-any.whl (16 kB)\n",
            "Collecting datasets<3,>=2 (from opengpt)\n",
            "  Downloading datasets-2.19.1-py3-none-any.whl (542 kB)\n",
            "\u001b[2K     \u001b[90m━━━━━━━━━━━━━━━━━━━━━━━━━━━━━━━━━━━━━━━━\u001b[0m \u001b[32m542.0/542.0 kB\u001b[0m \u001b[31m3.5 MB/s\u001b[0m eta \u001b[36m0:00:00\u001b[0m\n",
            "\u001b[?25hRequirement already satisfied: transformers<5,>=4.2 in /usr/local/lib/python3.10/dist-packages (from opengpt) (4.40.2)\n",
            "Collecting tiktoken>=0.3.2 (from opengpt)\n",
            "  Downloading tiktoken-0.7.0-cp310-cp310-manylinux_2_17_x86_64.manylinux2014_x86_64.whl (1.1 MB)\n",
            "\u001b[2K     \u001b[90m━━━━━━━━━━━━━━━━━━━━━━━━━━━━━━━━━━━━━━━━\u001b[0m \u001b[32m1.1/1.1 MB\u001b[0m \u001b[31m16.2 MB/s\u001b[0m eta \u001b[36m0:00:00\u001b[0m\n",
            "\u001b[?25hRequirement already satisfied: pandas in /usr/local/lib/python3.10/dist-packages (from opengpt) (2.0.3)\n",
            "Collecting openai (from opengpt)\n",
            "  Downloading openai-1.30.1-py3-none-any.whl (320 kB)\n",
            "\u001b[2K     \u001b[90m━━━━━━━━━━━━━━━━━━━━━━━━━━━━━━━━━━━━━━━━\u001b[0m \u001b[32m320.6/320.6 kB\u001b[0m \u001b[31m6.6 MB/s\u001b[0m eta \u001b[36m0:00:00\u001b[0m\n",
            "\u001b[?25hRequirement already satisfied: numpy in /usr/local/lib/python3.10/dist-packages (from opengpt) (1.25.2)\n",
            "Requirement already satisfied: tqdm in /usr/local/lib/python3.10/dist-packages (from opengpt) (4.66.4)\n",
            "Requirement already satisfied: python-box in /usr/local/lib/python3.10/dist-packages (from opengpt) (7.1.1)\n",
            "Requirement already satisfied: jsonpickle in /usr/local/lib/python3.10/dist-packages (from opengpt) (3.0.4)\n",
            "Requirement already satisfied: filelock in /usr/local/lib/python3.10/dist-packages (from datasets<3,>=2->opengpt) (3.14.0)\n",
            "Requirement already satisfied: pyarrow>=12.0.0 in /usr/local/lib/python3.10/dist-packages (from datasets<3,>=2->opengpt) (14.0.2)\n",
            "Requirement already satisfied: pyarrow-hotfix in /usr/local/lib/python3.10/dist-packages (from datasets<3,>=2->opengpt) (0.6)\n",
            "Collecting dill<0.3.9,>=0.3.0 (from datasets<3,>=2->opengpt)\n",
            "  Downloading dill-0.3.8-py3-none-any.whl (116 kB)\n",
            "\u001b[2K     \u001b[90m━━━━━━━━━━━━━━━━━━━━━━━━━━━━━━━━━━━━━━━━\u001b[0m \u001b[32m116.3/116.3 kB\u001b[0m \u001b[31m9.3 MB/s\u001b[0m eta \u001b[36m0:00:00\u001b[0m\n",
            "\u001b[?25hRequirement already satisfied: requests>=2.19.0 in /usr/local/lib/python3.10/dist-packages (from datasets<3,>=2->opengpt) (2.31.0)\n",
            "Collecting xxhash (from datasets<3,>=2->opengpt)\n",
            "  Downloading xxhash-3.4.1-cp310-cp310-manylinux_2_17_x86_64.manylinux2014_x86_64.whl (194 kB)\n",
            "\u001b[2K     \u001b[90m━━━━━━━━━━━━━━━━━━━━━━━━━━━━━━━━━━━━━━━━\u001b[0m \u001b[32m194.1/194.1 kB\u001b[0m \u001b[31m5.8 MB/s\u001b[0m eta \u001b[36m0:00:00\u001b[0m\n",
            "\u001b[?25hCollecting multiprocess (from datasets<3,>=2->opengpt)\n",
            "  Downloading multiprocess-0.70.16-py310-none-any.whl (134 kB)\n",
            "\u001b[2K     \u001b[90m━━━━━━━━━━━━━━━━━━━━━━━━━━━━━━━━━━━━━━━━\u001b[0m \u001b[32m134.8/134.8 kB\u001b[0m \u001b[31m10.8 MB/s\u001b[0m eta \u001b[36m0:00:00\u001b[0m\n",
            "\u001b[?25hRequirement already satisfied: fsspec[http]<=2024.3.1,>=2023.1.0 in /usr/local/lib/python3.10/dist-packages (from datasets<3,>=2->opengpt) (2023.6.0)\n",
            "Requirement already satisfied: aiohttp in /usr/local/lib/python3.10/dist-packages (from datasets<3,>=2->opengpt) (3.9.5)\n",
            "Collecting huggingface-hub>=0.21.2 (from datasets<3,>=2->opengpt)\n",
            "  Downloading huggingface_hub-0.23.0-py3-none-any.whl (401 kB)\n",
            "\u001b[2K     \u001b[90m━━━━━━━━━━━━━━━━━━━━━━━━━━━━━━━━━━━━━━━━\u001b[0m \u001b[32m401.2/401.2 kB\u001b[0m \u001b[31m9.3 MB/s\u001b[0m eta \u001b[36m0:00:00\u001b[0m\n",
            "\u001b[?25hRequirement already satisfied: packaging in /usr/local/lib/python3.10/dist-packages (from datasets<3,>=2->opengpt) (24.0)\n",
            "Requirement already satisfied: pyyaml>=5.1 in /usr/local/lib/python3.10/dist-packages (from datasets<3,>=2->opengpt) (6.0.1)\n",
            "Requirement already satisfied: regex>=2022.1.18 in /usr/local/lib/python3.10/dist-packages (from tiktoken>=0.3.2->opengpt) (2023.12.25)\n",
            "Requirement already satisfied: tokenizers<0.20,>=0.19 in /usr/local/lib/python3.10/dist-packages (from transformers<5,>=4.2->opengpt) (0.19.1)\n",
            "Requirement already satisfied: safetensors>=0.4.1 in /usr/local/lib/python3.10/dist-packages (from transformers<5,>=4.2->opengpt) (0.4.3)\n",
            "Requirement already satisfied: anyio<5,>=3.5.0 in /usr/local/lib/python3.10/dist-packages (from openai->opengpt) (3.7.1)\n",
            "Requirement already satisfied: distro<2,>=1.7.0 in /usr/lib/python3/dist-packages (from openai->opengpt) (1.7.0)\n",
            "Collecting httpx<1,>=0.23.0 (from openai->opengpt)\n",
            "  Downloading httpx-0.27.0-py3-none-any.whl (75 kB)\n",
            "\u001b[2K     \u001b[90m━━━━━━━━━━━━━━━━━━━━━━━━━━━━━━━━━━━━━━━━\u001b[0m \u001b[32m75.6/75.6 kB\u001b[0m \u001b[31m6.2 MB/s\u001b[0m eta \u001b[36m0:00:00\u001b[0m\n",
            "\u001b[?25hRequirement already satisfied: pydantic<3,>=1.9.0 in /usr/local/lib/python3.10/dist-packages (from openai->opengpt) (2.7.1)\n",
            "Requirement already satisfied: sniffio in /usr/local/lib/python3.10/dist-packages (from openai->opengpt) (1.3.1)\n",
            "Requirement already satisfied: typing-extensions<5,>=4.7 in /usr/local/lib/python3.10/dist-packages (from openai->opengpt) (4.11.0)\n",
            "Requirement already satisfied: python-dateutil>=2.8.2 in /usr/local/lib/python3.10/dist-packages (from pandas->opengpt) (2.8.2)\n",
            "Requirement already satisfied: pytz>=2020.1 in /usr/local/lib/python3.10/dist-packages (from pandas->opengpt) (2023.4)\n",
            "Requirement already satisfied: tzdata>=2022.1 in /usr/local/lib/python3.10/dist-packages (from pandas->opengpt) (2024.1)\n",
            "Requirement already satisfied: idna>=2.8 in /usr/local/lib/python3.10/dist-packages (from anyio<5,>=3.5.0->openai->opengpt) (3.7)\n",
            "Requirement already satisfied: exceptiongroup in /usr/local/lib/python3.10/dist-packages (from anyio<5,>=3.5.0->openai->opengpt) (1.2.1)\n",
            "Requirement already satisfied: aiosignal>=1.1.2 in /usr/local/lib/python3.10/dist-packages (from aiohttp->datasets<3,>=2->opengpt) (1.3.1)\n",
            "Requirement already satisfied: attrs>=17.3.0 in /usr/local/lib/python3.10/dist-packages (from aiohttp->datasets<3,>=2->opengpt) (23.2.0)\n",
            "Requirement already satisfied: frozenlist>=1.1.1 in /usr/local/lib/python3.10/dist-packages (from aiohttp->datasets<3,>=2->opengpt) (1.4.1)\n",
            "Requirement already satisfied: multidict<7.0,>=4.5 in /usr/local/lib/python3.10/dist-packages (from aiohttp->datasets<3,>=2->opengpt) (6.0.5)\n",
            "Requirement already satisfied: yarl<2.0,>=1.0 in /usr/local/lib/python3.10/dist-packages (from aiohttp->datasets<3,>=2->opengpt) (1.9.4)\n",
            "Requirement already satisfied: async-timeout<5.0,>=4.0 in /usr/local/lib/python3.10/dist-packages (from aiohttp->datasets<3,>=2->opengpt) (4.0.3)\n",
            "Requirement already satisfied: certifi in /usr/local/lib/python3.10/dist-packages (from httpx<1,>=0.23.0->openai->opengpt) (2024.2.2)\n",
            "Collecting httpcore==1.* (from httpx<1,>=0.23.0->openai->opengpt)\n",
            "  Downloading httpcore-1.0.5-py3-none-any.whl (77 kB)\n",
            "\u001b[2K     \u001b[90m━━━━━━━━━━━━━━━━━━━━━━━━━━━━━━━━━━━━━━━━\u001b[0m \u001b[32m77.9/77.9 kB\u001b[0m \u001b[31m6.8 MB/s\u001b[0m eta \u001b[36m0:00:00\u001b[0m\n",
            "\u001b[?25hCollecting h11<0.15,>=0.13 (from httpcore==1.*->httpx<1,>=0.23.0->openai->opengpt)\n",
            "  Downloading h11-0.14.0-py3-none-any.whl (58 kB)\n",
            "\u001b[2K     \u001b[90m━━━━━━━━━━━━━━━━━━━━━━━━━━━━━━━━━━━━━━━━\u001b[0m \u001b[32m58.3/58.3 kB\u001b[0m \u001b[31m5.1 MB/s\u001b[0m eta \u001b[36m0:00:00\u001b[0m\n",
            "\u001b[?25hRequirement already satisfied: annotated-types>=0.4.0 in /usr/local/lib/python3.10/dist-packages (from pydantic<3,>=1.9.0->openai->opengpt) (0.6.0)\n",
            "Requirement already satisfied: pydantic-core==2.18.2 in /usr/local/lib/python3.10/dist-packages (from pydantic<3,>=1.9.0->openai->opengpt) (2.18.2)\n",
            "Requirement already satisfied: six>=1.5 in /usr/local/lib/python3.10/dist-packages (from python-dateutil>=2.8.2->pandas->opengpt) (1.16.0)\n",
            "Requirement already satisfied: charset-normalizer<4,>=2 in /usr/local/lib/python3.10/dist-packages (from requests>=2.19.0->datasets<3,>=2->opengpt) (3.3.2)\n",
            "Requirement already satisfied: urllib3<3,>=1.21.1 in /usr/local/lib/python3.10/dist-packages (from requests>=2.19.0->datasets<3,>=2->opengpt) (2.0.7)\n",
            "Installing collected packages: xxhash, h11, dill, tiktoken, multiprocess, huggingface-hub, httpcore, httpx, openai, datasets, opengpt\n",
            "  Attempting uninstall: huggingface-hub\n",
            "    Found existing installation: huggingface-hub 0.20.3\n",
            "    Uninstalling huggingface-hub-0.20.3:\n",
            "      Successfully uninstalled huggingface-hub-0.20.3\n",
            "Successfully installed datasets-2.19.1 dill-0.3.8 h11-0.14.0 httpcore-1.0.5 httpx-0.27.0 huggingface-hub-0.23.0 multiprocess-0.70.16 openai-1.30.1 opengpt-0.0.5 tiktoken-0.7.0 xxhash-3.4.1\n",
            "Collecting accelerate\n",
            "  Downloading accelerate-0.30.1-py3-none-any.whl (302 kB)\n",
            "\u001b[2K     \u001b[90m━━━━━━━━━━━━━━━━━━━━━━━━━━━━━━━━━━━━━━━━\u001b[0m \u001b[32m302.6/302.6 kB\u001b[0m \u001b[31m2.5 MB/s\u001b[0m eta \u001b[36m0:00:00\u001b[0m\n",
            "\u001b[?25hRequirement already satisfied: numpy>=1.17 in /usr/local/lib/python3.10/dist-packages (from accelerate) (1.25.2)\n",
            "Requirement already satisfied: packaging>=20.0 in /usr/local/lib/python3.10/dist-packages (from accelerate) (24.0)\n",
            "Requirement already satisfied: psutil in /usr/local/lib/python3.10/dist-packages (from accelerate) (5.9.5)\n",
            "Requirement already satisfied: pyyaml in /usr/local/lib/python3.10/dist-packages (from accelerate) (6.0.1)\n",
            "Requirement already satisfied: torch>=1.10.0 in /usr/local/lib/python3.10/dist-packages (from accelerate) (2.2.1+cu121)\n",
            "Requirement already satisfied: huggingface-hub in /usr/local/lib/python3.10/dist-packages (from accelerate) (0.23.0)\n",
            "Requirement already satisfied: safetensors>=0.3.1 in /usr/local/lib/python3.10/dist-packages (from accelerate) (0.4.3)\n",
            "Requirement already satisfied: filelock in /usr/local/lib/python3.10/dist-packages (from torch>=1.10.0->accelerate) (3.14.0)\n",
            "Requirement already satisfied: typing-extensions>=4.8.0 in /usr/local/lib/python3.10/dist-packages (from torch>=1.10.0->accelerate) (4.11.0)\n",
            "Requirement already satisfied: sympy in /usr/local/lib/python3.10/dist-packages (from torch>=1.10.0->accelerate) (1.12)\n",
            "Requirement already satisfied: networkx in /usr/local/lib/python3.10/dist-packages (from torch>=1.10.0->accelerate) (3.3)\n",
            "Requirement already satisfied: jinja2 in /usr/local/lib/python3.10/dist-packages (from torch>=1.10.0->accelerate) (3.1.4)\n",
            "Requirement already satisfied: fsspec in /usr/local/lib/python3.10/dist-packages (from torch>=1.10.0->accelerate) (2023.6.0)\n",
            "Collecting nvidia-cuda-nvrtc-cu12==12.1.105 (from torch>=1.10.0->accelerate)\n",
            "  Using cached nvidia_cuda_nvrtc_cu12-12.1.105-py3-none-manylinux1_x86_64.whl (23.7 MB)\n",
            "Collecting nvidia-cuda-runtime-cu12==12.1.105 (from torch>=1.10.0->accelerate)\n",
            "  Using cached nvidia_cuda_runtime_cu12-12.1.105-py3-none-manylinux1_x86_64.whl (823 kB)\n",
            "Collecting nvidia-cuda-cupti-cu12==12.1.105 (from torch>=1.10.0->accelerate)\n",
            "  Using cached nvidia_cuda_cupti_cu12-12.1.105-py3-none-manylinux1_x86_64.whl (14.1 MB)\n",
            "Collecting nvidia-cudnn-cu12==8.9.2.26 (from torch>=1.10.0->accelerate)\n",
            "  Using cached nvidia_cudnn_cu12-8.9.2.26-py3-none-manylinux1_x86_64.whl (731.7 MB)\n",
            "Collecting nvidia-cublas-cu12==12.1.3.1 (from torch>=1.10.0->accelerate)\n",
            "  Using cached nvidia_cublas_cu12-12.1.3.1-py3-none-manylinux1_x86_64.whl (410.6 MB)\n",
            "Collecting nvidia-cufft-cu12==11.0.2.54 (from torch>=1.10.0->accelerate)\n",
            "  Using cached nvidia_cufft_cu12-11.0.2.54-py3-none-manylinux1_x86_64.whl (121.6 MB)\n",
            "Collecting nvidia-curand-cu12==10.3.2.106 (from torch>=1.10.0->accelerate)\n",
            "  Using cached nvidia_curand_cu12-10.3.2.106-py3-none-manylinux1_x86_64.whl (56.5 MB)\n",
            "Collecting nvidia-cusolver-cu12==11.4.5.107 (from torch>=1.10.0->accelerate)\n",
            "  Using cached nvidia_cusolver_cu12-11.4.5.107-py3-none-manylinux1_x86_64.whl (124.2 MB)\n",
            "Collecting nvidia-cusparse-cu12==12.1.0.106 (from torch>=1.10.0->accelerate)\n",
            "  Using cached nvidia_cusparse_cu12-12.1.0.106-py3-none-manylinux1_x86_64.whl (196.0 MB)\n",
            "Collecting nvidia-nccl-cu12==2.19.3 (from torch>=1.10.0->accelerate)\n",
            "  Using cached nvidia_nccl_cu12-2.19.3-py3-none-manylinux1_x86_64.whl (166.0 MB)\n",
            "Collecting nvidia-nvtx-cu12==12.1.105 (from torch>=1.10.0->accelerate)\n",
            "  Using cached nvidia_nvtx_cu12-12.1.105-py3-none-manylinux1_x86_64.whl (99 kB)\n",
            "Requirement already satisfied: triton==2.2.0 in /usr/local/lib/python3.10/dist-packages (from torch>=1.10.0->accelerate) (2.2.0)\n",
            "Collecting nvidia-nvjitlink-cu12 (from nvidia-cusolver-cu12==11.4.5.107->torch>=1.10.0->accelerate)\n",
            "  Using cached nvidia_nvjitlink_cu12-12.4.127-py3-none-manylinux2014_x86_64.whl (21.1 MB)\n",
            "Requirement already satisfied: requests in /usr/local/lib/python3.10/dist-packages (from huggingface-hub->accelerate) (2.31.0)\n",
            "Requirement already satisfied: tqdm>=4.42.1 in /usr/local/lib/python3.10/dist-packages (from huggingface-hub->accelerate) (4.66.4)\n",
            "Requirement already satisfied: MarkupSafe>=2.0 in /usr/local/lib/python3.10/dist-packages (from jinja2->torch>=1.10.0->accelerate) (2.1.5)\n",
            "Requirement already satisfied: charset-normalizer<4,>=2 in /usr/local/lib/python3.10/dist-packages (from requests->huggingface-hub->accelerate) (3.3.2)\n",
            "Requirement already satisfied: idna<4,>=2.5 in /usr/local/lib/python3.10/dist-packages (from requests->huggingface-hub->accelerate) (3.7)\n",
            "Requirement already satisfied: urllib3<3,>=1.21.1 in /usr/local/lib/python3.10/dist-packages (from requests->huggingface-hub->accelerate) (2.0.7)\n",
            "Requirement already satisfied: certifi>=2017.4.17 in /usr/local/lib/python3.10/dist-packages (from requests->huggingface-hub->accelerate) (2024.2.2)\n",
            "Requirement already satisfied: mpmath>=0.19 in /usr/local/lib/python3.10/dist-packages (from sympy->torch>=1.10.0->accelerate) (1.3.0)\n",
            "Installing collected packages: nvidia-nvtx-cu12, nvidia-nvjitlink-cu12, nvidia-nccl-cu12, nvidia-curand-cu12, nvidia-cufft-cu12, nvidia-cuda-runtime-cu12, nvidia-cuda-nvrtc-cu12, nvidia-cuda-cupti-cu12, nvidia-cublas-cu12, nvidia-cusparse-cu12, nvidia-cudnn-cu12, nvidia-cusolver-cu12, accelerate\n",
            "Successfully installed accelerate-0.30.1 nvidia-cublas-cu12-12.1.3.1 nvidia-cuda-cupti-cu12-12.1.105 nvidia-cuda-nvrtc-cu12-12.1.105 nvidia-cuda-runtime-cu12-12.1.105 nvidia-cudnn-cu12-8.9.2.26 nvidia-cufft-cu12-11.0.2.54 nvidia-curand-cu12-10.3.2.106 nvidia-cusolver-cu12-11.4.5.107 nvidia-cusparse-cu12-12.1.0.106 nvidia-nccl-cu12-2.19.3 nvidia-nvjitlink-cu12-12.4.127 nvidia-nvtx-cu12-12.1.105\n"
          ]
        }
      ],
      "source": [
        "# Install OpenGPT\n",
        "! pip install --upgrade opengpt\n",
        "! pip install accelerate"
      ]
    },
    {
      "cell_type": "code",
      "execution_count": null,
      "metadata": {
        "id": "Qj6zZ4yTRdJ4"
      },
      "outputs": [],
      "source": [
        "#import Libraries\n",
        "import pandas as pd\n",
        "import datasets\n",
        "import nltk\n",
        "from transformers import AutoTokenizer, AutoModelForCausalLM, Trainer, TrainingArguments, pipeline\n",
        "import numpy as np\n",
        "from nltk.translate.bleu_score import sentence_bleu\n",
        "from sklearn.metrics import precision_score, recall_score, f1_score\n",
        "from sklearn.feature_extraction.text import TfidfVectorizer\n",
        "from sklearn.metrics.pairwise import cosine_similarity\n",
        "from opengpt.config import Config\n",
        "from opengpt.model_utils import add_tokens_to_model_and_tokenizer\n",
        "from opengpt.dataset_utils import create_labels, pack_examples\n",
        "from opengpt.data_collator import DataCollatorWithPadding"
      ]
    },
    {
      "cell_type": "code",
      "execution_count": null,
      "metadata": {
        "colab": {
          "base_uri": "https://localhost:8080/"
        },
        "id": "vcxUgFwpRx5B",
        "outputId": "166cacd7-01ba-4d71-d9df-63312b900566"
      },
      "outputs": [
        {
          "output_type": "stream",
          "name": "stdout",
          "text": [
            "--2024-05-20 12:03:22--  https://raw.githubusercontent.com/G-Gopan/OGPT/main/OpenGPT-main/data/nhs_uk_full/prepared_generated_data_for_nhs_uk_qa.csv\n",
            "Resolving raw.githubusercontent.com (raw.githubusercontent.com)... 185.199.108.133, 185.199.109.133, 185.199.110.133, ...\n",
            "Connecting to raw.githubusercontent.com (raw.githubusercontent.com)|185.199.108.133|:443... connected.\n",
            "HTTP request sent, awaiting response... 200 OK\n",
            "Length: 10370226 (9.9M) [text/plain]\n",
            "Saving to: ‘prepared_generated_data_for_nhs_uk_qa.csv’\n",
            "\n",
            "prepared_generated_ 100%[===================>]   9.89M  --.-KB/s    in 0.1s    \n",
            "\n",
            "2024-05-20 12:03:22 (92.4 MB/s) - ‘prepared_generated_data_for_nhs_uk_qa.csv’ saved [10370226/10370226]\n",
            "\n",
            "--2024-05-20 12:03:22--  https://raw.githubusercontent.com/G-Gopan/OGPT/main/OpenGPT-main/data/nhs_uk_full/prepared_generated_data_for_nhs_uk_conversations.csv\n",
            "Resolving raw.githubusercontent.com (raw.githubusercontent.com)... 185.199.108.133, 185.199.109.133, 185.199.110.133, ...\n",
            "Connecting to raw.githubusercontent.com (raw.githubusercontent.com)|185.199.108.133|:443... connected.\n",
            "HTTP request sent, awaiting response... 200 OK\n",
            "Length: 5825064 (5.6M) [text/plain]\n",
            "Saving to: ‘prepared_generated_data_for_nhs_uk_conversations.csv’\n",
            "\n",
            "prepared_generated_ 100%[===================>]   5.55M  --.-KB/s    in 0.09s   \n",
            "\n",
            "2024-05-20 12:03:22 (63.7 MB/s) - ‘prepared_generated_data_for_nhs_uk_conversations.csv’ saved [5825064/5825064]\n",
            "\n",
            "--2024-05-20 12:03:22--  https://raw.githubusercontent.com/G-Gopan/OGPT/main/OpenGPT-main/data/medical_tasks_gpt4/prepared_generated_data_for_medical_tasks.csv\n",
            "Resolving raw.githubusercontent.com (raw.githubusercontent.com)... 185.199.108.133, 185.199.109.133, 185.199.110.133, ...\n",
            "Connecting to raw.githubusercontent.com (raw.githubusercontent.com)|185.199.108.133|:443... connected.\n",
            "HTTP request sent, awaiting response... 200 OK\n",
            "Length: 4704817 (4.5M) [text/plain]\n",
            "Saving to: ‘prepared_generated_data_for_medical_tasks.csv’\n",
            "\n",
            "prepared_generated_ 100%[===================>]   4.49M  --.-KB/s    in 0.08s   \n",
            "\n",
            "2024-05-20 12:03:23 (53.8 MB/s) - ‘prepared_generated_data_for_medical_tasks.csv’ saved [4704817/4704817]\n",
            "\n",
            "--2024-05-20 12:03:23--  https://raw.githubusercontent.com/G-Gopan/OGPT/main/OpenGPT-main/configs/example_train_config.yaml\n",
            "Resolving raw.githubusercontent.com (raw.githubusercontent.com)... 185.199.110.133, 185.199.108.133, 185.199.111.133, ...\n",
            "Connecting to raw.githubusercontent.com (raw.githubusercontent.com)|185.199.110.133|:443... connected.\n",
            "HTTP request sent, awaiting response... 200 OK\n",
            "Length: 3163 (3.1K) [text/plain]\n",
            "Saving to: ‘example_train_config.yaml’\n",
            "\n",
            "example_train_confi 100%[===================>]   3.09K  --.-KB/s    in 0s      \n",
            "\n",
            "2024-05-20 12:03:23 (35.3 MB/s) - ‘example_train_config.yaml’ saved [3163/3163]\n",
            "\n",
            "--2024-05-20 12:03:23--  https://raw.githubusercontent.com/G-Gopan/OGPT/main/OpenGPT-main/data/Leukaemia.csv\n",
            "Resolving raw.githubusercontent.com (raw.githubusercontent.com)... 185.199.108.133, 185.199.109.133, 185.199.110.133, ...\n",
            "Connecting to raw.githubusercontent.com (raw.githubusercontent.com)|185.199.108.133|:443... connected.\n",
            "HTTP request sent, awaiting response... 200 OK\n",
            "Length: 32051 (31K) [text/plain]\n",
            "Saving to: ‘Leukaemia.csv’\n",
            "\n",
            "Leukaemia.csv       100%[===================>]  31.30K  --.-KB/s    in 0.01s   \n",
            "\n",
            "2024-05-20 12:03:23 (2.96 MB/s) - ‘Leukaemia.csv’ saved [32051/32051]\n",
            "\n"
          ]
        }
      ],
      "source": [
        "# Download the configs and data from OpenGPT repo https://github.com/G-Gopan/OGPT\n",
        "!wget https://raw.githubusercontent.com/G-Gopan/OGPT/main/OpenGPT-main/data/nhs_uk_full/prepared_generated_data_for_nhs_uk_qa.csv\n",
        "!wget https://raw.githubusercontent.com/G-Gopan/OGPT/main/OpenGPT-main/data/nhs_uk_full/prepared_generated_data_for_nhs_uk_conversations.csv\n",
        "!wget https://raw.githubusercontent.com/G-Gopan/OGPT/main/OpenGPT-main/data/medical_tasks_gpt4/prepared_generated_data_for_medical_tasks.csv\n",
        "!wget https://raw.githubusercontent.com/G-Gopan/OGPT/main/OpenGPT-main/configs/example_train_config.yaml\n",
        "!wget https://raw.githubusercontent.com/G-Gopan/OGPT/main/OpenGPT-main/data/Leukaemia.csv"
      ]
    },
    {
      "cell_type": "code",
      "execution_count": null,
      "metadata": {
        "colab": {
          "base_uri": "https://localhost:8080/"
        },
        "id": "xm9WsqVPSiaW",
        "outputId": "0f54df67-449b-4986-d9a0-c453a7f380f8"
      },
      "outputs": [
        {
          "output_type": "execute_result",
          "data": {
            "text/plain": [
              "{'model': 'olm/olm-gpt2-oct-2022',\n",
              " 'datasets': ['../data/example_project_data/prepared_generated_data_for_example_project.csv',\n",
              "  '../data/nhs_uk_full/prepared_generated_data_for_nhs_uk_qa.csv',\n",
              "  '../data/nhs_uk_full/prepared_generated_data_for_nhs_uk_conversations.csv',\n",
              "  '../data/medical_tasks_gpt4/prepared_generated_data_for_medical_tasks.csv'],\n",
              " 'ignore_index': -100,\n",
              " 'max_seq_len': 512,\n",
              " 'packing_type': 'partial',\n",
              " 'shuffle_dataset': True,\n",
              " 'hf_training_arguments': {'output_dir': '../data/results/',\n",
              "  'gradient_accumulation_steps': 16,\n",
              "  'per_device_eval_batch_size': 1,\n",
              "  'per_device_train_batch_size': 1,\n",
              "  'load_best_model_at_end': False,\n",
              "  'learning_rate': 2e-05,\n",
              "  'weight_decay': 0.1,\n",
              "  'adam_beta1': 0.9,\n",
              "  'adam_beta2': 0.95,\n",
              "  'adam_epsilon': 1e-07,\n",
              "  'max_grad_norm': 1,\n",
              "  'num_train_epochs': 1,\n",
              "  'lr_scheduler_type': 'cosine',\n",
              "  'warmup_ratio': 0.03,\n",
              "  'logging_strategy': 'steps',\n",
              "  'logging_steps': 100,\n",
              "  'save_strategy': 'steps',\n",
              "  'save_steps': 30000,\n",
              "  'seed': 11,\n",
              "  'optim': 'adamw_hf',\n",
              "  'do_eval': False}}"
            ]
          },
          "metadata": {},
          "execution_count": 5
        }
      ],
      "source": [
        "# Load the config\n",
        "config = Config(yaml_path='./example_train_config.yaml')\n",
        "config.train.to_dict()"
      ]
    },
    {
      "cell_type": "code",
      "execution_count": null,
      "metadata": {
        "colab": {
          "base_uri": "https://localhost:8080/",
          "height": 400,
          "referenced_widgets": [
            "0fa2f8a48006435b98abb235e3630eb5",
            "5e03655a846c42cd9e7bdf1080c3f2fa",
            "2b480f1a84a04f888dd90b3b9f1b8900",
            "fabb7fcb75594584b13bc22aca178100",
            "ff3c338708b644f299dc32bedc384f6c",
            "09ad7f953f7c40f2a57d44a5c0e85105",
            "61cb931a571e4def92676ab48f86a59d",
            "f94c5e925d7a49bfbe1548d655099682",
            "e8e9196191634e50bdf4c3bfd7639b5f",
            "f044aff0033749bf9e2b13565db66698",
            "e135445518464391919d2c6f5e2e5ccf",
            "4c5da4dde2dc4c949dcf7c20c5b58309",
            "f7f1c1dee54c4f3f81b45c653f33e7bd",
            "9bbe945c33994bcf8c2b2513b6580cd7",
            "069547f93a4c4a38808b84e328912a58",
            "4caf3940c62243eab4212bfa04529dd0",
            "4c9c3e08dc6d45819aaac5b68decbe81",
            "0126793fccdf4ba9a91939d1998011c0",
            "9b3ae7c05f2c4939be2f9846c4054bc3",
            "a305d75233eb428baf1ed9025e7dd5f2",
            "8d59fb63b9334c0babb67e944e5241a3",
            "cb13fbab527647efa5d2af0ca54011c7",
            "3a3f2b2696954cc182a797d7a12c5dcf",
            "4c8ef3b00ea64bd69e67ef7ae3e566cf",
            "f9801b82924d426fbd42cb3f81567c25",
            "d0d7a7ebcd8040c993c1192e47ceefa6",
            "f70c8dca2bdc4a3c81b8a67c14f3af17",
            "75c1449243b0492ca0429c3ba090848d",
            "f13d9bd3c88b4963a50dd3da5647bf82",
            "177b3bd2699d428f8887efcc5644d511",
            "9f0115c1997a484dbd3c98442ff7a8eb",
            "f35abaf8654341869471ab3cf615c144",
            "997367f620b94d82ae13f2708208480c",
            "5e70bed4ada544d78cbce513013b4d68",
            "e4d799ff17ff4eee8360afde866382d4",
            "9200b988653a410c9d747f9fa1226791",
            "e0377e67cb9f40ada954347cdb50f280",
            "9ae8734e4e384eeb8c939918064cf60c",
            "2821c1a3675e48f1a945ad81bd370cb9",
            "00baeab671b041b7915f978b90147eef",
            "6974fe522f834cbf8127d5423b3d7014",
            "3db1110e530d47539fb7e3dbf7563074",
            "b33393a028a5463f84ea3675f1e43bff",
            "90fac92f888248449a4372c09d21d101",
            "5d7b38a3cbef419984dc3928abcc80b4",
            "bbb4dfb9f72a4ce1b58fdfebcf285ebc",
            "94a2b8e7d3d249daa3bf4c76b9875939",
            "f24d52c7491742a9b8d72599ce9f099e",
            "7f8c762962f741249dd4f375067cdfbc",
            "cd8694fc09484aef87d05e186bf9e5c1",
            "f8e61c5ade944171bc80b9178b801fd8",
            "9dc6b555d9994e7897eace6138fc4eb7",
            "1ac29630062b4888a6c4d51d04c01da5",
            "0b285281aae0458aa33a3c7bd7fb7a45",
            "a45dfd41e916452286adbb23f99812d3",
            "62338c9650c14f828b37a751888bcd16",
            "587ba0cbc9b1456dab61cca103686f86",
            "82207b0334164fc98b2eb39b800b3582",
            "b2f7a1e8b719420fa51362f5d7e2fc35",
            "32ba2c98bb0b4b7fa0cce13af8d646a4",
            "958e7c3ea22346c996777bfe6a9ea460",
            "a713d56458784fb68122332018cc7cb1",
            "e743ee7bf0be4338b14d743aa5a8c327",
            "933b6fb9b99d4b5091a234629690df20",
            "54734c7183984d06a264871555daa511",
            "0d18ce84090842038d29b31509e4afab",
            "dd617c3b63544af8b89485dc8ac0d2c5",
            "11c1e062d88c45f8a7340a632d1a4c89",
            "4aa0864f8a42436d8832c1c98213a81d",
            "087a9cfb4a754520b966d7395c937553",
            "351cc9698cff4cb1b5bcba817abd4dfb",
            "0ba88a5b95fc486bbad2554693b2d5d4",
            "626345b1929f4b0680f6d31093c76bc9",
            "2f740b163f82412dbba63a62acd96b8f",
            "32e141d9a749404594dabc3efc03eb9a",
            "8911df63c3f142a7a871f334387bd3f6",
            "c326c5555683410eb6cbfc0ea5bedf04"
          ]
        },
        "id": "XaBiYttBSeDJ",
        "outputId": "7b8f30c2-e2ab-4ab4-96e0-42ee05ca8389"
      },
      "outputs": [
        {
          "output_type": "stream",
          "name": "stderr",
          "text": [
            "/usr/local/lib/python3.10/dist-packages/huggingface_hub/file_download.py:1132: FutureWarning: `resume_download` is deprecated and will be removed in version 1.0.0. Downloads always resume when possible. If you want to force a new download, use `force_download=True`.\n",
            "  warnings.warn(\n",
            "/usr/local/lib/python3.10/dist-packages/huggingface_hub/utils/_token.py:89: UserWarning: \n",
            "The secret `HF_TOKEN` does not exist in your Colab secrets.\n",
            "To authenticate with the Hugging Face Hub, create a token in your settings tab (https://huggingface.co/settings/tokens), set it as secret in your Google Colab and restart your session.\n",
            "You will be able to reuse this secret in all of your notebooks.\n",
            "Please note that authentication is recommended but still optional to access public models or datasets.\n",
            "  warnings.warn(\n"
          ]
        },
        {
          "output_type": "display_data",
          "data": {
            "text/plain": [
              "config.json:   0%|          | 0.00/907 [00:00<?, ?B/s]"
            ],
            "application/vnd.jupyter.widget-view+json": {
              "version_major": 2,
              "version_minor": 0,
              "model_id": "0fa2f8a48006435b98abb235e3630eb5"
            }
          },
          "metadata": {}
        },
        {
          "output_type": "display_data",
          "data": {
            "text/plain": [
              "pytorch_model.bin:   0%|          | 0.00/510M [00:00<?, ?B/s]"
            ],
            "application/vnd.jupyter.widget-view+json": {
              "version_major": 2,
              "version_minor": 0,
              "model_id": "4c5da4dde2dc4c949dcf7c20c5b58309"
            }
          },
          "metadata": {}
        },
        {
          "output_type": "display_data",
          "data": {
            "text/plain": [
              "tokenizer_config.json:   0%|          | 0.00/528 [00:00<?, ?B/s]"
            ],
            "application/vnd.jupyter.widget-view+json": {
              "version_major": 2,
              "version_minor": 0,
              "model_id": "3a3f2b2696954cc182a797d7a12c5dcf"
            }
          },
          "metadata": {}
        },
        {
          "output_type": "display_data",
          "data": {
            "text/plain": [
              "vocab.json:   0%|          | 0.00/805k [00:00<?, ?B/s]"
            ],
            "application/vnd.jupyter.widget-view+json": {
              "version_major": 2,
              "version_minor": 0,
              "model_id": "5e70bed4ada544d78cbce513013b4d68"
            }
          },
          "metadata": {}
        },
        {
          "output_type": "display_data",
          "data": {
            "text/plain": [
              "merges.txt:   0%|          | 0.00/463k [00:00<?, ?B/s]"
            ],
            "application/vnd.jupyter.widget-view+json": {
              "version_major": 2,
              "version_minor": 0,
              "model_id": "5d7b38a3cbef419984dc3928abcc80b4"
            }
          },
          "metadata": {}
        },
        {
          "output_type": "display_data",
          "data": {
            "text/plain": [
              "tokenizer.json:   0%|          | 0.00/2.12M [00:00<?, ?B/s]"
            ],
            "application/vnd.jupyter.widget-view+json": {
              "version_major": 2,
              "version_minor": 0,
              "model_id": "62338c9650c14f828b37a751888bcd16"
            }
          },
          "metadata": {}
        },
        {
          "output_type": "display_data",
          "data": {
            "text/plain": [
              "special_tokens_map.json:   0%|          | 0.00/280 [00:00<?, ?B/s]"
            ],
            "application/vnd.jupyter.widget-view+json": {
              "version_major": 2,
              "version_minor": 0,
              "model_id": "dd617c3b63544af8b89485dc8ac0d2c5"
            }
          },
          "metadata": {}
        }
      ],
      "source": [
        "# Load the GPT-2 model and tokenizer\n",
        "model = AutoModelForCausalLM.from_pretrained(config.train.model)\n",
        "tokenizer = AutoTokenizer.from_pretrained(config.train.model)\n",
        "tokenizer.model_max_length = config.train.max_seq_len"
      ]
    },
    {
      "cell_type": "code",
      "execution_count": null,
      "metadata": {
        "colab": {
          "base_uri": "https://localhost:8080/"
        },
        "id": "0BC6T2fPS--A",
        "outputId": "a1eb15ae-68cb-497a-c79a-e1d0e838757e"
      },
      "outputs": [
        {
          "output_type": "stream",
          "name": "stderr",
          "text": [
            "WARNING:root:Added: 5 tokens to the tokenizer\n"
          ]
        }
      ],
      "source": [
        "# Expand tokenizer/model with the necessary special tokens for conversational LLMs\n",
        "add_tokens_to_model_and_tokenizer(config, tokenizer, model)"
      ]
    },
    {
      "cell_type": "code",
      "execution_count": null,
      "metadata": {
        "id": "TxVyj94zTPq4"
      },
      "outputs": [],
      "source": [
        "# Define the datasets to be used (a list of CSV paths). The datasets used here are high quality medical datasets\n",
        "config.train.datasets = ['./prepared_generated_data_for_nhs_uk_qa.csv',\n",
        "                         './prepared_generated_data_for_nhs_uk_conversations.csv',\n",
        "                         './prepared_generated_data_for_medical_tasks.csv']"
      ]
    },
    {
      "cell_type": "code",
      "execution_count": null,
      "metadata": {
        "colab": {
          "base_uri": "https://localhost:8080/",
          "height": 66,
          "referenced_widgets": [
            "9cd777c80ec346bda81e3dc107ce36c5",
            "a803a832a92449bbb144f07469875896",
            "cfd47a87b4d44da69f688cbeedacd94f",
            "4b1867b849c148afa39110922c976f92",
            "8b698b08bee941348105c6d6f82bdc3a",
            "39263255302942b78b3c9ad12171a853",
            "d483ae2ef8184a69864922fb270f061d",
            "b361460e128e4c8e8188d21b1d29fec2",
            "cf49b8eea7414985a10c3a1385080505",
            "2e4bdbe0fb114b4a8220b00f6a6ca33d",
            "af5080f3dccd4700aa28b941ca3755e0"
          ]
        },
        "id": "7HC7Gai6TJ33",
        "outputId": "fac1eb4f-96b4-41c0-fe11-cb546f647545"
      },
      "outputs": [
        {
          "output_type": "display_data",
          "data": {
            "text/plain": [
              "Generating train split: 0 examples [00:00, ? examples/s]"
            ],
            "application/vnd.jupyter.widget-view+json": {
              "version_major": 2,
              "version_minor": 0,
              "model_id": "9cd777c80ec346bda81e3dc107ce36c5"
            }
          },
          "metadata": {}
        },
        {
          "output_type": "stream",
          "name": "stdout",
          "text": [
            "Shuffling dataset!\n"
          ]
        }
      ],
      "source": [
        "# Load datasets and shuffle if needed\n",
        "train_dataset = datasets.Dataset.from_csv(config.train.datasets)\n",
        "if config.train.shuffle_dataset:\n",
        "    train_dataset = train_dataset.shuffle()\n",
        "    print(\"Shuffling dataset!\")"
      ]
    },
    {
      "cell_type": "code",
      "execution_count": null,
      "metadata": {
        "colab": {
          "base_uri": "https://localhost:8080/"
        },
        "id": "9vW4gvFaVQwy",
        "outputId": "3970784e-b4dc-46b9-801c-eb7bbfa28838"
      },
      "outputs": [
        {
          "output_type": "execute_result",
          "data": {
            "text/plain": [
              "Dataset({\n",
              "    features: ['text', 'raw_data_id'],\n",
              "    num_rows: 31708\n",
              "})"
            ]
          },
          "metadata": {},
          "execution_count": 10
        }
      ],
      "source": [
        "# Check the size of the dataset and columns\n",
        "train_dataset"
      ]
    },
    {
      "cell_type": "code",
      "execution_count": null,
      "metadata": {
        "colab": {
          "base_uri": "https://localhost:8080/",
          "height": 123
        },
        "id": "Y22KmIZpYb1O",
        "outputId": "47be8b68-d7fd-4893-9e59-d57090237c48",
        "collapsed": true
      },
      "outputs": [
        {
          "output_type": "execute_result",
          "data": {
            "text/plain": [
              "\"<|user|> Explain the process of diagnosing a patient with chronic obstructive pulmonary disease (COPD). <|eos|> <|ai|> Diagnosing a patient with chronic obstructive pulmonary disease (COPD) involves a series of steps: \\n1. Taking a thorough medical history to understand the patient's symptoms, risk factors, and family history. \\n2. Performing a physical examination, focusing on the respiratory system and checking for signs such as wheezing or decreased breath sounds.\\n3. Conducting a pulmonary function test (PFT), particularly spirometry, which measures the volume and speed of air that the patient can inhale and exhale. A reduced forced expiratory volume in 1 second (FEV1) and a low FEV1/FVC (forced vital capacity) ratio can indicate COPD. \\n4. Ordering a chest X-ray or CT scan to look for physical abnormalities in the lungs, such as hyperinflation or bullae.\\n5. Performing a complete blood count (CBC) and arterial blood gas (ABG) test to assess oxygen and carbon dioxide levels in the blood.\\n6. Considering differential diagnoses and then confirming the COPD diagnosis based on the results of these tests and the patient's clinical presentation. <|eos|> <|eod|>\""
            ],
            "application/vnd.google.colaboratory.intrinsic+json": {
              "type": "string"
            }
          },
          "metadata": {},
          "execution_count": 11
        }
      ],
      "source": [
        "# the text part will be used to train our model, note the special tokens that are required for training\n",
        "# models with OpenGPT (check the config file in the OpenGPT repo for explanations)\n",
        "train_dataset[0]['text']"
      ]
    },
    {
      "cell_type": "code",
      "execution_count": null,
      "metadata": {
        "id": "Jr7Sv5fbYdSf"
      },
      "outputs": [],
      "source": [
        "# Remove everything but text\n",
        "to_remove = list(train_dataset.column_names)\n",
        "to_remove.remove('text')\n",
        "train_dataset = train_dataset.remove_columns(to_remove)"
      ]
    },
    {
      "cell_type": "code",
      "execution_count": null,
      "metadata": {
        "colab": {
          "base_uri": "https://localhost:8080/",
          "height": 150,
          "referenced_widgets": [
            "e9226056c918411eb8bf5a5679d63d2c",
            "6eb07ce5c0c94f36a677ca38707d3822",
            "eaa36432b3c24c318c53ab91d21c70a9",
            "7153a731261d4c1ab41b93e32921b89e",
            "62b18a8e4381404d93006d5815e7f2d5",
            "e189c1fbe0c84286ac5f75c1b859c225",
            "97548c47932343e6b29b42be07f026fa",
            "aeebd3f7eebe4b98bdae1b56292df013",
            "c20858f4a1b44a2989d5a0ca38192b1f",
            "d0104b8a4aea4a619fdaf4782ecda5d0",
            "891035ebecd74750b079f814efae71db",
            "ebd02299f399462889b4d3134aa7f39e",
            "90ef7a3900e94f7388f44003fc3233dc",
            "6cf5bd39c2094ae4b77f48dbf85d269d",
            "29d5528c64c043ca83f598bcd0fa319a",
            "1476789146e345b885cb6c9f83655369",
            "afbf9e0daee2482f900921f7f54c29f4",
            "f5af640746824b0ba2d1e4d85cf6439b",
            "3d7d1499fd8443c6a0b64ca91149f1bc",
            "921e508a0b544ac1a3fd2062b3416ca8",
            "5c01683ec53b4db2b2c2826dda29bb52",
            "7daa64b009d2496da4d0c710c101e665",
            "7f0f98ec920a43288d41ca371f0c52a9",
            "129e261d95d34b8bbbe126adbfc1cf55",
            "428ebb4bc57946e0994df7e24ec27858",
            "fa360fe22ae144348755a44ff4f9f7b0",
            "8d962ab153754d70982ad6f4c4fe52f0",
            "baa99d3f0f064ba5ad47cc72b527af0d",
            "0b8f64e45fbb44058862afde84d221b3",
            "ff6a3826658c44f4bb456857e4922917",
            "8c34c6875d844f0ba8c75caa5cd5bb28",
            "896f9418368440138873e4692c683a1c",
            "28870ed8644841cda0c78b95554a8719"
          ]
        },
        "id": "QJO5oEC0YzuC",
        "outputId": "d9df6b87-d3b1-4727-bdc1-9cb9c4aefc6b"
      },
      "outputs": [
        {
          "output_type": "display_data",
          "data": {
            "text/plain": [
              "Map:   0%|          | 0/31708 [00:00<?, ? examples/s]"
            ],
            "application/vnd.jupyter.widget-view+json": {
              "version_major": 2,
              "version_minor": 0,
              "model_id": "e9226056c918411eb8bf5a5679d63d2c"
            }
          },
          "metadata": {}
        },
        {
          "output_type": "stream",
          "name": "stderr",
          "text": [
            "Token indices sequence length is longer than the specified maximum sequence length for this model (660 > 512). Running this sequence through the model will result in indexing errors\n"
          ]
        },
        {
          "output_type": "display_data",
          "data": {
            "text/plain": [
              "Map:   0%|          | 0/31708 [00:00<?, ? examples/s]"
            ],
            "application/vnd.jupyter.widget-view+json": {
              "version_major": 2,
              "version_minor": 0,
              "model_id": "ebd02299f399462889b4d3134aa7f39e"
            }
          },
          "metadata": {}
        },
        {
          "output_type": "display_data",
          "data": {
            "text/plain": [
              "Map:   0%|          | 0/31708 [00:00<?, ? examples/s]"
            ],
            "application/vnd.jupyter.widget-view+json": {
              "version_major": 2,
              "version_minor": 0,
              "model_id": "7f0f98ec920a43288d41ca371f0c52a9"
            }
          },
          "metadata": {}
        }
      ],
      "source": [
        "# Ignore max_seq_len warning, it is handled by the packer or data_collator\n",
        "train_dataset = train_dataset.map(\n",
        "    lambda examples: tokenizer(examples['text'], add_special_tokens=False),\n",
        "    batched=True,\n",
        "    num_proc=1,\n",
        "    remove_columns=[\"text\"])\n",
        "# Create labels for supervised training (meaning we do not train on questions, but only on answers)\n",
        "train_dataset = train_dataset.map(\n",
        "    lambda examples: create_labels(examples, config, tokenizer),\n",
        "    batched=True,\n",
        "    batch_size=1000,\n",
        "    num_proc=1,\n",
        ")\n",
        "# We only do packing for the train set\n",
        "train_dataset = train_dataset.map(\n",
        "    lambda examples: pack_examples(examples, config.train.max_seq_len, packing_type=config.train.packing_type),\n",
        "    batched=True,\n",
        "    batch_size=1000,\n",
        "    num_proc=1,\n",
        ")"
      ]
    },
    {
      "cell_type": "code",
      "execution_count": null,
      "metadata": {
        "colab": {
          "base_uri": "https://localhost:8080/"
        },
        "id": "7zZleek6dIUX",
        "outputId": "f3dc6a9f-2b23-4a6b-f68e-4328a108d0ce"
      },
      "outputs": [
        {
          "output_type": "stream",
          "name": "stdout",
          "text": [
            "50265 -100 1\n",
            "48142 -100 1\n",
            "225 -100 1\n",
            "88 -100 1\n",
            "76 -100 1\n",
            "73 -100 1\n",
            "1149 -100 1\n",
            "292 -100 1\n",
            "49879 -100 1\n",
            "225 -100 1\n"
          ]
        }
      ],
      "source": [
        "# Check the new train_dataset (take note of how the labels look). The USER (Question) part of the input should have a label of -100,\n",
        "# and the AI part (Answer) should have labels equal to input_ids\n",
        "for i in range(10):\n",
        "    print(train_dataset[0]['input_ids'][i], train_dataset[0]['labels'][i], train_dataset[0]['attention_mask'][i])"
      ]
    },
    {
      "cell_type": "code",
      "execution_count": null,
      "metadata": {
        "id": "aBkU70z9Y1dY"
      },
      "outputs": [],
      "source": [
        "# Load the HF training arguments and make the data collator\n",
        "training_args = TrainingArguments(**config.train.hf_training_arguments.to_dict())\n",
        "dc = DataCollatorWithPadding(tokenizer.pad_token_id, config.train.ignore_index, max_seq_len=config.train.max_seq_len)\n",
        "\n",
        "# We are using HF trainer to train our models\n",
        "trainer = Trainer(\n",
        "    model=model,\n",
        "    args=training_args,\n",
        "    train_dataset=train_dataset,\n",
        "    eval_dataset=None,\n",
        "    data_collator=dc,\n",
        ")"
      ]
    },
    {
      "cell_type": "code",
      "execution_count": null,
      "metadata": {
        "id": "u4eFohWvZDjz",
        "colab": {
          "base_uri": "https://localhost:8080/",
          "height": 384
        },
        "outputId": "adc54ec6-a4c9-48d9-c86c-a2b58b52229e"
      },
      "outputs": [
        {
          "output_type": "stream",
          "name": "stderr",
          "text": [
            "/usr/local/lib/python3.10/dist-packages/transformers/optimization.py:521: FutureWarning: This implementation of AdamW is deprecated and will be removed in a future version. Use the PyTorch implementation torch.optim.AdamW instead, or set `no_deprecation_warning=True` to disable this warning\n",
            "  warnings.warn(\n"
          ]
        },
        {
          "output_type": "display_data",
          "data": {
            "text/plain": [
              "<IPython.core.display.HTML object>"
            ],
            "text/html": [
              "\n",
              "    <div>\n",
              "      \n",
              "      <progress value='735' max='735' style='width:300px; height:20px; vertical-align: middle;'></progress>\n",
              "      [735/735 27:00, Epoch 0/1]\n",
              "    </div>\n",
              "    <table border=\"1\" class=\"dataframe\">\n",
              "  <thead>\n",
              " <tr style=\"text-align: left;\">\n",
              "      <th>Step</th>\n",
              "      <th>Training Loss</th>\n",
              "    </tr>\n",
              "  </thead>\n",
              "  <tbody>\n",
              "    <tr>\n",
              "      <td>100</td>\n",
              "      <td>1.604500</td>\n",
              "    </tr>\n",
              "    <tr>\n",
              "      <td>200</td>\n",
              "      <td>1.442000</td>\n",
              "    </tr>\n",
              "    <tr>\n",
              "      <td>300</td>\n",
              "      <td>1.399000</td>\n",
              "    </tr>\n",
              "    <tr>\n",
              "      <td>400</td>\n",
              "      <td>1.375900</td>\n",
              "    </tr>\n",
              "    <tr>\n",
              "      <td>500</td>\n",
              "      <td>1.347800</td>\n",
              "    </tr>\n",
              "    <tr>\n",
              "      <td>600</td>\n",
              "      <td>1.350500</td>\n",
              "    </tr>\n",
              "    <tr>\n",
              "      <td>700</td>\n",
              "      <td>1.340000</td>\n",
              "    </tr>\n",
              "  </tbody>\n",
              "</table><p>"
            ]
          },
          "metadata": {}
        },
        {
          "output_type": "execute_result",
          "data": {
            "text/plain": [
              "TrainOutput(global_step=735, training_loss=1.4040042124637941, metrics={'train_runtime': 1624.3099, 'train_samples_per_second': 7.241, 'train_steps_per_second': 0.452, 'total_flos': 2506604062464000.0, 'train_loss': 1.4040042124637941, 'epoch': 0.999829960891005})"
            ]
          },
          "metadata": {},
          "execution_count": 16
        }
      ],
      "source": [
        "# Run training, should take around 30min.\n",
        "trainer.train()"
      ]
    },
    {
      "cell_type": "markdown",
      "metadata": {
        "id": "qNyjlAh5ZGNP"
      },
      "source": [
        "# Testing"
      ]
    },
    {
      "cell_type": "code",
      "execution_count": null,
      "metadata": {
        "id": "2tJippBUcH47"
      },
      "outputs": [],
      "source": [
        "gen = pipeline(model=model, tokenizer=tokenizer, task='text-generation', device=model.device)"
      ]
    },
    {
      "cell_type": "code",
      "execution_count": null,
      "metadata": {
        "id": "vFGATjNwcJvo",
        "colab": {
          "base_uri": "https://localhost:8080/"
        },
        "outputId": "48d06918-b41e-43d5-91c1-2ac52cdb4b9b"
      },
      "outputs": [
        {
          "output_type": "stream",
          "name": "stderr",
          "text": [
            "Truncation was not explicitly activated but `max_length` is provided a specific value, please use `truncation=True` to explicitly truncate examples to max length. Defaulting to 'longest_first' truncation strategy. If you encode pairs of sequences (GLUE-style) with the tokenizer you can select this strategy more precisely by providing a specific strategy to `truncation`.\n"
          ]
        },
        {
          "output_type": "stream",
          "name": "stdout",
          "text": [
            "<|user|> What is leukaemia? <|eos|> <|ai|> Leukaemia is a condition where the body's cells become too weak to produce enough oxygen. It's a common cause of cancer in the UK.\n",
            "References:\n",
            "- https://www.nhs.uk/conditions/cancer/causes/  <|eod|> <|eod|> <|ai|> The patient's symptoms include a high temperature, shortness of breath, and a high temperature. The doctor may recommend a blood test to check for any abnormalities in the blood.\n",
            "References:\n",
            "- https://\n",
            "User questions and LLM responses saved to user_llm_data.csv\n"
          ]
        }
      ],
      "source": [
        "#Let's ask the trained model some questions\n",
        "t = \"<|user|> What is leukaemia? <|eos|> <|ai|>\" # The format with special tokens is required, because of training\n",
        "response = gen(t, do_sample=True, max_length=128, temperature=0.2)[0]['generated_text']\n",
        "print(response)\n",
        "\n",
        "# Store user questions and LLM responses to a DataFrame\n",
        "data = {'text': [response],'raw_data_id': [0]}\n",
        "df = pd.DataFrame(data)\n",
        "\n",
        "# Save DataFrame to a CSV file\n",
        "df.to_csv('user_llm_data.csv', index=False)\n",
        "print(\"User questions and LLM responses saved to user_llm_data.csv\")"
      ]
    },
    {
      "cell_type": "code",
      "execution_count": null,
      "metadata": {
        "id": "s6cKjQohcg9D",
        "colab": {
          "base_uri": "https://localhost:8080/"
        },
        "outputId": "b71b2257-7110-4096-a73d-cc6ef867b4c1"
      },
      "outputs": [
        {
          "output_type": "stream",
          "name": "stdout",
          "text": [
            "<|user|> What are the symptoms of leukaemia? <|eos|> <|ai|> The symptoms of leukaemia include feeling tired, feeling sick, and feeling sick.\n",
            "References:\n",
            "- https://www.nhs.uk/conditions/leukaemia/  <|eod|> <|ai|> Symptoms of leukaemia include feeling tired, feeling sick, and feeling sick.\n",
            "References:\n",
            "- https://www.nhs.uk/conditions/leukaemia/  <|eod|> <|ai|> The symptoms of leukaemia can include a high temperature, feeling hot, and feeling sick.\n",
            "References:\n",
            "\n",
            "User questions and LLM responses saved to user_llm_data.csv\n"
          ]
        }
      ],
      "source": [
        "t = \"<|user|> What are the symptoms of leukaemia? <|eos|> <|ai|>\"\n",
        "response = gen(t, do_sample=True, max_length=128, temperature=0.2)[0]['generated_text']\n",
        "print(response)\n",
        "\n",
        "#Read user_llm_data.csv\n",
        "user_llm = pd.read_csv('user_llm_data.csv')\n",
        "\n",
        "# Store user questions and LLM responses to a DataFrame\n",
        "data = {'text': [response],'raw_data_id': [0]}\n",
        "df = pd.DataFrame(data)\n",
        "\n",
        "new_user_llm = pd.concat([user_llm, df], ignore_index=True)\n",
        "\n",
        "# Save DataFrame to a CSV file\n",
        "new_user_llm.to_csv('user_llm_data.csv', index=False)\n",
        "print(\"User questions and LLM responses saved to user_llm_data.csv\")"
      ]
    },
    {
      "cell_type": "code",
      "execution_count": null,
      "metadata": {
        "id": "lg_-MI0JfbgB",
        "colab": {
          "base_uri": "https://localhost:8080/"
        },
        "outputId": "b8c74da8-8694-44fa-e03c-5a8a64b1b65e"
      },
      "outputs": [
        {
          "output_type": "stream",
          "name": "stdout",
          "text": [
            "<|user|> Can leukaemia be cured? <|eos|> <|ai|> Yes, treatment for leukaemia can be effective in some cases. However, it is important to discuss the treatment options with your doctor.\n",
            "References:\n",
            "- https://www.nhs.uk/conditions/leukaemia/treatment/  <|eod|> <|ai|> Treatment for leukaemia involves a combination of lifestyle changes, medication, and surgery. The main treatment options include surgery, where a small incision is made in the neck to remove the cancerous cells, and chemotherapy, where a small amount\n",
            "User questions and LLM responses saved to user_llm_data.csv\n"
          ]
        }
      ],
      "source": [
        "t = \"<|user|> Can leukaemia be cured? <|eos|> <|ai|>\"\n",
        "response = gen(t, do_sample=True, max_length=128, temperature=0.2)[0]['generated_text']\n",
        "print(response)\n",
        "\n",
        "#Read user_llm_data.csv\n",
        "user_llm = pd.read_csv('user_llm_data.csv')\n",
        "\n",
        "# Store user questions and LLM responses to a DataFrame\n",
        "data = {'text': [response],'raw_data_id': [0]}\n",
        "df = pd.DataFrame(data)\n",
        "\n",
        "new_user_llm = pd.concat([user_llm, df], ignore_index=True)\n",
        "\n",
        "# Save DataFrame to a CSV file\n",
        "new_user_llm.to_csv('user_llm_data.csv', index=False)\n",
        "print(\"User questions and LLM responses saved to user_llm_data.csv\")"
      ]
    },
    {
      "cell_type": "code",
      "execution_count": null,
      "metadata": {
        "id": "_hXRmty3f2m2",
        "colab": {
          "base_uri": "https://localhost:8080/"
        },
        "outputId": "7e1f2e6d-2afc-42e8-cd33-0f07d0e2fcd6"
      },
      "outputs": [
        {
          "output_type": "stream",
          "name": "stdout",
          "text": [
            "<|user|> Is leukaemia a type of cancer? <|eos|> <|ai|> Leukaemia is a type of cancer that can affect the immune system, causing symptoms such as a high temperature, feeling sick, and feeling sick.\n",
            "References:\n",
            "- https://www.nhs.uk/conditions/leukaemia/  <|eod|>: The symptoms of a rare but serious condition called aortic aneurysm can include a sudden onset of chest pain, a high temperature, and a high temperature.\n",
            "References:\n",
            "- https://www.nhs.uk/\n",
            "User questions and LLM responses saved to user_llm_data.csv\n"
          ]
        }
      ],
      "source": [
        "t = \"<|user|> Is leukaemia a type of cancer? <|eos|> <|ai|>\"\n",
        "response = gen(t, do_sample=True, max_length=128, temperature=0.2)[0]['generated_text']\n",
        "print(response)\n",
        "\n",
        "#Read user_llm_data.csv\n",
        "user_llm = pd.read_csv('user_llm_data.csv')\n",
        "\n",
        "# Store user questions and LLM responses to a DataFrame\n",
        "data = {'text': [response],'raw_data_id': [0]}\n",
        "df = pd.DataFrame(data)\n",
        "\n",
        "new_user_llm = pd.concat([user_llm, df], ignore_index=True)\n",
        "\n",
        "# Save DataFrame to a CSV file\n",
        "new_user_llm.to_csv('user_llm_data.csv', index=False)\n",
        "print(\"User questions and LLM responses saved to user_llm_data.csv\")"
      ]
    },
    {
      "cell_type": "code",
      "execution_count": null,
      "metadata": {
        "id": "dMomsHjRgB7j",
        "colab": {
          "base_uri": "https://localhost:8080/"
        },
        "outputId": "1a32cb7b-abea-4fd8-8646-98460163fc02"
      },
      "outputs": [
        {
          "output_type": "stream",
          "name": "stdout",
          "text": [
            "<|user|> Choose the correct option about leukaemia. a) leukaemia is a type of blood cancer. b) leukaemia is a kind of fruit. <|eos|> <|ai|> Choose the correct option about leukaemia. a) leukaemia is a type of blood cancer. b) leukaemia is a type of fruit.  <|eod|> <|ai|> Leukaemia is a type of blood cancer that can affect the body's ability to produce enough oxygen to survive. It is a serious condition that requires lifelong treatment.  \n",
            "User questions and LLM responses saved to user_llm_data.csv\n"
          ]
        }
      ],
      "source": [
        "# And a couple more quesetions, e.g. an MCQ (The correct answer is A)\n",
        "t = \"<|user|> Choose the correct option about leukaemia. a) leukaemia is a type of blood cancer. b) leukaemia is a kind of fruit. <|eos|> <|ai|>\"\n",
        "response = gen(t, do_sample=True, max_length=128, temperature=0.2)[0]['generated_text']\n",
        "print(response)\n",
        "\n",
        "#Read user_llm_data.csv\n",
        "user_llm = pd.read_csv('user_llm_data.csv')\n",
        "\n",
        "# Store user questions and LLM responses to a DataFrame\n",
        "data = {'text': [response],'raw_data_id': [0]}\n",
        "df = pd.DataFrame(data)\n",
        "\n",
        "new_user_llm = pd.concat([user_llm, df], ignore_index=True)\n",
        "\n",
        "# Save DataFrame to a CSV file\n",
        "new_user_llm.to_csv('user_llm_data.csv', index=False)\n",
        "print(\"User questions and LLM responses saved to user_llm_data.csv\")"
      ]
    },
    {
      "cell_type": "code",
      "execution_count": null,
      "metadata": {
        "id": "_wkgmV2rhdn5",
        "colab": {
          "base_uri": "https://localhost:8080/"
        },
        "outputId": "1c8c7886-406d-43dd-af1c-cdffee905d71"
      },
      "outputs": [
        {
          "output_type": "stream",
          "name": "stdout",
          "text": [
            "<|user|> I had a high fever for the past 3 days, do i have leukaemia? <|eos|> <|ai|> Yes, you should see a GP if you have a high fever.\n",
            "References:\n",
            "- https://www.nhs.uk/conditions/leukaemia/  <|eod|> <|ai|> The symptoms of high fever can include a high temperature, chills, a high temperature, and a high temperature. It's important to get medical attention if you experience any of these symptoms.\n",
            "References:\n",
            "- https://www.nhs.uk/conditions/high\n",
            "User questions and LLM responses saved to user_llm_data.csv\n"
          ]
        }
      ],
      "source": [
        "t = \"<|user|> I had a high fever for the past 3 days, do i have leukaemia? <|eos|> <|ai|>\"\n",
        "response = gen(t, do_sample=True, max_length=128, temperature=0.2)[0]['generated_text']\n",
        "print(response)\n",
        "\n",
        "#Read user_llm_data.csv\n",
        "user_llm = pd.read_csv('user_llm_data.csv')\n",
        "\n",
        "# Store user questions and LLM responses to a DataFrame\n",
        "data = {'text': [response],'raw_data_id': [0]}\n",
        "df = pd.DataFrame(data)\n",
        "\n",
        "new_user_llm = pd.concat([user_llm, df], ignore_index=True)\n",
        "\n",
        "# Save DataFrame to a CSV file\n",
        "new_user_llm.to_csv('user_llm_data.csv', index=False)\n",
        "print(\"User questions and LLM responses saved to user_llm_data.csv\")"
      ]
    },
    {
      "cell_type": "code",
      "execution_count": null,
      "metadata": {
        "id": "j7bbggPXRR6L",
        "colab": {
          "base_uri": "https://localhost:8080/"
        },
        "outputId": "03f55a1b-ee37-4696-d919-950c482ead44"
      },
      "outputs": [
        {
          "output_type": "stream",
          "name": "stdout",
          "text": [
            "<|user|> Tell me something about leukaemia. <|eos|> <|ai|> Leukaemia is a type of cancer that affects the blood vessels in the brain. It is a type of cancer that affects the blood cells that supply the brain with oxygen. It is a serious condition that requires prompt medical attention.\n",
            "References:\n",
            "- https://www.nhs.uk/conditions/leukaemia/  <|eod|> <|ai|> The symptoms of leukaemia can include a high temperature, feeling sick, feeling tired, feeling sick, feeling sick, feeling sick\n",
            "User questions and LLM responses saved to user_llm_data.csv\n"
          ]
        }
      ],
      "source": [
        "t = \"<|user|> Tell me something about leukaemia. <|eos|> <|ai|>\"\n",
        "response = gen(t, do_sample=True, max_length=128, temperature=0.2)[0]['generated_text']\n",
        "print(response)\n",
        "\n",
        "#Read user_llm_data.csv\n",
        "user_llm = pd.read_csv('user_llm_data.csv')\n",
        "\n",
        "# Store user questions and LLM responses to a DataFrame\n",
        "data = {'text': [response],'raw_data_id': [0]}\n",
        "df = pd.DataFrame(data)\n",
        "\n",
        "new_user_llm = pd.concat([user_llm, df], ignore_index=True)\n",
        "\n",
        "# Save DataFrame to a CSV file\n",
        "new_user_llm.to_csv('user_llm_data.csv', index=False)\n",
        "print(\"User questions and LLM responses saved to user_llm_data.csv\")"
      ]
    },
    {
      "cell_type": "code",
      "execution_count": null,
      "metadata": {
        "id": "OVEz6qeWkE3-",
        "colab": {
          "base_uri": "https://localhost:8080/"
        },
        "outputId": "81fa4e3a-a5a2-46f5-ebed-57eeff2f257d"
      },
      "outputs": [
        {
          "output_type": "stream",
          "name": "stdout",
          "text": [
            "Average Cosine Similarity Score:12.42%\n"
          ]
        }
      ],
      "source": [
        "#Read training dataset.csv\n",
        "training = pd.read_csv('/content/Leukaemia.csv')\n",
        "\n",
        "# Convert the text data in both DataFrames to lowercase\n",
        "training ['text'] = training ['text'].str.lower()\n",
        "new_user_llm['text'] = new_user_llm['text'].str.lower()\n",
        "\n",
        "# Create TF-IDF vectors for the training data and response data\n",
        "vectorizer = TfidfVectorizer()\n",
        "training_tfidf = vectorizer.fit_transform(training ['text'])\n",
        "response_tfidf = vectorizer.transform(new_user_llm['text'])\n",
        "\n",
        "# Compute cosine similarity between response data and training data\n",
        "similarity_scores = cosine_similarity(response_tfidf, training_tfidf)\n",
        "average_similarity_score = np.mean(similarity_scores)\n",
        "\n",
        "# Print the average similarity score\n",
        "print(f\"Average Cosine Similarity Score:{average_similarity_score * 100:.2f}%\")"
      ]
    },
    {
      "cell_type": "code",
      "source": [
        "# List of test prompts and their references\n",
        "test_prompts = [\n",
        "    (\"<|user|> What is leukaemia? <|eos|> <|ai|>\", \"Leukaemia is a type of blood cancer.\"),\n",
        "    (\"<|user|> What are the symptoms of leukaemia? <|eos|> <|ai|>\", \"Symptoms of leukaemia include fatigue, fever, frequent infections, and bleeding or bruising easily.\"),\n",
        "    (\"<|user|> Can leukaemia be cured? <|eos|> <|ai|>\", \"Treatment can lead to remission, but a cure is not always possible.\"),\n",
        "    (\"<|user|> Is leukaemia a type of cancer? <|eos|> <|ai|>\", \"Yes, leukaemia is a type of blood cancer.\"),\n",
        "    (\"<|user|> Choose the correct option about leukaemia. a) leukaemia is a type of blood cancer. b) leukaemia is a kind of fruit. <|eos|> <|ai|>\", \"a) leukaemia is a type of blood cancer.\"),\n",
        "    (\"<|user|> I had a high fever for the past 3 days, do I have leukaemia? <|eos|> <|ai|>\", \"High fever can be a symptom, but it does not necessarily mean you have leukaemia. Consult a doctor for proper diagnosis.\"),\n",
        "    (\"<|user|> Tell me something about leukaemia. <|eos|> <|ai|>\", \"Leukaemia is a type of cancer that affects the blood and bone marrow.\")\n",
        "]\n",
        "\n",
        "references = [ref for a, ref in test_prompts]\n",
        "predictions = []\n",
        "\n",
        "# Generate predictions\n",
        "for prompt, a in test_prompts:\n",
        "    response = gen(prompt, do_sample=True, max_length=128, temperature=0.2)[0]['generated_text']\n",
        "    predictions.append(response)\n",
        "    print(response)"
      ],
      "metadata": {
        "id": "BvsE3DfYJ_eR",
        "colab": {
          "base_uri": "https://localhost:8080/"
        },
        "outputId": "49a8f41a-150a-4473-8da1-dc7175d3b646"
      },
      "execution_count": null,
      "outputs": [
        {
          "output_type": "stream",
          "name": "stdout",
          "text": [
            "<|user|> What is leukaemia? <|eos|> <|ai|> Leukaemia is a type of cancer that can affect the blood and bone marrow. It is caused by a faulty gene that is passed on from mother to child.\n",
            "References:\n",
            "- https://www.nhs.uk/conditions/leukaemia/  <|eod|> <|ai|> Leukaemia is a rare but serious cancer that can affect the blood and bone marrow. It is caused by a faulty gene that is passed on from mother to child.\n",
            "References:\n",
            "- https://www.nhs.uk\n",
            "<|user|> What are the symptoms of leukaemia? <|eos|> <|ai|> The symptoms of leukaemia include a high temperature, feeling sick, feeling tired, and being sick.\n",
            "References:\n",
            "- https://www.nhs.uk/conditions/leukaemia/  <|eod|> <|ai|> Symptoms of leukaemia include a high temperature, feeling sick, feeling tired, and being sick.\n",
            "References:\n",
            "- https://www.nhs.uk/conditions/leukaemia/  <|eod|> <|ai|> The symptoms of leukaemia can include a high temperature, feeling\n"
          ]
        },
        {
          "output_type": "stream",
          "name": "stderr",
          "text": [
            "You seem to be using the pipelines sequentially on GPU. In order to maximize efficiency please use a dataset\n"
          ]
        },
        {
          "output_type": "stream",
          "name": "stdout",
          "text": [
            "<|user|> Can leukaemia be cured? <|eos|> <|ai|> Yes, leukaemia can be cured. However, it is important to monitor the condition closely and to seek medical advice if you're worried about your chances of developing the condition.\n",
            "References:\n",
            "- https://www.nhs.uk/conditions/leukaemia/  <|eod|> <|ai|> The most common cause of leukaemia is a faulty gene that causes the cells to produce too much oxygen. This can lead to a range of symptoms, including fatigue, weight loss, and a high temperature\n",
            "<|user|> Is leukaemia a type of cancer? <|eos|> <|ai|> Yes, leukaemia is a type of cancer that can be caused by a variety of conditions, including a genetic mutation, a chromosomal abnormality, or a genetic disorder.\n",
            "References:\n",
            "- https://www.nhs.uk/conditions/leukaemia/causes/  <|eod|> <|ai|> Leukaemia is a type of cancer that can be caused by a variety of conditions, including a faulty gene, a faulty gene mutation, a faulty gene mutation, a faulty\n",
            "<|user|> Choose the correct option about leukaemia. a) leukaemia is a type of blood cancer. b) leukaemia is a kind of fruit. <|eos|> <|ai|> Choose the correct option about leukaemia. a) leukaemia is a type of blood cancer. b) leukaemia is a type of blood cancer.  <|eod|> <|ai|> The correct choice for the correct treatment for leukaemia is to use a combination of chemotherapy and radiotherapy. The combination of chemotherapy and radiotherapy can help to reduce th\n",
            "<|user|> I had a high fever for the past 3 days, do I have leukaemia? <|eos|> <|ai|> Yes, you should have a high fever for the past 3 days. This is because your body is trying to kill the bacteria that cause the infection.\n",
            "References:\n",
            "- https://www.nhs.uk/conditions/leukaemia/  <|eod|> <|ai|> If you have a high fever, you should not drink too much alcohol. You should also avoid eating too much alcohol.\n",
            "References:\n",
            "- https://www.\n",
            "<|user|> Tell me something about leukaemia. <|eos|> <|ai|> Leukaemia is a blood disorder that affects the body's ability to produce red blood cells. It's a type of blood disorder that affects the body's ability to produce red blood cells.\n",
            "References:\n",
            "- https://www.nhs.uk/conditions/leukaemia/  <|eod|> <|ai|> The main cause of leukaemia is a faulty gene that causes the cells to produce a faulty protein called a thyrokinase. This protein is responsible for the\n"
          ]
        }
      ]
    },
    {
      "cell_type": "code",
      "source": [
        "# Tokenize references and predictions\n",
        "tokenized_references = [tokenizer.encode(ref, add_special_tokens=False) for ref in references]\n",
        "tokenized_predictions = [tokenizer.encode(pred, add_special_tokens=False) for pred in predictions]\n",
        "\n",
        "# Ensure that each list of tokens is the same length by truncating or padding\n",
        "max_len = max(len(seq) for seq in tokenized_references + tokenized_predictions)\n",
        "tokenized_references = [seq + [tokenizer.pad_token_id] * (max_len - len(seq)) for seq in tokenized_references]\n",
        "tokenized_predictions = [seq + [tokenizer.pad_token_id] * (max_len - len(seq)) for seq in tokenized_predictions]\n",
        "\n",
        "# Flatten the lists\n",
        "flat_references = [token for seq in tokenized_references for token in seq]\n",
        "flat_predictions = [token for seq in tokenized_predictions for token in seq]\n",
        "\n",
        "# Calculate Precision, Recall, and F1 Score\n",
        "precision = precision_score(flat_references, flat_predictions, average='macro', zero_division=1)\n",
        "recall = recall_score(flat_references, flat_predictions, average='macro', zero_division=1)\n",
        "f1 = f1_score(flat_references, flat_predictions, average='macro', zero_division=1)\n",
        "\n",
        "print(f\"Precision: {precision * 100:.2f}%\")\n",
        "print(f\"Recall: {recall * 100:.2f}%\")\n",
        "print(f\"F1 Score: {f1 * 100:.2f}%\")"
      ],
      "metadata": {
        "id": "6-vBkbMOKG39",
        "colab": {
          "base_uri": "https://localhost:8080/"
        },
        "outputId": "6ac65a9f-a742-43c3-8123-831af35c6e60"
      },
      "execution_count": null,
      "outputs": [
        {
          "output_type": "stream",
          "name": "stdout",
          "text": [
            "Precision: 12.65%\n",
            "Recall: 70.33%\n",
            "F1 Score: 0.14%\n"
          ]
        }
      ]
    },
    {
      "cell_type": "code",
      "source": [
        "# Calculate BLEU scores\n",
        "bleu_scores = []\n",
        "for pred, ref in zip(predictions, references):\n",
        "    score = sentence_bleu([ref.split()], pred.split())\n",
        "    bleu_scores.append(score)\n",
        "\n",
        "# Print average BLEU score\n",
        "average_bleu_score = sum(bleu_scores) / len(bleu_scores)\n",
        "print(f\"Average BLEU score: {average_bleu_score * 100:.2f}%\")"
      ],
      "metadata": {
        "id": "ikbpvUuZMy8t",
        "colab": {
          "base_uri": "https://localhost:8080/"
        },
        "outputId": "4b0078b2-08a9-4db0-d426-3b7e612db2fe"
      },
      "execution_count": null,
      "outputs": [
        {
          "output_type": "stream",
          "name": "stdout",
          "text": [
            "Average BLEU score: 3.40%\n"
          ]
        },
        {
          "output_type": "stream",
          "name": "stderr",
          "text": [
            "/usr/local/lib/python3.10/dist-packages/nltk/translate/bleu_score.py:552: UserWarning: \n",
            "The hypothesis contains 0 counts of 4-gram overlaps.\n",
            "Therefore the BLEU score evaluates to 0, independently of\n",
            "how many N-gram overlaps of lower order it contains.\n",
            "Consider using lower n-gram order or use SmoothingFunction()\n",
            "  warnings.warn(_msg)\n",
            "/usr/local/lib/python3.10/dist-packages/nltk/translate/bleu_score.py:552: UserWarning: \n",
            "The hypothesis contains 0 counts of 3-gram overlaps.\n",
            "Therefore the BLEU score evaluates to 0, independently of\n",
            "how many N-gram overlaps of lower order it contains.\n",
            "Consider using lower n-gram order or use SmoothingFunction()\n",
            "  warnings.warn(_msg)\n"
          ]
        }
      ]
    },
    {
      "cell_type": "markdown",
      "source": [
        "# **Untrained Model for Comparision**"
      ],
      "metadata": {
        "id": "G9TK2zRzgrTI"
      }
    },
    {
      "cell_type": "code",
      "execution_count": null,
      "metadata": {
        "id": "chQth2g5oNNq",
        "colab": {
          "base_uri": "https://localhost:8080/"
        },
        "outputId": "7798c502-3bab-4255-8590-5befe5d2680d"
      },
      "outputs": [
        {
          "output_type": "stream",
          "name": "stderr",
          "text": [
            "/usr/local/lib/python3.10/dist-packages/huggingface_hub/file_download.py:1132: FutureWarning: `resume_download` is deprecated and will be removed in version 1.0.0. Downloads always resume when possible. If you want to force a new download, use `force_download=True`.\n",
            "  warnings.warn(\n"
          ]
        }
      ],
      "source": [
        "# Finally, to show that our training works, we will also try to query an untrained model\n",
        "model_not_trained = AutoModelForCausalLM.from_pretrained(config.train.model)\n",
        "tokenizer_not_trained = AutoTokenizer.from_pretrained(config.train.model)\n",
        "gen_not_trained = pipeline(model=model_not_trained, tokenizer=tokenizer_not_trained, task='text-generation', device=model.device)"
      ]
    },
    {
      "cell_type": "code",
      "execution_count": null,
      "metadata": {
        "id": "rR1Xvzj-oMQ4",
        "colab": {
          "base_uri": "https://localhost:8080/"
        },
        "outputId": "16f09f4e-8675-43e8-a157-5268b151740e"
      },
      "outputs": [
        {
          "output_type": "stream",
          "name": "stderr",
          "text": [
            "Truncation was not explicitly activated but `max_length` is provided a specific value, please use `truncation=True` to explicitly truncate examples to max length. Defaulting to 'longest_first' truncation strategy. If you encode pairs of sequences (GLUE-style) with the tokenizer you can select this strategy more precisely by providing a specific strategy to `truncation`.\n"
          ]
        },
        {
          "output_type": "stream",
          "name": "stdout",
          "text": [
            "What is leukaemia?\n",
            "Leukaemia is a type of cancer that is caused by the cells in the body that are unable to produce enough blood to survive. It is a type of cancer that can be caused by a variety of factors, including a variety of different types of cancer.\n",
            "What is the difference between leukaemia and lymphoma?\n",
            "Leukaemia is a type of cancer that is caused by the cells in the body that are unable to produce enough blood to survive. It is a type of cancer that\n",
            "User questions and LLM responses saved to untrained_llm_data.csv\n"
          ]
        }
      ],
      "source": [
        "t = \"What is leukaemia\" # No special tokens, as this model is not trained.\n",
        "response = gen_not_trained(t, do_sample=True, max_length=128, temperature=0.2)[0]['generated_text']\n",
        "print(response)\n",
        "\n",
        "# Store user questions and LLM responses to a DataFrame\n",
        "data = {'text': [response],'raw_data_id': [0]}\n",
        "df = pd.DataFrame(data)\n",
        "\n",
        "# Save DataFrame to a CSV file\n",
        "df.to_csv('untrained_llm_data.csv', index=False)\n",
        "print(\"User questions and LLM responses saved to untrained_llm_data.csv\")"
      ]
    },
    {
      "cell_type": "code",
      "execution_count": null,
      "metadata": {
        "id": "6lAlC57dpIx2",
        "colab": {
          "base_uri": "https://localhost:8080/"
        },
        "outputId": "4f24bf0d-8135-4052-acb7-55ad7e2fdc77"
      },
      "outputs": [
        {
          "output_type": "stream",
          "name": "stdout",
          "text": [
            "What are the symptoms of leukaemia?\n",
            "Leukaemia is a disease of the blood cells that causes the body to produce more blood. This is because the body’s cells are unable to produce enough blood to keep the body healthy.\n",
            "Symptoms of leukaemia include:\n",
            "– Redness in the skin\n",
            "– Redness in the eyes\n",
            "– Redness in the throat\n",
            "– Redness in the chest\n",
            "– Redness in the abdomen\n",
            "– Redness in\n",
            "User questions and LLM responses saved to untrained_llm_data.csv\n"
          ]
        }
      ],
      "source": [
        "t = \"What are the symptoms of leukaemia?\" # No special tokens, as this model is not trained.\n",
        "response = gen_not_trained(t, do_sample=True, max_length=128, temperature=0.2)[0]['generated_text']\n",
        "print(response)\n",
        "\n",
        "#Read untrained_llm_data.csv\n",
        "untrained_llm = pd.read_csv('untrained_llm_data.csv')\n",
        "\n",
        "# Store user questions and LLM responses to a DataFrame\n",
        "data = {'text': [response],'raw_data_id': [0]}\n",
        "df = pd.DataFrame(data)\n",
        "\n",
        "new_untrained_llm = pd.concat([untrained_llm, df], ignore_index=True)\n",
        "\n",
        "# Save DataFrame to a CSV file\n",
        "new_untrained_llm.to_csv('untrained_llm_data.csv', index=False)\n",
        "print(\"User questions and LLM responses saved to untrained_llm_data.csv\")\n"
      ]
    },
    {
      "cell_type": "code",
      "execution_count": null,
      "metadata": {
        "id": "hbd-fT_gosIe",
        "colab": {
          "base_uri": "https://localhost:8080/"
        },
        "outputId": "0042fd1a-e4db-4a09-e6eb-432939517a5d"
      },
      "outputs": [
        {
          "output_type": "stream",
          "name": "stdout",
          "text": [
            "What is the cure for leukaemia?\n",
            "The cure for leukaemia is the treatment of the disease. The treatment of leukaemia is the same as for any other cancer. The treatment of leukaemia is the same as for any other cancer. The treatment of leukaemia is the same as for any other cancer.\n",
            "What is the cure for cancer?\n",
            "The cure for cancer is the treatment of the disease. The cure for cancer is the same as for any\n",
            "User questions and LLM responses saved to untrained_llm_data.csv\n"
          ]
        }
      ],
      "source": [
        "t = \"What is the cure for leukaemia?\" # Let's try a general question\n",
        "response = gen_not_trained(t, do_sample=True, max_length=128, temperature=0.2)[0]['generated_text']\n",
        "print(response)\n",
        "\n",
        "#Read untrained_llm_data.csv\n",
        "untrained_llm = pd.read_csv('untrained_llm_data.csv')\n",
        "\n",
        "# Store user questions and LLM responses to a DataFrame\n",
        "data = {'text': [response],'raw_data_id': [0]}\n",
        "df = pd.DataFrame(data)\n",
        "\n",
        "new_untrained_llm = pd.concat([untrained_llm, df], ignore_index=True)\n",
        "\n",
        "# Save DataFrame to a CSV file\n",
        "new_untrained_llm.to_csv('untrained_llm_data.csv', index=False)\n",
        "print(\"User questions and LLM responses saved to untrained_llm_data.csv\")"
      ]
    },
    {
      "cell_type": "code",
      "execution_count": null,
      "metadata": {
        "id": "HLQRUbiyKE4K",
        "colab": {
          "base_uri": "https://localhost:8080/"
        },
        "outputId": "2ff938f9-3eea-4e63-fa59-f5f7bd907056"
      },
      "outputs": [
        {
          "output_type": "stream",
          "name": "stdout",
          "text": [
            "Tell me something about leukaemia.\n",
            "I’m not sure if it’s a disease, but it’s a disease that’s very common in the United States. It’s a disease that’s very common in the United States. It’s a disease that’s very common in the United States. It’s a disease that’s very common in the United States. It’s a disease that’s very common in the United States. It’s a disease that’s very common in the United States. It’s a disease that’s very common in the United States. It’s a disease that’s very common in the United States. It’s a disease that’s very common in the United States.\n",
            "I’m not sure if it’s a disease, but it’s a disease that’s very common in the United States. It’s a disease that’s very common in the United States. It’s a disease that’s\n",
            "User questions and LLM responses saved to untrained_llm_data.csv\n"
          ]
        }
      ],
      "source": [
        "t = \"Tell me something about leukaemia.\"\n",
        "response = gen_not_trained(t, do_sample=True, max_length=256, temperature=0.2)[0]['generated_text']\n",
        "print(response)\n",
        "\n",
        "#Read untrained_llm_data.csv\n",
        "untrained_llm = pd.read_csv('untrained_llm_data.csv')\n",
        "\n",
        "# Store user questions and LLM responses to a DataFrame\n",
        "data = {'text': [response],'raw_data_id': [0]}\n",
        "df = pd.DataFrame(data)\n",
        "\n",
        "new_untrained_llm = pd.concat([untrained_llm, df], ignore_index=True)\n",
        "\n",
        "# Save DataFrame to a CSV file\n",
        "new_untrained_llm.to_csv('untrained_llm_data.csv', index=False)\n",
        "print(\"User questions and LLM responses saved to untrained_llm_data.csv\")"
      ]
    },
    {
      "cell_type": "code",
      "execution_count": null,
      "metadata": {
        "id": "7x3dsDBFpFv6",
        "colab": {
          "base_uri": "https://localhost:8080/"
        },
        "outputId": "09f36337-5c84-4cd0-e17c-dfad8d593332"
      },
      "outputs": [
        {
          "output_type": "stream",
          "name": "stdout",
          "text": [
            "Average Cosine Similarity Score:12.05%\n"
          ]
        }
      ],
      "source": [
        "#Read training dataset.csv\n",
        "training = pd.read_csv('/content/Leukaemia.csv')\n",
        "\n",
        "# Convert the text data in both DataFrames to lowercase\n",
        "training ['text'] = training ['text'].str.lower()\n",
        "new_untrained_llm['text'] = new_untrained_llm['text'].str.lower()\n",
        "\n",
        "# Create TF-IDF vectors for the training data and response data\n",
        "vectorizer = TfidfVectorizer()\n",
        "training_tfidf = vectorizer.fit_transform(training ['text'])\n",
        "response_tfidf = vectorizer.transform(new_untrained_llm['text'])\n",
        "\n",
        "# Compute cosine similarity between response data and training data\n",
        "similarity_scores = cosine_similarity(response_tfidf, training_tfidf)\n",
        "average_similarity_score = np.mean(similarity_scores)\n",
        "\n",
        "# Print the average similarity score\n",
        "print(f\"Average Cosine Similarity Score:{average_similarity_score * 100:.2f}%\")"
      ]
    },
    {
      "cell_type": "code",
      "source": [
        "# List of test prompts and their references\n",
        "test_prompts = [\n",
        "    (\"What is leukaemia?\", \"Leukaemia is a type of blood cancer.\"),\n",
        "    (\"What are the symptoms of leukaemia?\", \"Symptoms of leukaemia include fatigue, fever, frequent infections, and bleeding or bruising easily.\"),\n",
        "    (\"Can leukaemia be cured?\", \"Treatment can lead to remission, but a cure is not always possible.\"),\n",
        "    (\"Is leukaemia a type of cancer?\", \"Yes, leukaemia is a type of blood cancer.\"),\n",
        "    (\"Choose the correct option about leukaemia. a) leukaemia is a type of blood cancer. b) leukaemia is a kind of fruit.\", \"a) leukaemia is a type of blood cancer.\"),\n",
        "    (\"I had a high fever for the past 3 days, do I have leukaemia?\", \"High fever can be a symptom, but it does not necessarily mean you have leukaemia. Consult a doctor for proper diagnosis.\"),\n",
        "    (\"Tell me something about leukaemia.\", \"Leukaemia is a type of cancer that affects the blood and bone marrow.\")\n",
        "]\n",
        "\n",
        "references = [ref for a, ref in test_prompts]\n",
        "predictions = []\n",
        "\n",
        "# Generate predictions\n",
        "for prompt, a in test_prompts:\n",
        "    response = gen_not_trained(prompt, do_sample=True, max_length=128, temperature=0.2)[0]['generated_text']\n",
        "    predictions.append(response)\n",
        "    print(response)"
      ],
      "metadata": {
        "id": "ONB9q-FDgg2h",
        "colab": {
          "base_uri": "https://localhost:8080/"
        },
        "outputId": "f8dc7e25-d51c-4ea4-c5b1-9b8ae79a89da"
      },
      "execution_count": null,
      "outputs": [
        {
          "output_type": "stream",
          "name": "stdout",
          "text": [
            "What is leukaemia?\n",
            "Leukemia is a type of cancer that affects the blood cells of the body. It is a type of cancer that affects the blood cells of the body. It is a type of cancer that affects the blood cells of the body. It is a type of cancer that affects the blood cells of the body. It is a type of cancer that affects the blood cells of the body. It is a type of cancer that affects\n",
            "What are the symptoms of leukaemia?\n",
            "The symptoms of leukaemia are the same as those of other types of cancer. The symptoms of leukaemia are the same as those of other types of cancer. The symptoms of leukaemia are the same as those of other types of cancer. The symptoms of leukaemia are the same as those of other types of cancer.\n",
            "What are the signs of leukaemia?\n",
            "The signs of leukaemia are the same as those of other types of cancer. The\n",
            "Can leukaemia be cured?\n",
            "The answer is yes. The treatment of leukaemia is a very complex and challenging process. It is a complex process that requires a lot of research and a lot of time. The best way to cure leukaemia is to take the right treatment.\n",
            "What are the risks of leukaemia?\n",
            "There are many risks associated with leukaemia. The most common risk is that it can cause a number of different diseases, including cancer. Other risks include the possibility of infection, which can lead to death.\n",
            "What\n",
            "Is leukaemia a type of cancer?\n",
            "Leukaemia is a type of cancer that is caused by a mutation in the gene called leukaemia. The mutation causes the cells to produce more leukaemia cells and cause the cells to die.\n",
            "What is the risk of developing leukaemia?\n",
            "The risk of developing leukaemia is high. The risk of developing leukaemia is high because of the high amount of leukaemia cells in the body.\n",
            "What is the risk of developing le\n",
            "Choose the correct option about leukaemia. a) leukaemia is a type of blood cancer. b) leukaemia is a kind of fruit. c) leukaemia is a kind of cancer. d) leukaemia is a type of cancer. e) leukaemia is a type of cancer. f) leukaemia is a type of cancer. g) leukaemia is a type of cancer. h) leukaemia is a type of cancer. i) leukaemia is a type of cancer. j) leukaemia is\n",
            "I had a high fever for the past 3 days, do I have leukaemia?\n",
            "Yes, you do.\n",
            "What is the difference between a high fever and a low fever?\n",
            "A high fever is a fever that is elevated in the blood. A low fever is a fever that is lower in the blood.\n",
            "What is the difference between a high fever and a low fever?\n",
            "A high fever is a fever that is elevated in the blood. A low fever is a fever that is\n",
            "Tell me something about leukaemia.\n",
            "I’m not sure if it’s a disease, but it’s a disease. I’m not sure if it’s a disease, but it’s a disease.\n",
            "I’m not sure if it’s a disease, but it’s a disease.\n",
            "I’m not sure if it’s a disease.\n",
            "I’m not sure if it’s a disease.\n",
            "I’m not sure if it’s a disease.\n",
            "I’m not sure if it’s a disease\n"
          ]
        }
      ]
    },
    {
      "cell_type": "code",
      "source": [
        "# Tokenize references and predictions\n",
        "tokenized_references = [tokenizer.encode(ref, add_special_tokens=False) for ref in references]\n",
        "tokenized_predictions = [tokenizer.encode(pred, add_special_tokens=False) for pred in predictions]\n",
        "\n",
        "# Ensure that each list of tokens is the same length by truncating or padding\n",
        "max_len = max(len(seq) for seq in tokenized_references + tokenized_predictions)\n",
        "tokenized_references = [seq + [tokenizer.pad_token_id] * (max_len - len(seq)) for seq in tokenized_references]\n",
        "tokenized_predictions = [seq + [tokenizer.pad_token_id] * (max_len - len(seq)) for seq in tokenized_predictions]\n",
        "\n",
        "# Flatten the lists\n",
        "flat_references = [token for seq in tokenized_references for token in seq]\n",
        "flat_predictions = [token for seq in tokenized_predictions for token in seq]\n",
        "\n",
        "# Calculate Precision, Recall, and F1 Score\n",
        "precision = precision_score(flat_references, flat_predictions, average='macro', zero_division=1)\n",
        "recall = recall_score(flat_references, flat_predictions, average='macro', zero_division=1)\n",
        "f1 = f1_score(flat_references, flat_predictions, average='macro', zero_division=1)\n",
        "\n",
        "print(f\"Precision: {precision * 100:.2f}%\")\n",
        "print(f\"Recall: {recall * 100:.2f}%\")\n",
        "print(f\"F1 Score: {f1 * 100:.2f}%\")"
      ],
      "metadata": {
        "id": "ehKh9jn2heo2",
        "colab": {
          "base_uri": "https://localhost:8080/"
        },
        "outputId": "98ea976a-614d-42f4-e5e8-17c8b08d97a5"
      },
      "execution_count": null,
      "outputs": [
        {
          "output_type": "stream",
          "name": "stdout",
          "text": [
            "Precision: 15.77%\n",
            "Recall: 63.71%\n",
            "F1 Score: 0.02%\n"
          ]
        }
      ]
    },
    {
      "cell_type": "code",
      "source": [
        "# Calculate BLEU scores\n",
        "bleu_scores = []\n",
        "for pred, ref in zip(predictions, references):\n",
        "    score = sentence_bleu([ref.split()], pred.split())\n",
        "    bleu_scores.append(score)\n",
        "\n",
        "# Print average BLEU score\n",
        "average_bleu_score = sum(bleu_scores) / len(bleu_scores)\n",
        "print(f\"Average BLEU score: {average_bleu_score * 100:.2f}%\")"
      ],
      "metadata": {
        "id": "QEyyMoaqhfnE",
        "colab": {
          "base_uri": "https://localhost:8080/"
        },
        "outputId": "48b97194-4e10-44b6-f0f1-6cdcec1f8561"
      },
      "execution_count": null,
      "outputs": [
        {
          "output_type": "stream",
          "name": "stdout",
          "text": [
            "Average BLEU score: 2.17%\n"
          ]
        },
        {
          "output_type": "stream",
          "name": "stderr",
          "text": [
            "/usr/local/lib/python3.10/dist-packages/nltk/translate/bleu_score.py:552: UserWarning: \n",
            "The hypothesis contains 0 counts of 3-gram overlaps.\n",
            "Therefore the BLEU score evaluates to 0, independently of\n",
            "how many N-gram overlaps of lower order it contains.\n",
            "Consider using lower n-gram order or use SmoothingFunction()\n",
            "  warnings.warn(_msg)\n",
            "/usr/local/lib/python3.10/dist-packages/nltk/translate/bleu_score.py:552: UserWarning: \n",
            "The hypothesis contains 0 counts of 4-gram overlaps.\n",
            "Therefore the BLEU score evaluates to 0, independently of\n",
            "how many N-gram overlaps of lower order it contains.\n",
            "Consider using lower n-gram order or use SmoothingFunction()\n",
            "  warnings.warn(_msg)\n",
            "/usr/local/lib/python3.10/dist-packages/nltk/translate/bleu_score.py:552: UserWarning: \n",
            "The hypothesis contains 0 counts of 2-gram overlaps.\n",
            "Therefore the BLEU score evaluates to 0, independently of\n",
            "how many N-gram overlaps of lower order it contains.\n",
            "Consider using lower n-gram order or use SmoothingFunction()\n",
            "  warnings.warn(_msg)\n"
          ]
        }
      ]
    }
  ],
  "metadata": {
    "accelerator": "GPU",
    "colab": {
      "gpuType": "T4",
      "provenance": [],
      "authorship_tag": "ABX9TyPyHe01lUE8JekPlPHuQ8Jb",
      "include_colab_link": true
    },
    "kernelspec": {
      "display_name": "Python 3",
      "name": "python3"
    },
    "language_info": {
      "name": "python"
    },
    "widgets": {
      "application/vnd.jupyter.widget-state+json": {
        "0fa2f8a48006435b98abb235e3630eb5": {
          "model_module": "@jupyter-widgets/controls",
          "model_name": "HBoxModel",
          "model_module_version": "1.5.0",
          "state": {
            "_dom_classes": [],
            "_model_module": "@jupyter-widgets/controls",
            "_model_module_version": "1.5.0",
            "_model_name": "HBoxModel",
            "_view_count": null,
            "_view_module": "@jupyter-widgets/controls",
            "_view_module_version": "1.5.0",
            "_view_name": "HBoxView",
            "box_style": "",
            "children": [
              "IPY_MODEL_5e03655a846c42cd9e7bdf1080c3f2fa",
              "IPY_MODEL_2b480f1a84a04f888dd90b3b9f1b8900",
              "IPY_MODEL_fabb7fcb75594584b13bc22aca178100"
            ],
            "layout": "IPY_MODEL_ff3c338708b644f299dc32bedc384f6c"
          }
        },
        "5e03655a846c42cd9e7bdf1080c3f2fa": {
          "model_module": "@jupyter-widgets/controls",
          "model_name": "HTMLModel",
          "model_module_version": "1.5.0",
          "state": {
            "_dom_classes": [],
            "_model_module": "@jupyter-widgets/controls",
            "_model_module_version": "1.5.0",
            "_model_name": "HTMLModel",
            "_view_count": null,
            "_view_module": "@jupyter-widgets/controls",
            "_view_module_version": "1.5.0",
            "_view_name": "HTMLView",
            "description": "",
            "description_tooltip": null,
            "layout": "IPY_MODEL_09ad7f953f7c40f2a57d44a5c0e85105",
            "placeholder": "​",
            "style": "IPY_MODEL_61cb931a571e4def92676ab48f86a59d",
            "value": "config.json: 100%"
          }
        },
        "2b480f1a84a04f888dd90b3b9f1b8900": {
          "model_module": "@jupyter-widgets/controls",
          "model_name": "FloatProgressModel",
          "model_module_version": "1.5.0",
          "state": {
            "_dom_classes": [],
            "_model_module": "@jupyter-widgets/controls",
            "_model_module_version": "1.5.0",
            "_model_name": "FloatProgressModel",
            "_view_count": null,
            "_view_module": "@jupyter-widgets/controls",
            "_view_module_version": "1.5.0",
            "_view_name": "ProgressView",
            "bar_style": "success",
            "description": "",
            "description_tooltip": null,
            "layout": "IPY_MODEL_f94c5e925d7a49bfbe1548d655099682",
            "max": 907,
            "min": 0,
            "orientation": "horizontal",
            "style": "IPY_MODEL_e8e9196191634e50bdf4c3bfd7639b5f",
            "value": 907
          }
        },
        "fabb7fcb75594584b13bc22aca178100": {
          "model_module": "@jupyter-widgets/controls",
          "model_name": "HTMLModel",
          "model_module_version": "1.5.0",
          "state": {
            "_dom_classes": [],
            "_model_module": "@jupyter-widgets/controls",
            "_model_module_version": "1.5.0",
            "_model_name": "HTMLModel",
            "_view_count": null,
            "_view_module": "@jupyter-widgets/controls",
            "_view_module_version": "1.5.0",
            "_view_name": "HTMLView",
            "description": "",
            "description_tooltip": null,
            "layout": "IPY_MODEL_f044aff0033749bf9e2b13565db66698",
            "placeholder": "​",
            "style": "IPY_MODEL_e135445518464391919d2c6f5e2e5ccf",
            "value": " 907/907 [00:00&lt;00:00, 49.4kB/s]"
          }
        },
        "ff3c338708b644f299dc32bedc384f6c": {
          "model_module": "@jupyter-widgets/base",
          "model_name": "LayoutModel",
          "model_module_version": "1.2.0",
          "state": {
            "_model_module": "@jupyter-widgets/base",
            "_model_module_version": "1.2.0",
            "_model_name": "LayoutModel",
            "_view_count": null,
            "_view_module": "@jupyter-widgets/base",
            "_view_module_version": "1.2.0",
            "_view_name": "LayoutView",
            "align_content": null,
            "align_items": null,
            "align_self": null,
            "border": null,
            "bottom": null,
            "display": null,
            "flex": null,
            "flex_flow": null,
            "grid_area": null,
            "grid_auto_columns": null,
            "grid_auto_flow": null,
            "grid_auto_rows": null,
            "grid_column": null,
            "grid_gap": null,
            "grid_row": null,
            "grid_template_areas": null,
            "grid_template_columns": null,
            "grid_template_rows": null,
            "height": null,
            "justify_content": null,
            "justify_items": null,
            "left": null,
            "margin": null,
            "max_height": null,
            "max_width": null,
            "min_height": null,
            "min_width": null,
            "object_fit": null,
            "object_position": null,
            "order": null,
            "overflow": null,
            "overflow_x": null,
            "overflow_y": null,
            "padding": null,
            "right": null,
            "top": null,
            "visibility": null,
            "width": null
          }
        },
        "09ad7f953f7c40f2a57d44a5c0e85105": {
          "model_module": "@jupyter-widgets/base",
          "model_name": "LayoutModel",
          "model_module_version": "1.2.0",
          "state": {
            "_model_module": "@jupyter-widgets/base",
            "_model_module_version": "1.2.0",
            "_model_name": "LayoutModel",
            "_view_count": null,
            "_view_module": "@jupyter-widgets/base",
            "_view_module_version": "1.2.0",
            "_view_name": "LayoutView",
            "align_content": null,
            "align_items": null,
            "align_self": null,
            "border": null,
            "bottom": null,
            "display": null,
            "flex": null,
            "flex_flow": null,
            "grid_area": null,
            "grid_auto_columns": null,
            "grid_auto_flow": null,
            "grid_auto_rows": null,
            "grid_column": null,
            "grid_gap": null,
            "grid_row": null,
            "grid_template_areas": null,
            "grid_template_columns": null,
            "grid_template_rows": null,
            "height": null,
            "justify_content": null,
            "justify_items": null,
            "left": null,
            "margin": null,
            "max_height": null,
            "max_width": null,
            "min_height": null,
            "min_width": null,
            "object_fit": null,
            "object_position": null,
            "order": null,
            "overflow": null,
            "overflow_x": null,
            "overflow_y": null,
            "padding": null,
            "right": null,
            "top": null,
            "visibility": null,
            "width": null
          }
        },
        "61cb931a571e4def92676ab48f86a59d": {
          "model_module": "@jupyter-widgets/controls",
          "model_name": "DescriptionStyleModel",
          "model_module_version": "1.5.0",
          "state": {
            "_model_module": "@jupyter-widgets/controls",
            "_model_module_version": "1.5.0",
            "_model_name": "DescriptionStyleModel",
            "_view_count": null,
            "_view_module": "@jupyter-widgets/base",
            "_view_module_version": "1.2.0",
            "_view_name": "StyleView",
            "description_width": ""
          }
        },
        "f94c5e925d7a49bfbe1548d655099682": {
          "model_module": "@jupyter-widgets/base",
          "model_name": "LayoutModel",
          "model_module_version": "1.2.0",
          "state": {
            "_model_module": "@jupyter-widgets/base",
            "_model_module_version": "1.2.0",
            "_model_name": "LayoutModel",
            "_view_count": null,
            "_view_module": "@jupyter-widgets/base",
            "_view_module_version": "1.2.0",
            "_view_name": "LayoutView",
            "align_content": null,
            "align_items": null,
            "align_self": null,
            "border": null,
            "bottom": null,
            "display": null,
            "flex": null,
            "flex_flow": null,
            "grid_area": null,
            "grid_auto_columns": null,
            "grid_auto_flow": null,
            "grid_auto_rows": null,
            "grid_column": null,
            "grid_gap": null,
            "grid_row": null,
            "grid_template_areas": null,
            "grid_template_columns": null,
            "grid_template_rows": null,
            "height": null,
            "justify_content": null,
            "justify_items": null,
            "left": null,
            "margin": null,
            "max_height": null,
            "max_width": null,
            "min_height": null,
            "min_width": null,
            "object_fit": null,
            "object_position": null,
            "order": null,
            "overflow": null,
            "overflow_x": null,
            "overflow_y": null,
            "padding": null,
            "right": null,
            "top": null,
            "visibility": null,
            "width": null
          }
        },
        "e8e9196191634e50bdf4c3bfd7639b5f": {
          "model_module": "@jupyter-widgets/controls",
          "model_name": "ProgressStyleModel",
          "model_module_version": "1.5.0",
          "state": {
            "_model_module": "@jupyter-widgets/controls",
            "_model_module_version": "1.5.0",
            "_model_name": "ProgressStyleModel",
            "_view_count": null,
            "_view_module": "@jupyter-widgets/base",
            "_view_module_version": "1.2.0",
            "_view_name": "StyleView",
            "bar_color": null,
            "description_width": ""
          }
        },
        "f044aff0033749bf9e2b13565db66698": {
          "model_module": "@jupyter-widgets/base",
          "model_name": "LayoutModel",
          "model_module_version": "1.2.0",
          "state": {
            "_model_module": "@jupyter-widgets/base",
            "_model_module_version": "1.2.0",
            "_model_name": "LayoutModel",
            "_view_count": null,
            "_view_module": "@jupyter-widgets/base",
            "_view_module_version": "1.2.0",
            "_view_name": "LayoutView",
            "align_content": null,
            "align_items": null,
            "align_self": null,
            "border": null,
            "bottom": null,
            "display": null,
            "flex": null,
            "flex_flow": null,
            "grid_area": null,
            "grid_auto_columns": null,
            "grid_auto_flow": null,
            "grid_auto_rows": null,
            "grid_column": null,
            "grid_gap": null,
            "grid_row": null,
            "grid_template_areas": null,
            "grid_template_columns": null,
            "grid_template_rows": null,
            "height": null,
            "justify_content": null,
            "justify_items": null,
            "left": null,
            "margin": null,
            "max_height": null,
            "max_width": null,
            "min_height": null,
            "min_width": null,
            "object_fit": null,
            "object_position": null,
            "order": null,
            "overflow": null,
            "overflow_x": null,
            "overflow_y": null,
            "padding": null,
            "right": null,
            "top": null,
            "visibility": null,
            "width": null
          }
        },
        "e135445518464391919d2c6f5e2e5ccf": {
          "model_module": "@jupyter-widgets/controls",
          "model_name": "DescriptionStyleModel",
          "model_module_version": "1.5.0",
          "state": {
            "_model_module": "@jupyter-widgets/controls",
            "_model_module_version": "1.5.0",
            "_model_name": "DescriptionStyleModel",
            "_view_count": null,
            "_view_module": "@jupyter-widgets/base",
            "_view_module_version": "1.2.0",
            "_view_name": "StyleView",
            "description_width": ""
          }
        },
        "4c5da4dde2dc4c949dcf7c20c5b58309": {
          "model_module": "@jupyter-widgets/controls",
          "model_name": "HBoxModel",
          "model_module_version": "1.5.0",
          "state": {
            "_dom_classes": [],
            "_model_module": "@jupyter-widgets/controls",
            "_model_module_version": "1.5.0",
            "_model_name": "HBoxModel",
            "_view_count": null,
            "_view_module": "@jupyter-widgets/controls",
            "_view_module_version": "1.5.0",
            "_view_name": "HBoxView",
            "box_style": "",
            "children": [
              "IPY_MODEL_f7f1c1dee54c4f3f81b45c653f33e7bd",
              "IPY_MODEL_9bbe945c33994bcf8c2b2513b6580cd7",
              "IPY_MODEL_069547f93a4c4a38808b84e328912a58"
            ],
            "layout": "IPY_MODEL_4caf3940c62243eab4212bfa04529dd0"
          }
        },
        "f7f1c1dee54c4f3f81b45c653f33e7bd": {
          "model_module": "@jupyter-widgets/controls",
          "model_name": "HTMLModel",
          "model_module_version": "1.5.0",
          "state": {
            "_dom_classes": [],
            "_model_module": "@jupyter-widgets/controls",
            "_model_module_version": "1.5.0",
            "_model_name": "HTMLModel",
            "_view_count": null,
            "_view_module": "@jupyter-widgets/controls",
            "_view_module_version": "1.5.0",
            "_view_name": "HTMLView",
            "description": "",
            "description_tooltip": null,
            "layout": "IPY_MODEL_4c9c3e08dc6d45819aaac5b68decbe81",
            "placeholder": "​",
            "style": "IPY_MODEL_0126793fccdf4ba9a91939d1998011c0",
            "value": "pytorch_model.bin: 100%"
          }
        },
        "9bbe945c33994bcf8c2b2513b6580cd7": {
          "model_module": "@jupyter-widgets/controls",
          "model_name": "FloatProgressModel",
          "model_module_version": "1.5.0",
          "state": {
            "_dom_classes": [],
            "_model_module": "@jupyter-widgets/controls",
            "_model_module_version": "1.5.0",
            "_model_name": "FloatProgressModel",
            "_view_count": null,
            "_view_module": "@jupyter-widgets/controls",
            "_view_module_version": "1.5.0",
            "_view_name": "ProgressView",
            "bar_style": "success",
            "description": "",
            "description_tooltip": null,
            "layout": "IPY_MODEL_9b3ae7c05f2c4939be2f9846c4054bc3",
            "max": 510422589,
            "min": 0,
            "orientation": "horizontal",
            "style": "IPY_MODEL_a305d75233eb428baf1ed9025e7dd5f2",
            "value": 510422589
          }
        },
        "069547f93a4c4a38808b84e328912a58": {
          "model_module": "@jupyter-widgets/controls",
          "model_name": "HTMLModel",
          "model_module_version": "1.5.0",
          "state": {
            "_dom_classes": [],
            "_model_module": "@jupyter-widgets/controls",
            "_model_module_version": "1.5.0",
            "_model_name": "HTMLModel",
            "_view_count": null,
            "_view_module": "@jupyter-widgets/controls",
            "_view_module_version": "1.5.0",
            "_view_name": "HTMLView",
            "description": "",
            "description_tooltip": null,
            "layout": "IPY_MODEL_8d59fb63b9334c0babb67e944e5241a3",
            "placeholder": "​",
            "style": "IPY_MODEL_cb13fbab527647efa5d2af0ca54011c7",
            "value": " 510M/510M [00:07&lt;00:00, 80.1MB/s]"
          }
        },
        "4caf3940c62243eab4212bfa04529dd0": {
          "model_module": "@jupyter-widgets/base",
          "model_name": "LayoutModel",
          "model_module_version": "1.2.0",
          "state": {
            "_model_module": "@jupyter-widgets/base",
            "_model_module_version": "1.2.0",
            "_model_name": "LayoutModel",
            "_view_count": null,
            "_view_module": "@jupyter-widgets/base",
            "_view_module_version": "1.2.0",
            "_view_name": "LayoutView",
            "align_content": null,
            "align_items": null,
            "align_self": null,
            "border": null,
            "bottom": null,
            "display": null,
            "flex": null,
            "flex_flow": null,
            "grid_area": null,
            "grid_auto_columns": null,
            "grid_auto_flow": null,
            "grid_auto_rows": null,
            "grid_column": null,
            "grid_gap": null,
            "grid_row": null,
            "grid_template_areas": null,
            "grid_template_columns": null,
            "grid_template_rows": null,
            "height": null,
            "justify_content": null,
            "justify_items": null,
            "left": null,
            "margin": null,
            "max_height": null,
            "max_width": null,
            "min_height": null,
            "min_width": null,
            "object_fit": null,
            "object_position": null,
            "order": null,
            "overflow": null,
            "overflow_x": null,
            "overflow_y": null,
            "padding": null,
            "right": null,
            "top": null,
            "visibility": null,
            "width": null
          }
        },
        "4c9c3e08dc6d45819aaac5b68decbe81": {
          "model_module": "@jupyter-widgets/base",
          "model_name": "LayoutModel",
          "model_module_version": "1.2.0",
          "state": {
            "_model_module": "@jupyter-widgets/base",
            "_model_module_version": "1.2.0",
            "_model_name": "LayoutModel",
            "_view_count": null,
            "_view_module": "@jupyter-widgets/base",
            "_view_module_version": "1.2.0",
            "_view_name": "LayoutView",
            "align_content": null,
            "align_items": null,
            "align_self": null,
            "border": null,
            "bottom": null,
            "display": null,
            "flex": null,
            "flex_flow": null,
            "grid_area": null,
            "grid_auto_columns": null,
            "grid_auto_flow": null,
            "grid_auto_rows": null,
            "grid_column": null,
            "grid_gap": null,
            "grid_row": null,
            "grid_template_areas": null,
            "grid_template_columns": null,
            "grid_template_rows": null,
            "height": null,
            "justify_content": null,
            "justify_items": null,
            "left": null,
            "margin": null,
            "max_height": null,
            "max_width": null,
            "min_height": null,
            "min_width": null,
            "object_fit": null,
            "object_position": null,
            "order": null,
            "overflow": null,
            "overflow_x": null,
            "overflow_y": null,
            "padding": null,
            "right": null,
            "top": null,
            "visibility": null,
            "width": null
          }
        },
        "0126793fccdf4ba9a91939d1998011c0": {
          "model_module": "@jupyter-widgets/controls",
          "model_name": "DescriptionStyleModel",
          "model_module_version": "1.5.0",
          "state": {
            "_model_module": "@jupyter-widgets/controls",
            "_model_module_version": "1.5.0",
            "_model_name": "DescriptionStyleModel",
            "_view_count": null,
            "_view_module": "@jupyter-widgets/base",
            "_view_module_version": "1.2.0",
            "_view_name": "StyleView",
            "description_width": ""
          }
        },
        "9b3ae7c05f2c4939be2f9846c4054bc3": {
          "model_module": "@jupyter-widgets/base",
          "model_name": "LayoutModel",
          "model_module_version": "1.2.0",
          "state": {
            "_model_module": "@jupyter-widgets/base",
            "_model_module_version": "1.2.0",
            "_model_name": "LayoutModel",
            "_view_count": null,
            "_view_module": "@jupyter-widgets/base",
            "_view_module_version": "1.2.0",
            "_view_name": "LayoutView",
            "align_content": null,
            "align_items": null,
            "align_self": null,
            "border": null,
            "bottom": null,
            "display": null,
            "flex": null,
            "flex_flow": null,
            "grid_area": null,
            "grid_auto_columns": null,
            "grid_auto_flow": null,
            "grid_auto_rows": null,
            "grid_column": null,
            "grid_gap": null,
            "grid_row": null,
            "grid_template_areas": null,
            "grid_template_columns": null,
            "grid_template_rows": null,
            "height": null,
            "justify_content": null,
            "justify_items": null,
            "left": null,
            "margin": null,
            "max_height": null,
            "max_width": null,
            "min_height": null,
            "min_width": null,
            "object_fit": null,
            "object_position": null,
            "order": null,
            "overflow": null,
            "overflow_x": null,
            "overflow_y": null,
            "padding": null,
            "right": null,
            "top": null,
            "visibility": null,
            "width": null
          }
        },
        "a305d75233eb428baf1ed9025e7dd5f2": {
          "model_module": "@jupyter-widgets/controls",
          "model_name": "ProgressStyleModel",
          "model_module_version": "1.5.0",
          "state": {
            "_model_module": "@jupyter-widgets/controls",
            "_model_module_version": "1.5.0",
            "_model_name": "ProgressStyleModel",
            "_view_count": null,
            "_view_module": "@jupyter-widgets/base",
            "_view_module_version": "1.2.0",
            "_view_name": "StyleView",
            "bar_color": null,
            "description_width": ""
          }
        },
        "8d59fb63b9334c0babb67e944e5241a3": {
          "model_module": "@jupyter-widgets/base",
          "model_name": "LayoutModel",
          "model_module_version": "1.2.0",
          "state": {
            "_model_module": "@jupyter-widgets/base",
            "_model_module_version": "1.2.0",
            "_model_name": "LayoutModel",
            "_view_count": null,
            "_view_module": "@jupyter-widgets/base",
            "_view_module_version": "1.2.0",
            "_view_name": "LayoutView",
            "align_content": null,
            "align_items": null,
            "align_self": null,
            "border": null,
            "bottom": null,
            "display": null,
            "flex": null,
            "flex_flow": null,
            "grid_area": null,
            "grid_auto_columns": null,
            "grid_auto_flow": null,
            "grid_auto_rows": null,
            "grid_column": null,
            "grid_gap": null,
            "grid_row": null,
            "grid_template_areas": null,
            "grid_template_columns": null,
            "grid_template_rows": null,
            "height": null,
            "justify_content": null,
            "justify_items": null,
            "left": null,
            "margin": null,
            "max_height": null,
            "max_width": null,
            "min_height": null,
            "min_width": null,
            "object_fit": null,
            "object_position": null,
            "order": null,
            "overflow": null,
            "overflow_x": null,
            "overflow_y": null,
            "padding": null,
            "right": null,
            "top": null,
            "visibility": null,
            "width": null
          }
        },
        "cb13fbab527647efa5d2af0ca54011c7": {
          "model_module": "@jupyter-widgets/controls",
          "model_name": "DescriptionStyleModel",
          "model_module_version": "1.5.0",
          "state": {
            "_model_module": "@jupyter-widgets/controls",
            "_model_module_version": "1.5.0",
            "_model_name": "DescriptionStyleModel",
            "_view_count": null,
            "_view_module": "@jupyter-widgets/base",
            "_view_module_version": "1.2.0",
            "_view_name": "StyleView",
            "description_width": ""
          }
        },
        "3a3f2b2696954cc182a797d7a12c5dcf": {
          "model_module": "@jupyter-widgets/controls",
          "model_name": "HBoxModel",
          "model_module_version": "1.5.0",
          "state": {
            "_dom_classes": [],
            "_model_module": "@jupyter-widgets/controls",
            "_model_module_version": "1.5.0",
            "_model_name": "HBoxModel",
            "_view_count": null,
            "_view_module": "@jupyter-widgets/controls",
            "_view_module_version": "1.5.0",
            "_view_name": "HBoxView",
            "box_style": "",
            "children": [
              "IPY_MODEL_4c8ef3b00ea64bd69e67ef7ae3e566cf",
              "IPY_MODEL_f9801b82924d426fbd42cb3f81567c25",
              "IPY_MODEL_d0d7a7ebcd8040c993c1192e47ceefa6"
            ],
            "layout": "IPY_MODEL_f70c8dca2bdc4a3c81b8a67c14f3af17"
          }
        },
        "4c8ef3b00ea64bd69e67ef7ae3e566cf": {
          "model_module": "@jupyter-widgets/controls",
          "model_name": "HTMLModel",
          "model_module_version": "1.5.0",
          "state": {
            "_dom_classes": [],
            "_model_module": "@jupyter-widgets/controls",
            "_model_module_version": "1.5.0",
            "_model_name": "HTMLModel",
            "_view_count": null,
            "_view_module": "@jupyter-widgets/controls",
            "_view_module_version": "1.5.0",
            "_view_name": "HTMLView",
            "description": "",
            "description_tooltip": null,
            "layout": "IPY_MODEL_75c1449243b0492ca0429c3ba090848d",
            "placeholder": "​",
            "style": "IPY_MODEL_f13d9bd3c88b4963a50dd3da5647bf82",
            "value": "tokenizer_config.json: 100%"
          }
        },
        "f9801b82924d426fbd42cb3f81567c25": {
          "model_module": "@jupyter-widgets/controls",
          "model_name": "FloatProgressModel",
          "model_module_version": "1.5.0",
          "state": {
            "_dom_classes": [],
            "_model_module": "@jupyter-widgets/controls",
            "_model_module_version": "1.5.0",
            "_model_name": "FloatProgressModel",
            "_view_count": null,
            "_view_module": "@jupyter-widgets/controls",
            "_view_module_version": "1.5.0",
            "_view_name": "ProgressView",
            "bar_style": "success",
            "description": "",
            "description_tooltip": null,
            "layout": "IPY_MODEL_177b3bd2699d428f8887efcc5644d511",
            "max": 528,
            "min": 0,
            "orientation": "horizontal",
            "style": "IPY_MODEL_9f0115c1997a484dbd3c98442ff7a8eb",
            "value": 528
          }
        },
        "d0d7a7ebcd8040c993c1192e47ceefa6": {
          "model_module": "@jupyter-widgets/controls",
          "model_name": "HTMLModel",
          "model_module_version": "1.5.0",
          "state": {
            "_dom_classes": [],
            "_model_module": "@jupyter-widgets/controls",
            "_model_module_version": "1.5.0",
            "_model_name": "HTMLModel",
            "_view_count": null,
            "_view_module": "@jupyter-widgets/controls",
            "_view_module_version": "1.5.0",
            "_view_name": "HTMLView",
            "description": "",
            "description_tooltip": null,
            "layout": "IPY_MODEL_f35abaf8654341869471ab3cf615c144",
            "placeholder": "​",
            "style": "IPY_MODEL_997367f620b94d82ae13f2708208480c",
            "value": " 528/528 [00:00&lt;00:00, 13.0kB/s]"
          }
        },
        "f70c8dca2bdc4a3c81b8a67c14f3af17": {
          "model_module": "@jupyter-widgets/base",
          "model_name": "LayoutModel",
          "model_module_version": "1.2.0",
          "state": {
            "_model_module": "@jupyter-widgets/base",
            "_model_module_version": "1.2.0",
            "_model_name": "LayoutModel",
            "_view_count": null,
            "_view_module": "@jupyter-widgets/base",
            "_view_module_version": "1.2.0",
            "_view_name": "LayoutView",
            "align_content": null,
            "align_items": null,
            "align_self": null,
            "border": null,
            "bottom": null,
            "display": null,
            "flex": null,
            "flex_flow": null,
            "grid_area": null,
            "grid_auto_columns": null,
            "grid_auto_flow": null,
            "grid_auto_rows": null,
            "grid_column": null,
            "grid_gap": null,
            "grid_row": null,
            "grid_template_areas": null,
            "grid_template_columns": null,
            "grid_template_rows": null,
            "height": null,
            "justify_content": null,
            "justify_items": null,
            "left": null,
            "margin": null,
            "max_height": null,
            "max_width": null,
            "min_height": null,
            "min_width": null,
            "object_fit": null,
            "object_position": null,
            "order": null,
            "overflow": null,
            "overflow_x": null,
            "overflow_y": null,
            "padding": null,
            "right": null,
            "top": null,
            "visibility": null,
            "width": null
          }
        },
        "75c1449243b0492ca0429c3ba090848d": {
          "model_module": "@jupyter-widgets/base",
          "model_name": "LayoutModel",
          "model_module_version": "1.2.0",
          "state": {
            "_model_module": "@jupyter-widgets/base",
            "_model_module_version": "1.2.0",
            "_model_name": "LayoutModel",
            "_view_count": null,
            "_view_module": "@jupyter-widgets/base",
            "_view_module_version": "1.2.0",
            "_view_name": "LayoutView",
            "align_content": null,
            "align_items": null,
            "align_self": null,
            "border": null,
            "bottom": null,
            "display": null,
            "flex": null,
            "flex_flow": null,
            "grid_area": null,
            "grid_auto_columns": null,
            "grid_auto_flow": null,
            "grid_auto_rows": null,
            "grid_column": null,
            "grid_gap": null,
            "grid_row": null,
            "grid_template_areas": null,
            "grid_template_columns": null,
            "grid_template_rows": null,
            "height": null,
            "justify_content": null,
            "justify_items": null,
            "left": null,
            "margin": null,
            "max_height": null,
            "max_width": null,
            "min_height": null,
            "min_width": null,
            "object_fit": null,
            "object_position": null,
            "order": null,
            "overflow": null,
            "overflow_x": null,
            "overflow_y": null,
            "padding": null,
            "right": null,
            "top": null,
            "visibility": null,
            "width": null
          }
        },
        "f13d9bd3c88b4963a50dd3da5647bf82": {
          "model_module": "@jupyter-widgets/controls",
          "model_name": "DescriptionStyleModel",
          "model_module_version": "1.5.0",
          "state": {
            "_model_module": "@jupyter-widgets/controls",
            "_model_module_version": "1.5.0",
            "_model_name": "DescriptionStyleModel",
            "_view_count": null,
            "_view_module": "@jupyter-widgets/base",
            "_view_module_version": "1.2.0",
            "_view_name": "StyleView",
            "description_width": ""
          }
        },
        "177b3bd2699d428f8887efcc5644d511": {
          "model_module": "@jupyter-widgets/base",
          "model_name": "LayoutModel",
          "model_module_version": "1.2.0",
          "state": {
            "_model_module": "@jupyter-widgets/base",
            "_model_module_version": "1.2.0",
            "_model_name": "LayoutModel",
            "_view_count": null,
            "_view_module": "@jupyter-widgets/base",
            "_view_module_version": "1.2.0",
            "_view_name": "LayoutView",
            "align_content": null,
            "align_items": null,
            "align_self": null,
            "border": null,
            "bottom": null,
            "display": null,
            "flex": null,
            "flex_flow": null,
            "grid_area": null,
            "grid_auto_columns": null,
            "grid_auto_flow": null,
            "grid_auto_rows": null,
            "grid_column": null,
            "grid_gap": null,
            "grid_row": null,
            "grid_template_areas": null,
            "grid_template_columns": null,
            "grid_template_rows": null,
            "height": null,
            "justify_content": null,
            "justify_items": null,
            "left": null,
            "margin": null,
            "max_height": null,
            "max_width": null,
            "min_height": null,
            "min_width": null,
            "object_fit": null,
            "object_position": null,
            "order": null,
            "overflow": null,
            "overflow_x": null,
            "overflow_y": null,
            "padding": null,
            "right": null,
            "top": null,
            "visibility": null,
            "width": null
          }
        },
        "9f0115c1997a484dbd3c98442ff7a8eb": {
          "model_module": "@jupyter-widgets/controls",
          "model_name": "ProgressStyleModel",
          "model_module_version": "1.5.0",
          "state": {
            "_model_module": "@jupyter-widgets/controls",
            "_model_module_version": "1.5.0",
            "_model_name": "ProgressStyleModel",
            "_view_count": null,
            "_view_module": "@jupyter-widgets/base",
            "_view_module_version": "1.2.0",
            "_view_name": "StyleView",
            "bar_color": null,
            "description_width": ""
          }
        },
        "f35abaf8654341869471ab3cf615c144": {
          "model_module": "@jupyter-widgets/base",
          "model_name": "LayoutModel",
          "model_module_version": "1.2.0",
          "state": {
            "_model_module": "@jupyter-widgets/base",
            "_model_module_version": "1.2.0",
            "_model_name": "LayoutModel",
            "_view_count": null,
            "_view_module": "@jupyter-widgets/base",
            "_view_module_version": "1.2.0",
            "_view_name": "LayoutView",
            "align_content": null,
            "align_items": null,
            "align_self": null,
            "border": null,
            "bottom": null,
            "display": null,
            "flex": null,
            "flex_flow": null,
            "grid_area": null,
            "grid_auto_columns": null,
            "grid_auto_flow": null,
            "grid_auto_rows": null,
            "grid_column": null,
            "grid_gap": null,
            "grid_row": null,
            "grid_template_areas": null,
            "grid_template_columns": null,
            "grid_template_rows": null,
            "height": null,
            "justify_content": null,
            "justify_items": null,
            "left": null,
            "margin": null,
            "max_height": null,
            "max_width": null,
            "min_height": null,
            "min_width": null,
            "object_fit": null,
            "object_position": null,
            "order": null,
            "overflow": null,
            "overflow_x": null,
            "overflow_y": null,
            "padding": null,
            "right": null,
            "top": null,
            "visibility": null,
            "width": null
          }
        },
        "997367f620b94d82ae13f2708208480c": {
          "model_module": "@jupyter-widgets/controls",
          "model_name": "DescriptionStyleModel",
          "model_module_version": "1.5.0",
          "state": {
            "_model_module": "@jupyter-widgets/controls",
            "_model_module_version": "1.5.0",
            "_model_name": "DescriptionStyleModel",
            "_view_count": null,
            "_view_module": "@jupyter-widgets/base",
            "_view_module_version": "1.2.0",
            "_view_name": "StyleView",
            "description_width": ""
          }
        },
        "5e70bed4ada544d78cbce513013b4d68": {
          "model_module": "@jupyter-widgets/controls",
          "model_name": "HBoxModel",
          "model_module_version": "1.5.0",
          "state": {
            "_dom_classes": [],
            "_model_module": "@jupyter-widgets/controls",
            "_model_module_version": "1.5.0",
            "_model_name": "HBoxModel",
            "_view_count": null,
            "_view_module": "@jupyter-widgets/controls",
            "_view_module_version": "1.5.0",
            "_view_name": "HBoxView",
            "box_style": "",
            "children": [
              "IPY_MODEL_e4d799ff17ff4eee8360afde866382d4",
              "IPY_MODEL_9200b988653a410c9d747f9fa1226791",
              "IPY_MODEL_e0377e67cb9f40ada954347cdb50f280"
            ],
            "layout": "IPY_MODEL_9ae8734e4e384eeb8c939918064cf60c"
          }
        },
        "e4d799ff17ff4eee8360afde866382d4": {
          "model_module": "@jupyter-widgets/controls",
          "model_name": "HTMLModel",
          "model_module_version": "1.5.0",
          "state": {
            "_dom_classes": [],
            "_model_module": "@jupyter-widgets/controls",
            "_model_module_version": "1.5.0",
            "_model_name": "HTMLModel",
            "_view_count": null,
            "_view_module": "@jupyter-widgets/controls",
            "_view_module_version": "1.5.0",
            "_view_name": "HTMLView",
            "description": "",
            "description_tooltip": null,
            "layout": "IPY_MODEL_2821c1a3675e48f1a945ad81bd370cb9",
            "placeholder": "​",
            "style": "IPY_MODEL_00baeab671b041b7915f978b90147eef",
            "value": "vocab.json: 100%"
          }
        },
        "9200b988653a410c9d747f9fa1226791": {
          "model_module": "@jupyter-widgets/controls",
          "model_name": "FloatProgressModel",
          "model_module_version": "1.5.0",
          "state": {
            "_dom_classes": [],
            "_model_module": "@jupyter-widgets/controls",
            "_model_module_version": "1.5.0",
            "_model_name": "FloatProgressModel",
            "_view_count": null,
            "_view_module": "@jupyter-widgets/controls",
            "_view_module_version": "1.5.0",
            "_view_name": "ProgressView",
            "bar_style": "success",
            "description": "",
            "description_tooltip": null,
            "layout": "IPY_MODEL_6974fe522f834cbf8127d5423b3d7014",
            "max": 805081,
            "min": 0,
            "orientation": "horizontal",
            "style": "IPY_MODEL_3db1110e530d47539fb7e3dbf7563074",
            "value": 805081
          }
        },
        "e0377e67cb9f40ada954347cdb50f280": {
          "model_module": "@jupyter-widgets/controls",
          "model_name": "HTMLModel",
          "model_module_version": "1.5.0",
          "state": {
            "_dom_classes": [],
            "_model_module": "@jupyter-widgets/controls",
            "_model_module_version": "1.5.0",
            "_model_name": "HTMLModel",
            "_view_count": null,
            "_view_module": "@jupyter-widgets/controls",
            "_view_module_version": "1.5.0",
            "_view_name": "HTMLView",
            "description": "",
            "description_tooltip": null,
            "layout": "IPY_MODEL_b33393a028a5463f84ea3675f1e43bff",
            "placeholder": "​",
            "style": "IPY_MODEL_90fac92f888248449a4372c09d21d101",
            "value": " 805k/805k [00:00&lt;00:00, 6.39MB/s]"
          }
        },
        "9ae8734e4e384eeb8c939918064cf60c": {
          "model_module": "@jupyter-widgets/base",
          "model_name": "LayoutModel",
          "model_module_version": "1.2.0",
          "state": {
            "_model_module": "@jupyter-widgets/base",
            "_model_module_version": "1.2.0",
            "_model_name": "LayoutModel",
            "_view_count": null,
            "_view_module": "@jupyter-widgets/base",
            "_view_module_version": "1.2.0",
            "_view_name": "LayoutView",
            "align_content": null,
            "align_items": null,
            "align_self": null,
            "border": null,
            "bottom": null,
            "display": null,
            "flex": null,
            "flex_flow": null,
            "grid_area": null,
            "grid_auto_columns": null,
            "grid_auto_flow": null,
            "grid_auto_rows": null,
            "grid_column": null,
            "grid_gap": null,
            "grid_row": null,
            "grid_template_areas": null,
            "grid_template_columns": null,
            "grid_template_rows": null,
            "height": null,
            "justify_content": null,
            "justify_items": null,
            "left": null,
            "margin": null,
            "max_height": null,
            "max_width": null,
            "min_height": null,
            "min_width": null,
            "object_fit": null,
            "object_position": null,
            "order": null,
            "overflow": null,
            "overflow_x": null,
            "overflow_y": null,
            "padding": null,
            "right": null,
            "top": null,
            "visibility": null,
            "width": null
          }
        },
        "2821c1a3675e48f1a945ad81bd370cb9": {
          "model_module": "@jupyter-widgets/base",
          "model_name": "LayoutModel",
          "model_module_version": "1.2.0",
          "state": {
            "_model_module": "@jupyter-widgets/base",
            "_model_module_version": "1.2.0",
            "_model_name": "LayoutModel",
            "_view_count": null,
            "_view_module": "@jupyter-widgets/base",
            "_view_module_version": "1.2.0",
            "_view_name": "LayoutView",
            "align_content": null,
            "align_items": null,
            "align_self": null,
            "border": null,
            "bottom": null,
            "display": null,
            "flex": null,
            "flex_flow": null,
            "grid_area": null,
            "grid_auto_columns": null,
            "grid_auto_flow": null,
            "grid_auto_rows": null,
            "grid_column": null,
            "grid_gap": null,
            "grid_row": null,
            "grid_template_areas": null,
            "grid_template_columns": null,
            "grid_template_rows": null,
            "height": null,
            "justify_content": null,
            "justify_items": null,
            "left": null,
            "margin": null,
            "max_height": null,
            "max_width": null,
            "min_height": null,
            "min_width": null,
            "object_fit": null,
            "object_position": null,
            "order": null,
            "overflow": null,
            "overflow_x": null,
            "overflow_y": null,
            "padding": null,
            "right": null,
            "top": null,
            "visibility": null,
            "width": null
          }
        },
        "00baeab671b041b7915f978b90147eef": {
          "model_module": "@jupyter-widgets/controls",
          "model_name": "DescriptionStyleModel",
          "model_module_version": "1.5.0",
          "state": {
            "_model_module": "@jupyter-widgets/controls",
            "_model_module_version": "1.5.0",
            "_model_name": "DescriptionStyleModel",
            "_view_count": null,
            "_view_module": "@jupyter-widgets/base",
            "_view_module_version": "1.2.0",
            "_view_name": "StyleView",
            "description_width": ""
          }
        },
        "6974fe522f834cbf8127d5423b3d7014": {
          "model_module": "@jupyter-widgets/base",
          "model_name": "LayoutModel",
          "model_module_version": "1.2.0",
          "state": {
            "_model_module": "@jupyter-widgets/base",
            "_model_module_version": "1.2.0",
            "_model_name": "LayoutModel",
            "_view_count": null,
            "_view_module": "@jupyter-widgets/base",
            "_view_module_version": "1.2.0",
            "_view_name": "LayoutView",
            "align_content": null,
            "align_items": null,
            "align_self": null,
            "border": null,
            "bottom": null,
            "display": null,
            "flex": null,
            "flex_flow": null,
            "grid_area": null,
            "grid_auto_columns": null,
            "grid_auto_flow": null,
            "grid_auto_rows": null,
            "grid_column": null,
            "grid_gap": null,
            "grid_row": null,
            "grid_template_areas": null,
            "grid_template_columns": null,
            "grid_template_rows": null,
            "height": null,
            "justify_content": null,
            "justify_items": null,
            "left": null,
            "margin": null,
            "max_height": null,
            "max_width": null,
            "min_height": null,
            "min_width": null,
            "object_fit": null,
            "object_position": null,
            "order": null,
            "overflow": null,
            "overflow_x": null,
            "overflow_y": null,
            "padding": null,
            "right": null,
            "top": null,
            "visibility": null,
            "width": null
          }
        },
        "3db1110e530d47539fb7e3dbf7563074": {
          "model_module": "@jupyter-widgets/controls",
          "model_name": "ProgressStyleModel",
          "model_module_version": "1.5.0",
          "state": {
            "_model_module": "@jupyter-widgets/controls",
            "_model_module_version": "1.5.0",
            "_model_name": "ProgressStyleModel",
            "_view_count": null,
            "_view_module": "@jupyter-widgets/base",
            "_view_module_version": "1.2.0",
            "_view_name": "StyleView",
            "bar_color": null,
            "description_width": ""
          }
        },
        "b33393a028a5463f84ea3675f1e43bff": {
          "model_module": "@jupyter-widgets/base",
          "model_name": "LayoutModel",
          "model_module_version": "1.2.0",
          "state": {
            "_model_module": "@jupyter-widgets/base",
            "_model_module_version": "1.2.0",
            "_model_name": "LayoutModel",
            "_view_count": null,
            "_view_module": "@jupyter-widgets/base",
            "_view_module_version": "1.2.0",
            "_view_name": "LayoutView",
            "align_content": null,
            "align_items": null,
            "align_self": null,
            "border": null,
            "bottom": null,
            "display": null,
            "flex": null,
            "flex_flow": null,
            "grid_area": null,
            "grid_auto_columns": null,
            "grid_auto_flow": null,
            "grid_auto_rows": null,
            "grid_column": null,
            "grid_gap": null,
            "grid_row": null,
            "grid_template_areas": null,
            "grid_template_columns": null,
            "grid_template_rows": null,
            "height": null,
            "justify_content": null,
            "justify_items": null,
            "left": null,
            "margin": null,
            "max_height": null,
            "max_width": null,
            "min_height": null,
            "min_width": null,
            "object_fit": null,
            "object_position": null,
            "order": null,
            "overflow": null,
            "overflow_x": null,
            "overflow_y": null,
            "padding": null,
            "right": null,
            "top": null,
            "visibility": null,
            "width": null
          }
        },
        "90fac92f888248449a4372c09d21d101": {
          "model_module": "@jupyter-widgets/controls",
          "model_name": "DescriptionStyleModel",
          "model_module_version": "1.5.0",
          "state": {
            "_model_module": "@jupyter-widgets/controls",
            "_model_module_version": "1.5.0",
            "_model_name": "DescriptionStyleModel",
            "_view_count": null,
            "_view_module": "@jupyter-widgets/base",
            "_view_module_version": "1.2.0",
            "_view_name": "StyleView",
            "description_width": ""
          }
        },
        "5d7b38a3cbef419984dc3928abcc80b4": {
          "model_module": "@jupyter-widgets/controls",
          "model_name": "HBoxModel",
          "model_module_version": "1.5.0",
          "state": {
            "_dom_classes": [],
            "_model_module": "@jupyter-widgets/controls",
            "_model_module_version": "1.5.0",
            "_model_name": "HBoxModel",
            "_view_count": null,
            "_view_module": "@jupyter-widgets/controls",
            "_view_module_version": "1.5.0",
            "_view_name": "HBoxView",
            "box_style": "",
            "children": [
              "IPY_MODEL_bbb4dfb9f72a4ce1b58fdfebcf285ebc",
              "IPY_MODEL_94a2b8e7d3d249daa3bf4c76b9875939",
              "IPY_MODEL_f24d52c7491742a9b8d72599ce9f099e"
            ],
            "layout": "IPY_MODEL_7f8c762962f741249dd4f375067cdfbc"
          }
        },
        "bbb4dfb9f72a4ce1b58fdfebcf285ebc": {
          "model_module": "@jupyter-widgets/controls",
          "model_name": "HTMLModel",
          "model_module_version": "1.5.0",
          "state": {
            "_dom_classes": [],
            "_model_module": "@jupyter-widgets/controls",
            "_model_module_version": "1.5.0",
            "_model_name": "HTMLModel",
            "_view_count": null,
            "_view_module": "@jupyter-widgets/controls",
            "_view_module_version": "1.5.0",
            "_view_name": "HTMLView",
            "description": "",
            "description_tooltip": null,
            "layout": "IPY_MODEL_cd8694fc09484aef87d05e186bf9e5c1",
            "placeholder": "​",
            "style": "IPY_MODEL_f8e61c5ade944171bc80b9178b801fd8",
            "value": "merges.txt: 100%"
          }
        },
        "94a2b8e7d3d249daa3bf4c76b9875939": {
          "model_module": "@jupyter-widgets/controls",
          "model_name": "FloatProgressModel",
          "model_module_version": "1.5.0",
          "state": {
            "_dom_classes": [],
            "_model_module": "@jupyter-widgets/controls",
            "_model_module_version": "1.5.0",
            "_model_name": "FloatProgressModel",
            "_view_count": null,
            "_view_module": "@jupyter-widgets/controls",
            "_view_module_version": "1.5.0",
            "_view_name": "ProgressView",
            "bar_style": "success",
            "description": "",
            "description_tooltip": null,
            "layout": "IPY_MODEL_9dc6b555d9994e7897eace6138fc4eb7",
            "max": 463389,
            "min": 0,
            "orientation": "horizontal",
            "style": "IPY_MODEL_1ac29630062b4888a6c4d51d04c01da5",
            "value": 463389
          }
        },
        "f24d52c7491742a9b8d72599ce9f099e": {
          "model_module": "@jupyter-widgets/controls",
          "model_name": "HTMLModel",
          "model_module_version": "1.5.0",
          "state": {
            "_dom_classes": [],
            "_model_module": "@jupyter-widgets/controls",
            "_model_module_version": "1.5.0",
            "_model_name": "HTMLModel",
            "_view_count": null,
            "_view_module": "@jupyter-widgets/controls",
            "_view_module_version": "1.5.0",
            "_view_name": "HTMLView",
            "description": "",
            "description_tooltip": null,
            "layout": "IPY_MODEL_0b285281aae0458aa33a3c7bd7fb7a45",
            "placeholder": "​",
            "style": "IPY_MODEL_a45dfd41e916452286adbb23f99812d3",
            "value": " 463k/463k [00:00&lt;00:00, 8.32MB/s]"
          }
        },
        "7f8c762962f741249dd4f375067cdfbc": {
          "model_module": "@jupyter-widgets/base",
          "model_name": "LayoutModel",
          "model_module_version": "1.2.0",
          "state": {
            "_model_module": "@jupyter-widgets/base",
            "_model_module_version": "1.2.0",
            "_model_name": "LayoutModel",
            "_view_count": null,
            "_view_module": "@jupyter-widgets/base",
            "_view_module_version": "1.2.0",
            "_view_name": "LayoutView",
            "align_content": null,
            "align_items": null,
            "align_self": null,
            "border": null,
            "bottom": null,
            "display": null,
            "flex": null,
            "flex_flow": null,
            "grid_area": null,
            "grid_auto_columns": null,
            "grid_auto_flow": null,
            "grid_auto_rows": null,
            "grid_column": null,
            "grid_gap": null,
            "grid_row": null,
            "grid_template_areas": null,
            "grid_template_columns": null,
            "grid_template_rows": null,
            "height": null,
            "justify_content": null,
            "justify_items": null,
            "left": null,
            "margin": null,
            "max_height": null,
            "max_width": null,
            "min_height": null,
            "min_width": null,
            "object_fit": null,
            "object_position": null,
            "order": null,
            "overflow": null,
            "overflow_x": null,
            "overflow_y": null,
            "padding": null,
            "right": null,
            "top": null,
            "visibility": null,
            "width": null
          }
        },
        "cd8694fc09484aef87d05e186bf9e5c1": {
          "model_module": "@jupyter-widgets/base",
          "model_name": "LayoutModel",
          "model_module_version": "1.2.0",
          "state": {
            "_model_module": "@jupyter-widgets/base",
            "_model_module_version": "1.2.0",
            "_model_name": "LayoutModel",
            "_view_count": null,
            "_view_module": "@jupyter-widgets/base",
            "_view_module_version": "1.2.0",
            "_view_name": "LayoutView",
            "align_content": null,
            "align_items": null,
            "align_self": null,
            "border": null,
            "bottom": null,
            "display": null,
            "flex": null,
            "flex_flow": null,
            "grid_area": null,
            "grid_auto_columns": null,
            "grid_auto_flow": null,
            "grid_auto_rows": null,
            "grid_column": null,
            "grid_gap": null,
            "grid_row": null,
            "grid_template_areas": null,
            "grid_template_columns": null,
            "grid_template_rows": null,
            "height": null,
            "justify_content": null,
            "justify_items": null,
            "left": null,
            "margin": null,
            "max_height": null,
            "max_width": null,
            "min_height": null,
            "min_width": null,
            "object_fit": null,
            "object_position": null,
            "order": null,
            "overflow": null,
            "overflow_x": null,
            "overflow_y": null,
            "padding": null,
            "right": null,
            "top": null,
            "visibility": null,
            "width": null
          }
        },
        "f8e61c5ade944171bc80b9178b801fd8": {
          "model_module": "@jupyter-widgets/controls",
          "model_name": "DescriptionStyleModel",
          "model_module_version": "1.5.0",
          "state": {
            "_model_module": "@jupyter-widgets/controls",
            "_model_module_version": "1.5.0",
            "_model_name": "DescriptionStyleModel",
            "_view_count": null,
            "_view_module": "@jupyter-widgets/base",
            "_view_module_version": "1.2.0",
            "_view_name": "StyleView",
            "description_width": ""
          }
        },
        "9dc6b555d9994e7897eace6138fc4eb7": {
          "model_module": "@jupyter-widgets/base",
          "model_name": "LayoutModel",
          "model_module_version": "1.2.0",
          "state": {
            "_model_module": "@jupyter-widgets/base",
            "_model_module_version": "1.2.0",
            "_model_name": "LayoutModel",
            "_view_count": null,
            "_view_module": "@jupyter-widgets/base",
            "_view_module_version": "1.2.0",
            "_view_name": "LayoutView",
            "align_content": null,
            "align_items": null,
            "align_self": null,
            "border": null,
            "bottom": null,
            "display": null,
            "flex": null,
            "flex_flow": null,
            "grid_area": null,
            "grid_auto_columns": null,
            "grid_auto_flow": null,
            "grid_auto_rows": null,
            "grid_column": null,
            "grid_gap": null,
            "grid_row": null,
            "grid_template_areas": null,
            "grid_template_columns": null,
            "grid_template_rows": null,
            "height": null,
            "justify_content": null,
            "justify_items": null,
            "left": null,
            "margin": null,
            "max_height": null,
            "max_width": null,
            "min_height": null,
            "min_width": null,
            "object_fit": null,
            "object_position": null,
            "order": null,
            "overflow": null,
            "overflow_x": null,
            "overflow_y": null,
            "padding": null,
            "right": null,
            "top": null,
            "visibility": null,
            "width": null
          }
        },
        "1ac29630062b4888a6c4d51d04c01da5": {
          "model_module": "@jupyter-widgets/controls",
          "model_name": "ProgressStyleModel",
          "model_module_version": "1.5.0",
          "state": {
            "_model_module": "@jupyter-widgets/controls",
            "_model_module_version": "1.5.0",
            "_model_name": "ProgressStyleModel",
            "_view_count": null,
            "_view_module": "@jupyter-widgets/base",
            "_view_module_version": "1.2.0",
            "_view_name": "StyleView",
            "bar_color": null,
            "description_width": ""
          }
        },
        "0b285281aae0458aa33a3c7bd7fb7a45": {
          "model_module": "@jupyter-widgets/base",
          "model_name": "LayoutModel",
          "model_module_version": "1.2.0",
          "state": {
            "_model_module": "@jupyter-widgets/base",
            "_model_module_version": "1.2.0",
            "_model_name": "LayoutModel",
            "_view_count": null,
            "_view_module": "@jupyter-widgets/base",
            "_view_module_version": "1.2.0",
            "_view_name": "LayoutView",
            "align_content": null,
            "align_items": null,
            "align_self": null,
            "border": null,
            "bottom": null,
            "display": null,
            "flex": null,
            "flex_flow": null,
            "grid_area": null,
            "grid_auto_columns": null,
            "grid_auto_flow": null,
            "grid_auto_rows": null,
            "grid_column": null,
            "grid_gap": null,
            "grid_row": null,
            "grid_template_areas": null,
            "grid_template_columns": null,
            "grid_template_rows": null,
            "height": null,
            "justify_content": null,
            "justify_items": null,
            "left": null,
            "margin": null,
            "max_height": null,
            "max_width": null,
            "min_height": null,
            "min_width": null,
            "object_fit": null,
            "object_position": null,
            "order": null,
            "overflow": null,
            "overflow_x": null,
            "overflow_y": null,
            "padding": null,
            "right": null,
            "top": null,
            "visibility": null,
            "width": null
          }
        },
        "a45dfd41e916452286adbb23f99812d3": {
          "model_module": "@jupyter-widgets/controls",
          "model_name": "DescriptionStyleModel",
          "model_module_version": "1.5.0",
          "state": {
            "_model_module": "@jupyter-widgets/controls",
            "_model_module_version": "1.5.0",
            "_model_name": "DescriptionStyleModel",
            "_view_count": null,
            "_view_module": "@jupyter-widgets/base",
            "_view_module_version": "1.2.0",
            "_view_name": "StyleView",
            "description_width": ""
          }
        },
        "62338c9650c14f828b37a751888bcd16": {
          "model_module": "@jupyter-widgets/controls",
          "model_name": "HBoxModel",
          "model_module_version": "1.5.0",
          "state": {
            "_dom_classes": [],
            "_model_module": "@jupyter-widgets/controls",
            "_model_module_version": "1.5.0",
            "_model_name": "HBoxModel",
            "_view_count": null,
            "_view_module": "@jupyter-widgets/controls",
            "_view_module_version": "1.5.0",
            "_view_name": "HBoxView",
            "box_style": "",
            "children": [
              "IPY_MODEL_587ba0cbc9b1456dab61cca103686f86",
              "IPY_MODEL_82207b0334164fc98b2eb39b800b3582",
              "IPY_MODEL_b2f7a1e8b719420fa51362f5d7e2fc35"
            ],
            "layout": "IPY_MODEL_32ba2c98bb0b4b7fa0cce13af8d646a4"
          }
        },
        "587ba0cbc9b1456dab61cca103686f86": {
          "model_module": "@jupyter-widgets/controls",
          "model_name": "HTMLModel",
          "model_module_version": "1.5.0",
          "state": {
            "_dom_classes": [],
            "_model_module": "@jupyter-widgets/controls",
            "_model_module_version": "1.5.0",
            "_model_name": "HTMLModel",
            "_view_count": null,
            "_view_module": "@jupyter-widgets/controls",
            "_view_module_version": "1.5.0",
            "_view_name": "HTMLView",
            "description": "",
            "description_tooltip": null,
            "layout": "IPY_MODEL_958e7c3ea22346c996777bfe6a9ea460",
            "placeholder": "​",
            "style": "IPY_MODEL_a713d56458784fb68122332018cc7cb1",
            "value": "tokenizer.json: 100%"
          }
        },
        "82207b0334164fc98b2eb39b800b3582": {
          "model_module": "@jupyter-widgets/controls",
          "model_name": "FloatProgressModel",
          "model_module_version": "1.5.0",
          "state": {
            "_dom_classes": [],
            "_model_module": "@jupyter-widgets/controls",
            "_model_module_version": "1.5.0",
            "_model_name": "FloatProgressModel",
            "_view_count": null,
            "_view_module": "@jupyter-widgets/controls",
            "_view_module_version": "1.5.0",
            "_view_name": "ProgressView",
            "bar_style": "success",
            "description": "",
            "description_tooltip": null,
            "layout": "IPY_MODEL_e743ee7bf0be4338b14d743aa5a8c327",
            "max": 2122262,
            "min": 0,
            "orientation": "horizontal",
            "style": "IPY_MODEL_933b6fb9b99d4b5091a234629690df20",
            "value": 2122262
          }
        },
        "b2f7a1e8b719420fa51362f5d7e2fc35": {
          "model_module": "@jupyter-widgets/controls",
          "model_name": "HTMLModel",
          "model_module_version": "1.5.0",
          "state": {
            "_dom_classes": [],
            "_model_module": "@jupyter-widgets/controls",
            "_model_module_version": "1.5.0",
            "_model_name": "HTMLModel",
            "_view_count": null,
            "_view_module": "@jupyter-widgets/controls",
            "_view_module_version": "1.5.0",
            "_view_name": "HTMLView",
            "description": "",
            "description_tooltip": null,
            "layout": "IPY_MODEL_54734c7183984d06a264871555daa511",
            "placeholder": "​",
            "style": "IPY_MODEL_0d18ce84090842038d29b31509e4afab",
            "value": " 2.12M/2.12M [00:00&lt;00:00, 16.5MB/s]"
          }
        },
        "32ba2c98bb0b4b7fa0cce13af8d646a4": {
          "model_module": "@jupyter-widgets/base",
          "model_name": "LayoutModel",
          "model_module_version": "1.2.0",
          "state": {
            "_model_module": "@jupyter-widgets/base",
            "_model_module_version": "1.2.0",
            "_model_name": "LayoutModel",
            "_view_count": null,
            "_view_module": "@jupyter-widgets/base",
            "_view_module_version": "1.2.0",
            "_view_name": "LayoutView",
            "align_content": null,
            "align_items": null,
            "align_self": null,
            "border": null,
            "bottom": null,
            "display": null,
            "flex": null,
            "flex_flow": null,
            "grid_area": null,
            "grid_auto_columns": null,
            "grid_auto_flow": null,
            "grid_auto_rows": null,
            "grid_column": null,
            "grid_gap": null,
            "grid_row": null,
            "grid_template_areas": null,
            "grid_template_columns": null,
            "grid_template_rows": null,
            "height": null,
            "justify_content": null,
            "justify_items": null,
            "left": null,
            "margin": null,
            "max_height": null,
            "max_width": null,
            "min_height": null,
            "min_width": null,
            "object_fit": null,
            "object_position": null,
            "order": null,
            "overflow": null,
            "overflow_x": null,
            "overflow_y": null,
            "padding": null,
            "right": null,
            "top": null,
            "visibility": null,
            "width": null
          }
        },
        "958e7c3ea22346c996777bfe6a9ea460": {
          "model_module": "@jupyter-widgets/base",
          "model_name": "LayoutModel",
          "model_module_version": "1.2.0",
          "state": {
            "_model_module": "@jupyter-widgets/base",
            "_model_module_version": "1.2.0",
            "_model_name": "LayoutModel",
            "_view_count": null,
            "_view_module": "@jupyter-widgets/base",
            "_view_module_version": "1.2.0",
            "_view_name": "LayoutView",
            "align_content": null,
            "align_items": null,
            "align_self": null,
            "border": null,
            "bottom": null,
            "display": null,
            "flex": null,
            "flex_flow": null,
            "grid_area": null,
            "grid_auto_columns": null,
            "grid_auto_flow": null,
            "grid_auto_rows": null,
            "grid_column": null,
            "grid_gap": null,
            "grid_row": null,
            "grid_template_areas": null,
            "grid_template_columns": null,
            "grid_template_rows": null,
            "height": null,
            "justify_content": null,
            "justify_items": null,
            "left": null,
            "margin": null,
            "max_height": null,
            "max_width": null,
            "min_height": null,
            "min_width": null,
            "object_fit": null,
            "object_position": null,
            "order": null,
            "overflow": null,
            "overflow_x": null,
            "overflow_y": null,
            "padding": null,
            "right": null,
            "top": null,
            "visibility": null,
            "width": null
          }
        },
        "a713d56458784fb68122332018cc7cb1": {
          "model_module": "@jupyter-widgets/controls",
          "model_name": "DescriptionStyleModel",
          "model_module_version": "1.5.0",
          "state": {
            "_model_module": "@jupyter-widgets/controls",
            "_model_module_version": "1.5.0",
            "_model_name": "DescriptionStyleModel",
            "_view_count": null,
            "_view_module": "@jupyter-widgets/base",
            "_view_module_version": "1.2.0",
            "_view_name": "StyleView",
            "description_width": ""
          }
        },
        "e743ee7bf0be4338b14d743aa5a8c327": {
          "model_module": "@jupyter-widgets/base",
          "model_name": "LayoutModel",
          "model_module_version": "1.2.0",
          "state": {
            "_model_module": "@jupyter-widgets/base",
            "_model_module_version": "1.2.0",
            "_model_name": "LayoutModel",
            "_view_count": null,
            "_view_module": "@jupyter-widgets/base",
            "_view_module_version": "1.2.0",
            "_view_name": "LayoutView",
            "align_content": null,
            "align_items": null,
            "align_self": null,
            "border": null,
            "bottom": null,
            "display": null,
            "flex": null,
            "flex_flow": null,
            "grid_area": null,
            "grid_auto_columns": null,
            "grid_auto_flow": null,
            "grid_auto_rows": null,
            "grid_column": null,
            "grid_gap": null,
            "grid_row": null,
            "grid_template_areas": null,
            "grid_template_columns": null,
            "grid_template_rows": null,
            "height": null,
            "justify_content": null,
            "justify_items": null,
            "left": null,
            "margin": null,
            "max_height": null,
            "max_width": null,
            "min_height": null,
            "min_width": null,
            "object_fit": null,
            "object_position": null,
            "order": null,
            "overflow": null,
            "overflow_x": null,
            "overflow_y": null,
            "padding": null,
            "right": null,
            "top": null,
            "visibility": null,
            "width": null
          }
        },
        "933b6fb9b99d4b5091a234629690df20": {
          "model_module": "@jupyter-widgets/controls",
          "model_name": "ProgressStyleModel",
          "model_module_version": "1.5.0",
          "state": {
            "_model_module": "@jupyter-widgets/controls",
            "_model_module_version": "1.5.0",
            "_model_name": "ProgressStyleModel",
            "_view_count": null,
            "_view_module": "@jupyter-widgets/base",
            "_view_module_version": "1.2.0",
            "_view_name": "StyleView",
            "bar_color": null,
            "description_width": ""
          }
        },
        "54734c7183984d06a264871555daa511": {
          "model_module": "@jupyter-widgets/base",
          "model_name": "LayoutModel",
          "model_module_version": "1.2.0",
          "state": {
            "_model_module": "@jupyter-widgets/base",
            "_model_module_version": "1.2.0",
            "_model_name": "LayoutModel",
            "_view_count": null,
            "_view_module": "@jupyter-widgets/base",
            "_view_module_version": "1.2.0",
            "_view_name": "LayoutView",
            "align_content": null,
            "align_items": null,
            "align_self": null,
            "border": null,
            "bottom": null,
            "display": null,
            "flex": null,
            "flex_flow": null,
            "grid_area": null,
            "grid_auto_columns": null,
            "grid_auto_flow": null,
            "grid_auto_rows": null,
            "grid_column": null,
            "grid_gap": null,
            "grid_row": null,
            "grid_template_areas": null,
            "grid_template_columns": null,
            "grid_template_rows": null,
            "height": null,
            "justify_content": null,
            "justify_items": null,
            "left": null,
            "margin": null,
            "max_height": null,
            "max_width": null,
            "min_height": null,
            "min_width": null,
            "object_fit": null,
            "object_position": null,
            "order": null,
            "overflow": null,
            "overflow_x": null,
            "overflow_y": null,
            "padding": null,
            "right": null,
            "top": null,
            "visibility": null,
            "width": null
          }
        },
        "0d18ce84090842038d29b31509e4afab": {
          "model_module": "@jupyter-widgets/controls",
          "model_name": "DescriptionStyleModel",
          "model_module_version": "1.5.0",
          "state": {
            "_model_module": "@jupyter-widgets/controls",
            "_model_module_version": "1.5.0",
            "_model_name": "DescriptionStyleModel",
            "_view_count": null,
            "_view_module": "@jupyter-widgets/base",
            "_view_module_version": "1.2.0",
            "_view_name": "StyleView",
            "description_width": ""
          }
        },
        "dd617c3b63544af8b89485dc8ac0d2c5": {
          "model_module": "@jupyter-widgets/controls",
          "model_name": "HBoxModel",
          "model_module_version": "1.5.0",
          "state": {
            "_dom_classes": [],
            "_model_module": "@jupyter-widgets/controls",
            "_model_module_version": "1.5.0",
            "_model_name": "HBoxModel",
            "_view_count": null,
            "_view_module": "@jupyter-widgets/controls",
            "_view_module_version": "1.5.0",
            "_view_name": "HBoxView",
            "box_style": "",
            "children": [
              "IPY_MODEL_11c1e062d88c45f8a7340a632d1a4c89",
              "IPY_MODEL_4aa0864f8a42436d8832c1c98213a81d",
              "IPY_MODEL_087a9cfb4a754520b966d7395c937553"
            ],
            "layout": "IPY_MODEL_351cc9698cff4cb1b5bcba817abd4dfb"
          }
        },
        "11c1e062d88c45f8a7340a632d1a4c89": {
          "model_module": "@jupyter-widgets/controls",
          "model_name": "HTMLModel",
          "model_module_version": "1.5.0",
          "state": {
            "_dom_classes": [],
            "_model_module": "@jupyter-widgets/controls",
            "_model_module_version": "1.5.0",
            "_model_name": "HTMLModel",
            "_view_count": null,
            "_view_module": "@jupyter-widgets/controls",
            "_view_module_version": "1.5.0",
            "_view_name": "HTMLView",
            "description": "",
            "description_tooltip": null,
            "layout": "IPY_MODEL_0ba88a5b95fc486bbad2554693b2d5d4",
            "placeholder": "​",
            "style": "IPY_MODEL_626345b1929f4b0680f6d31093c76bc9",
            "value": "special_tokens_map.json: 100%"
          }
        },
        "4aa0864f8a42436d8832c1c98213a81d": {
          "model_module": "@jupyter-widgets/controls",
          "model_name": "FloatProgressModel",
          "model_module_version": "1.5.0",
          "state": {
            "_dom_classes": [],
            "_model_module": "@jupyter-widgets/controls",
            "_model_module_version": "1.5.0",
            "_model_name": "FloatProgressModel",
            "_view_count": null,
            "_view_module": "@jupyter-widgets/controls",
            "_view_module_version": "1.5.0",
            "_view_name": "ProgressView",
            "bar_style": "success",
            "description": "",
            "description_tooltip": null,
            "layout": "IPY_MODEL_2f740b163f82412dbba63a62acd96b8f",
            "max": 280,
            "min": 0,
            "orientation": "horizontal",
            "style": "IPY_MODEL_32e141d9a749404594dabc3efc03eb9a",
            "value": 280
          }
        },
        "087a9cfb4a754520b966d7395c937553": {
          "model_module": "@jupyter-widgets/controls",
          "model_name": "HTMLModel",
          "model_module_version": "1.5.0",
          "state": {
            "_dom_classes": [],
            "_model_module": "@jupyter-widgets/controls",
            "_model_module_version": "1.5.0",
            "_model_name": "HTMLModel",
            "_view_count": null,
            "_view_module": "@jupyter-widgets/controls",
            "_view_module_version": "1.5.0",
            "_view_name": "HTMLView",
            "description": "",
            "description_tooltip": null,
            "layout": "IPY_MODEL_8911df63c3f142a7a871f334387bd3f6",
            "placeholder": "​",
            "style": "IPY_MODEL_c326c5555683410eb6cbfc0ea5bedf04",
            "value": " 280/280 [00:00&lt;00:00, 8.07kB/s]"
          }
        },
        "351cc9698cff4cb1b5bcba817abd4dfb": {
          "model_module": "@jupyter-widgets/base",
          "model_name": "LayoutModel",
          "model_module_version": "1.2.0",
          "state": {
            "_model_module": "@jupyter-widgets/base",
            "_model_module_version": "1.2.0",
            "_model_name": "LayoutModel",
            "_view_count": null,
            "_view_module": "@jupyter-widgets/base",
            "_view_module_version": "1.2.0",
            "_view_name": "LayoutView",
            "align_content": null,
            "align_items": null,
            "align_self": null,
            "border": null,
            "bottom": null,
            "display": null,
            "flex": null,
            "flex_flow": null,
            "grid_area": null,
            "grid_auto_columns": null,
            "grid_auto_flow": null,
            "grid_auto_rows": null,
            "grid_column": null,
            "grid_gap": null,
            "grid_row": null,
            "grid_template_areas": null,
            "grid_template_columns": null,
            "grid_template_rows": null,
            "height": null,
            "justify_content": null,
            "justify_items": null,
            "left": null,
            "margin": null,
            "max_height": null,
            "max_width": null,
            "min_height": null,
            "min_width": null,
            "object_fit": null,
            "object_position": null,
            "order": null,
            "overflow": null,
            "overflow_x": null,
            "overflow_y": null,
            "padding": null,
            "right": null,
            "top": null,
            "visibility": null,
            "width": null
          }
        },
        "0ba88a5b95fc486bbad2554693b2d5d4": {
          "model_module": "@jupyter-widgets/base",
          "model_name": "LayoutModel",
          "model_module_version": "1.2.0",
          "state": {
            "_model_module": "@jupyter-widgets/base",
            "_model_module_version": "1.2.0",
            "_model_name": "LayoutModel",
            "_view_count": null,
            "_view_module": "@jupyter-widgets/base",
            "_view_module_version": "1.2.0",
            "_view_name": "LayoutView",
            "align_content": null,
            "align_items": null,
            "align_self": null,
            "border": null,
            "bottom": null,
            "display": null,
            "flex": null,
            "flex_flow": null,
            "grid_area": null,
            "grid_auto_columns": null,
            "grid_auto_flow": null,
            "grid_auto_rows": null,
            "grid_column": null,
            "grid_gap": null,
            "grid_row": null,
            "grid_template_areas": null,
            "grid_template_columns": null,
            "grid_template_rows": null,
            "height": null,
            "justify_content": null,
            "justify_items": null,
            "left": null,
            "margin": null,
            "max_height": null,
            "max_width": null,
            "min_height": null,
            "min_width": null,
            "object_fit": null,
            "object_position": null,
            "order": null,
            "overflow": null,
            "overflow_x": null,
            "overflow_y": null,
            "padding": null,
            "right": null,
            "top": null,
            "visibility": null,
            "width": null
          }
        },
        "626345b1929f4b0680f6d31093c76bc9": {
          "model_module": "@jupyter-widgets/controls",
          "model_name": "DescriptionStyleModel",
          "model_module_version": "1.5.0",
          "state": {
            "_model_module": "@jupyter-widgets/controls",
            "_model_module_version": "1.5.0",
            "_model_name": "DescriptionStyleModel",
            "_view_count": null,
            "_view_module": "@jupyter-widgets/base",
            "_view_module_version": "1.2.0",
            "_view_name": "StyleView",
            "description_width": ""
          }
        },
        "2f740b163f82412dbba63a62acd96b8f": {
          "model_module": "@jupyter-widgets/base",
          "model_name": "LayoutModel",
          "model_module_version": "1.2.0",
          "state": {
            "_model_module": "@jupyter-widgets/base",
            "_model_module_version": "1.2.0",
            "_model_name": "LayoutModel",
            "_view_count": null,
            "_view_module": "@jupyter-widgets/base",
            "_view_module_version": "1.2.0",
            "_view_name": "LayoutView",
            "align_content": null,
            "align_items": null,
            "align_self": null,
            "border": null,
            "bottom": null,
            "display": null,
            "flex": null,
            "flex_flow": null,
            "grid_area": null,
            "grid_auto_columns": null,
            "grid_auto_flow": null,
            "grid_auto_rows": null,
            "grid_column": null,
            "grid_gap": null,
            "grid_row": null,
            "grid_template_areas": null,
            "grid_template_columns": null,
            "grid_template_rows": null,
            "height": null,
            "justify_content": null,
            "justify_items": null,
            "left": null,
            "margin": null,
            "max_height": null,
            "max_width": null,
            "min_height": null,
            "min_width": null,
            "object_fit": null,
            "object_position": null,
            "order": null,
            "overflow": null,
            "overflow_x": null,
            "overflow_y": null,
            "padding": null,
            "right": null,
            "top": null,
            "visibility": null,
            "width": null
          }
        },
        "32e141d9a749404594dabc3efc03eb9a": {
          "model_module": "@jupyter-widgets/controls",
          "model_name": "ProgressStyleModel",
          "model_module_version": "1.5.0",
          "state": {
            "_model_module": "@jupyter-widgets/controls",
            "_model_module_version": "1.5.0",
            "_model_name": "ProgressStyleModel",
            "_view_count": null,
            "_view_module": "@jupyter-widgets/base",
            "_view_module_version": "1.2.0",
            "_view_name": "StyleView",
            "bar_color": null,
            "description_width": ""
          }
        },
        "8911df63c3f142a7a871f334387bd3f6": {
          "model_module": "@jupyter-widgets/base",
          "model_name": "LayoutModel",
          "model_module_version": "1.2.0",
          "state": {
            "_model_module": "@jupyter-widgets/base",
            "_model_module_version": "1.2.0",
            "_model_name": "LayoutModel",
            "_view_count": null,
            "_view_module": "@jupyter-widgets/base",
            "_view_module_version": "1.2.0",
            "_view_name": "LayoutView",
            "align_content": null,
            "align_items": null,
            "align_self": null,
            "border": null,
            "bottom": null,
            "display": null,
            "flex": null,
            "flex_flow": null,
            "grid_area": null,
            "grid_auto_columns": null,
            "grid_auto_flow": null,
            "grid_auto_rows": null,
            "grid_column": null,
            "grid_gap": null,
            "grid_row": null,
            "grid_template_areas": null,
            "grid_template_columns": null,
            "grid_template_rows": null,
            "height": null,
            "justify_content": null,
            "justify_items": null,
            "left": null,
            "margin": null,
            "max_height": null,
            "max_width": null,
            "min_height": null,
            "min_width": null,
            "object_fit": null,
            "object_position": null,
            "order": null,
            "overflow": null,
            "overflow_x": null,
            "overflow_y": null,
            "padding": null,
            "right": null,
            "top": null,
            "visibility": null,
            "width": null
          }
        },
        "c326c5555683410eb6cbfc0ea5bedf04": {
          "model_module": "@jupyter-widgets/controls",
          "model_name": "DescriptionStyleModel",
          "model_module_version": "1.5.0",
          "state": {
            "_model_module": "@jupyter-widgets/controls",
            "_model_module_version": "1.5.0",
            "_model_name": "DescriptionStyleModel",
            "_view_count": null,
            "_view_module": "@jupyter-widgets/base",
            "_view_module_version": "1.2.0",
            "_view_name": "StyleView",
            "description_width": ""
          }
        },
        "9cd777c80ec346bda81e3dc107ce36c5": {
          "model_module": "@jupyter-widgets/controls",
          "model_name": "HBoxModel",
          "model_module_version": "1.5.0",
          "state": {
            "_dom_classes": [],
            "_model_module": "@jupyter-widgets/controls",
            "_model_module_version": "1.5.0",
            "_model_name": "HBoxModel",
            "_view_count": null,
            "_view_module": "@jupyter-widgets/controls",
            "_view_module_version": "1.5.0",
            "_view_name": "HBoxView",
            "box_style": "",
            "children": [
              "IPY_MODEL_a803a832a92449bbb144f07469875896",
              "IPY_MODEL_cfd47a87b4d44da69f688cbeedacd94f",
              "IPY_MODEL_4b1867b849c148afa39110922c976f92"
            ],
            "layout": "IPY_MODEL_8b698b08bee941348105c6d6f82bdc3a"
          }
        },
        "a803a832a92449bbb144f07469875896": {
          "model_module": "@jupyter-widgets/controls",
          "model_name": "HTMLModel",
          "model_module_version": "1.5.0",
          "state": {
            "_dom_classes": [],
            "_model_module": "@jupyter-widgets/controls",
            "_model_module_version": "1.5.0",
            "_model_name": "HTMLModel",
            "_view_count": null,
            "_view_module": "@jupyter-widgets/controls",
            "_view_module_version": "1.5.0",
            "_view_name": "HTMLView",
            "description": "",
            "description_tooltip": null,
            "layout": "IPY_MODEL_39263255302942b78b3c9ad12171a853",
            "placeholder": "​",
            "style": "IPY_MODEL_d483ae2ef8184a69864922fb270f061d",
            "value": "Generating train split: "
          }
        },
        "cfd47a87b4d44da69f688cbeedacd94f": {
          "model_module": "@jupyter-widgets/controls",
          "model_name": "FloatProgressModel",
          "model_module_version": "1.5.0",
          "state": {
            "_dom_classes": [],
            "_model_module": "@jupyter-widgets/controls",
            "_model_module_version": "1.5.0",
            "_model_name": "FloatProgressModel",
            "_view_count": null,
            "_view_module": "@jupyter-widgets/controls",
            "_view_module_version": "1.5.0",
            "_view_name": "ProgressView",
            "bar_style": "success",
            "description": "",
            "description_tooltip": null,
            "layout": "IPY_MODEL_b361460e128e4c8e8188d21b1d29fec2",
            "max": 1,
            "min": 0,
            "orientation": "horizontal",
            "style": "IPY_MODEL_cf49b8eea7414985a10c3a1385080505",
            "value": 1
          }
        },
        "4b1867b849c148afa39110922c976f92": {
          "model_module": "@jupyter-widgets/controls",
          "model_name": "HTMLModel",
          "model_module_version": "1.5.0",
          "state": {
            "_dom_classes": [],
            "_model_module": "@jupyter-widgets/controls",
            "_model_module_version": "1.5.0",
            "_model_name": "HTMLModel",
            "_view_count": null,
            "_view_module": "@jupyter-widgets/controls",
            "_view_module_version": "1.5.0",
            "_view_name": "HTMLView",
            "description": "",
            "description_tooltip": null,
            "layout": "IPY_MODEL_2e4bdbe0fb114b4a8220b00f6a6ca33d",
            "placeholder": "​",
            "style": "IPY_MODEL_af5080f3dccd4700aa28b941ca3755e0",
            "value": " 31708/0 [00:01&lt;00:00, 30820.80 examples/s]"
          }
        },
        "8b698b08bee941348105c6d6f82bdc3a": {
          "model_module": "@jupyter-widgets/base",
          "model_name": "LayoutModel",
          "model_module_version": "1.2.0",
          "state": {
            "_model_module": "@jupyter-widgets/base",
            "_model_module_version": "1.2.0",
            "_model_name": "LayoutModel",
            "_view_count": null,
            "_view_module": "@jupyter-widgets/base",
            "_view_module_version": "1.2.0",
            "_view_name": "LayoutView",
            "align_content": null,
            "align_items": null,
            "align_self": null,
            "border": null,
            "bottom": null,
            "display": null,
            "flex": null,
            "flex_flow": null,
            "grid_area": null,
            "grid_auto_columns": null,
            "grid_auto_flow": null,
            "grid_auto_rows": null,
            "grid_column": null,
            "grid_gap": null,
            "grid_row": null,
            "grid_template_areas": null,
            "grid_template_columns": null,
            "grid_template_rows": null,
            "height": null,
            "justify_content": null,
            "justify_items": null,
            "left": null,
            "margin": null,
            "max_height": null,
            "max_width": null,
            "min_height": null,
            "min_width": null,
            "object_fit": null,
            "object_position": null,
            "order": null,
            "overflow": null,
            "overflow_x": null,
            "overflow_y": null,
            "padding": null,
            "right": null,
            "top": null,
            "visibility": null,
            "width": null
          }
        },
        "39263255302942b78b3c9ad12171a853": {
          "model_module": "@jupyter-widgets/base",
          "model_name": "LayoutModel",
          "model_module_version": "1.2.0",
          "state": {
            "_model_module": "@jupyter-widgets/base",
            "_model_module_version": "1.2.0",
            "_model_name": "LayoutModel",
            "_view_count": null,
            "_view_module": "@jupyter-widgets/base",
            "_view_module_version": "1.2.0",
            "_view_name": "LayoutView",
            "align_content": null,
            "align_items": null,
            "align_self": null,
            "border": null,
            "bottom": null,
            "display": null,
            "flex": null,
            "flex_flow": null,
            "grid_area": null,
            "grid_auto_columns": null,
            "grid_auto_flow": null,
            "grid_auto_rows": null,
            "grid_column": null,
            "grid_gap": null,
            "grid_row": null,
            "grid_template_areas": null,
            "grid_template_columns": null,
            "grid_template_rows": null,
            "height": null,
            "justify_content": null,
            "justify_items": null,
            "left": null,
            "margin": null,
            "max_height": null,
            "max_width": null,
            "min_height": null,
            "min_width": null,
            "object_fit": null,
            "object_position": null,
            "order": null,
            "overflow": null,
            "overflow_x": null,
            "overflow_y": null,
            "padding": null,
            "right": null,
            "top": null,
            "visibility": null,
            "width": null
          }
        },
        "d483ae2ef8184a69864922fb270f061d": {
          "model_module": "@jupyter-widgets/controls",
          "model_name": "DescriptionStyleModel",
          "model_module_version": "1.5.0",
          "state": {
            "_model_module": "@jupyter-widgets/controls",
            "_model_module_version": "1.5.0",
            "_model_name": "DescriptionStyleModel",
            "_view_count": null,
            "_view_module": "@jupyter-widgets/base",
            "_view_module_version": "1.2.0",
            "_view_name": "StyleView",
            "description_width": ""
          }
        },
        "b361460e128e4c8e8188d21b1d29fec2": {
          "model_module": "@jupyter-widgets/base",
          "model_name": "LayoutModel",
          "model_module_version": "1.2.0",
          "state": {
            "_model_module": "@jupyter-widgets/base",
            "_model_module_version": "1.2.0",
            "_model_name": "LayoutModel",
            "_view_count": null,
            "_view_module": "@jupyter-widgets/base",
            "_view_module_version": "1.2.0",
            "_view_name": "LayoutView",
            "align_content": null,
            "align_items": null,
            "align_self": null,
            "border": null,
            "bottom": null,
            "display": null,
            "flex": null,
            "flex_flow": null,
            "grid_area": null,
            "grid_auto_columns": null,
            "grid_auto_flow": null,
            "grid_auto_rows": null,
            "grid_column": null,
            "grid_gap": null,
            "grid_row": null,
            "grid_template_areas": null,
            "grid_template_columns": null,
            "grid_template_rows": null,
            "height": null,
            "justify_content": null,
            "justify_items": null,
            "left": null,
            "margin": null,
            "max_height": null,
            "max_width": null,
            "min_height": null,
            "min_width": null,
            "object_fit": null,
            "object_position": null,
            "order": null,
            "overflow": null,
            "overflow_x": null,
            "overflow_y": null,
            "padding": null,
            "right": null,
            "top": null,
            "visibility": null,
            "width": "20px"
          }
        },
        "cf49b8eea7414985a10c3a1385080505": {
          "model_module": "@jupyter-widgets/controls",
          "model_name": "ProgressStyleModel",
          "model_module_version": "1.5.0",
          "state": {
            "_model_module": "@jupyter-widgets/controls",
            "_model_module_version": "1.5.0",
            "_model_name": "ProgressStyleModel",
            "_view_count": null,
            "_view_module": "@jupyter-widgets/base",
            "_view_module_version": "1.2.0",
            "_view_name": "StyleView",
            "bar_color": null,
            "description_width": ""
          }
        },
        "2e4bdbe0fb114b4a8220b00f6a6ca33d": {
          "model_module": "@jupyter-widgets/base",
          "model_name": "LayoutModel",
          "model_module_version": "1.2.0",
          "state": {
            "_model_module": "@jupyter-widgets/base",
            "_model_module_version": "1.2.0",
            "_model_name": "LayoutModel",
            "_view_count": null,
            "_view_module": "@jupyter-widgets/base",
            "_view_module_version": "1.2.0",
            "_view_name": "LayoutView",
            "align_content": null,
            "align_items": null,
            "align_self": null,
            "border": null,
            "bottom": null,
            "display": null,
            "flex": null,
            "flex_flow": null,
            "grid_area": null,
            "grid_auto_columns": null,
            "grid_auto_flow": null,
            "grid_auto_rows": null,
            "grid_column": null,
            "grid_gap": null,
            "grid_row": null,
            "grid_template_areas": null,
            "grid_template_columns": null,
            "grid_template_rows": null,
            "height": null,
            "justify_content": null,
            "justify_items": null,
            "left": null,
            "margin": null,
            "max_height": null,
            "max_width": null,
            "min_height": null,
            "min_width": null,
            "object_fit": null,
            "object_position": null,
            "order": null,
            "overflow": null,
            "overflow_x": null,
            "overflow_y": null,
            "padding": null,
            "right": null,
            "top": null,
            "visibility": null,
            "width": null
          }
        },
        "af5080f3dccd4700aa28b941ca3755e0": {
          "model_module": "@jupyter-widgets/controls",
          "model_name": "DescriptionStyleModel",
          "model_module_version": "1.5.0",
          "state": {
            "_model_module": "@jupyter-widgets/controls",
            "_model_module_version": "1.5.0",
            "_model_name": "DescriptionStyleModel",
            "_view_count": null,
            "_view_module": "@jupyter-widgets/base",
            "_view_module_version": "1.2.0",
            "_view_name": "StyleView",
            "description_width": ""
          }
        },
        "e9226056c918411eb8bf5a5679d63d2c": {
          "model_module": "@jupyter-widgets/controls",
          "model_name": "HBoxModel",
          "model_module_version": "1.5.0",
          "state": {
            "_dom_classes": [],
            "_model_module": "@jupyter-widgets/controls",
            "_model_module_version": "1.5.0",
            "_model_name": "HBoxModel",
            "_view_count": null,
            "_view_module": "@jupyter-widgets/controls",
            "_view_module_version": "1.5.0",
            "_view_name": "HBoxView",
            "box_style": "",
            "children": [
              "IPY_MODEL_6eb07ce5c0c94f36a677ca38707d3822",
              "IPY_MODEL_eaa36432b3c24c318c53ab91d21c70a9",
              "IPY_MODEL_7153a731261d4c1ab41b93e32921b89e"
            ],
            "layout": "IPY_MODEL_62b18a8e4381404d93006d5815e7f2d5"
          }
        },
        "6eb07ce5c0c94f36a677ca38707d3822": {
          "model_module": "@jupyter-widgets/controls",
          "model_name": "HTMLModel",
          "model_module_version": "1.5.0",
          "state": {
            "_dom_classes": [],
            "_model_module": "@jupyter-widgets/controls",
            "_model_module_version": "1.5.0",
            "_model_name": "HTMLModel",
            "_view_count": null,
            "_view_module": "@jupyter-widgets/controls",
            "_view_module_version": "1.5.0",
            "_view_name": "HTMLView",
            "description": "",
            "description_tooltip": null,
            "layout": "IPY_MODEL_e189c1fbe0c84286ac5f75c1b859c225",
            "placeholder": "​",
            "style": "IPY_MODEL_97548c47932343e6b29b42be07f026fa",
            "value": "Map: 100%"
          }
        },
        "eaa36432b3c24c318c53ab91d21c70a9": {
          "model_module": "@jupyter-widgets/controls",
          "model_name": "FloatProgressModel",
          "model_module_version": "1.5.0",
          "state": {
            "_dom_classes": [],
            "_model_module": "@jupyter-widgets/controls",
            "_model_module_version": "1.5.0",
            "_model_name": "FloatProgressModel",
            "_view_count": null,
            "_view_module": "@jupyter-widgets/controls",
            "_view_module_version": "1.5.0",
            "_view_name": "ProgressView",
            "bar_style": "success",
            "description": "",
            "description_tooltip": null,
            "layout": "IPY_MODEL_aeebd3f7eebe4b98bdae1b56292df013",
            "max": 31708,
            "min": 0,
            "orientation": "horizontal",
            "style": "IPY_MODEL_c20858f4a1b44a2989d5a0ca38192b1f",
            "value": 31708
          }
        },
        "7153a731261d4c1ab41b93e32921b89e": {
          "model_module": "@jupyter-widgets/controls",
          "model_name": "HTMLModel",
          "model_module_version": "1.5.0",
          "state": {
            "_dom_classes": [],
            "_model_module": "@jupyter-widgets/controls",
            "_model_module_version": "1.5.0",
            "_model_name": "HTMLModel",
            "_view_count": null,
            "_view_module": "@jupyter-widgets/controls",
            "_view_module_version": "1.5.0",
            "_view_name": "HTMLView",
            "description": "",
            "description_tooltip": null,
            "layout": "IPY_MODEL_d0104b8a4aea4a619fdaf4782ecda5d0",
            "placeholder": "​",
            "style": "IPY_MODEL_891035ebecd74750b079f814efae71db",
            "value": " 31708/31708 [00:21&lt;00:00, 1492.70 examples/s]"
          }
        },
        "62b18a8e4381404d93006d5815e7f2d5": {
          "model_module": "@jupyter-widgets/base",
          "model_name": "LayoutModel",
          "model_module_version": "1.2.0",
          "state": {
            "_model_module": "@jupyter-widgets/base",
            "_model_module_version": "1.2.0",
            "_model_name": "LayoutModel",
            "_view_count": null,
            "_view_module": "@jupyter-widgets/base",
            "_view_module_version": "1.2.0",
            "_view_name": "LayoutView",
            "align_content": null,
            "align_items": null,
            "align_self": null,
            "border": null,
            "bottom": null,
            "display": null,
            "flex": null,
            "flex_flow": null,
            "grid_area": null,
            "grid_auto_columns": null,
            "grid_auto_flow": null,
            "grid_auto_rows": null,
            "grid_column": null,
            "grid_gap": null,
            "grid_row": null,
            "grid_template_areas": null,
            "grid_template_columns": null,
            "grid_template_rows": null,
            "height": null,
            "justify_content": null,
            "justify_items": null,
            "left": null,
            "margin": null,
            "max_height": null,
            "max_width": null,
            "min_height": null,
            "min_width": null,
            "object_fit": null,
            "object_position": null,
            "order": null,
            "overflow": null,
            "overflow_x": null,
            "overflow_y": null,
            "padding": null,
            "right": null,
            "top": null,
            "visibility": null,
            "width": null
          }
        },
        "e189c1fbe0c84286ac5f75c1b859c225": {
          "model_module": "@jupyter-widgets/base",
          "model_name": "LayoutModel",
          "model_module_version": "1.2.0",
          "state": {
            "_model_module": "@jupyter-widgets/base",
            "_model_module_version": "1.2.0",
            "_model_name": "LayoutModel",
            "_view_count": null,
            "_view_module": "@jupyter-widgets/base",
            "_view_module_version": "1.2.0",
            "_view_name": "LayoutView",
            "align_content": null,
            "align_items": null,
            "align_self": null,
            "border": null,
            "bottom": null,
            "display": null,
            "flex": null,
            "flex_flow": null,
            "grid_area": null,
            "grid_auto_columns": null,
            "grid_auto_flow": null,
            "grid_auto_rows": null,
            "grid_column": null,
            "grid_gap": null,
            "grid_row": null,
            "grid_template_areas": null,
            "grid_template_columns": null,
            "grid_template_rows": null,
            "height": null,
            "justify_content": null,
            "justify_items": null,
            "left": null,
            "margin": null,
            "max_height": null,
            "max_width": null,
            "min_height": null,
            "min_width": null,
            "object_fit": null,
            "object_position": null,
            "order": null,
            "overflow": null,
            "overflow_x": null,
            "overflow_y": null,
            "padding": null,
            "right": null,
            "top": null,
            "visibility": null,
            "width": null
          }
        },
        "97548c47932343e6b29b42be07f026fa": {
          "model_module": "@jupyter-widgets/controls",
          "model_name": "DescriptionStyleModel",
          "model_module_version": "1.5.0",
          "state": {
            "_model_module": "@jupyter-widgets/controls",
            "_model_module_version": "1.5.0",
            "_model_name": "DescriptionStyleModel",
            "_view_count": null,
            "_view_module": "@jupyter-widgets/base",
            "_view_module_version": "1.2.0",
            "_view_name": "StyleView",
            "description_width": ""
          }
        },
        "aeebd3f7eebe4b98bdae1b56292df013": {
          "model_module": "@jupyter-widgets/base",
          "model_name": "LayoutModel",
          "model_module_version": "1.2.0",
          "state": {
            "_model_module": "@jupyter-widgets/base",
            "_model_module_version": "1.2.0",
            "_model_name": "LayoutModel",
            "_view_count": null,
            "_view_module": "@jupyter-widgets/base",
            "_view_module_version": "1.2.0",
            "_view_name": "LayoutView",
            "align_content": null,
            "align_items": null,
            "align_self": null,
            "border": null,
            "bottom": null,
            "display": null,
            "flex": null,
            "flex_flow": null,
            "grid_area": null,
            "grid_auto_columns": null,
            "grid_auto_flow": null,
            "grid_auto_rows": null,
            "grid_column": null,
            "grid_gap": null,
            "grid_row": null,
            "grid_template_areas": null,
            "grid_template_columns": null,
            "grid_template_rows": null,
            "height": null,
            "justify_content": null,
            "justify_items": null,
            "left": null,
            "margin": null,
            "max_height": null,
            "max_width": null,
            "min_height": null,
            "min_width": null,
            "object_fit": null,
            "object_position": null,
            "order": null,
            "overflow": null,
            "overflow_x": null,
            "overflow_y": null,
            "padding": null,
            "right": null,
            "top": null,
            "visibility": null,
            "width": null
          }
        },
        "c20858f4a1b44a2989d5a0ca38192b1f": {
          "model_module": "@jupyter-widgets/controls",
          "model_name": "ProgressStyleModel",
          "model_module_version": "1.5.0",
          "state": {
            "_model_module": "@jupyter-widgets/controls",
            "_model_module_version": "1.5.0",
            "_model_name": "ProgressStyleModel",
            "_view_count": null,
            "_view_module": "@jupyter-widgets/base",
            "_view_module_version": "1.2.0",
            "_view_name": "StyleView",
            "bar_color": null,
            "description_width": ""
          }
        },
        "d0104b8a4aea4a619fdaf4782ecda5d0": {
          "model_module": "@jupyter-widgets/base",
          "model_name": "LayoutModel",
          "model_module_version": "1.2.0",
          "state": {
            "_model_module": "@jupyter-widgets/base",
            "_model_module_version": "1.2.0",
            "_model_name": "LayoutModel",
            "_view_count": null,
            "_view_module": "@jupyter-widgets/base",
            "_view_module_version": "1.2.0",
            "_view_name": "LayoutView",
            "align_content": null,
            "align_items": null,
            "align_self": null,
            "border": null,
            "bottom": null,
            "display": null,
            "flex": null,
            "flex_flow": null,
            "grid_area": null,
            "grid_auto_columns": null,
            "grid_auto_flow": null,
            "grid_auto_rows": null,
            "grid_column": null,
            "grid_gap": null,
            "grid_row": null,
            "grid_template_areas": null,
            "grid_template_columns": null,
            "grid_template_rows": null,
            "height": null,
            "justify_content": null,
            "justify_items": null,
            "left": null,
            "margin": null,
            "max_height": null,
            "max_width": null,
            "min_height": null,
            "min_width": null,
            "object_fit": null,
            "object_position": null,
            "order": null,
            "overflow": null,
            "overflow_x": null,
            "overflow_y": null,
            "padding": null,
            "right": null,
            "top": null,
            "visibility": null,
            "width": null
          }
        },
        "891035ebecd74750b079f814efae71db": {
          "model_module": "@jupyter-widgets/controls",
          "model_name": "DescriptionStyleModel",
          "model_module_version": "1.5.0",
          "state": {
            "_model_module": "@jupyter-widgets/controls",
            "_model_module_version": "1.5.0",
            "_model_name": "DescriptionStyleModel",
            "_view_count": null,
            "_view_module": "@jupyter-widgets/base",
            "_view_module_version": "1.2.0",
            "_view_name": "StyleView",
            "description_width": ""
          }
        },
        "ebd02299f399462889b4d3134aa7f39e": {
          "model_module": "@jupyter-widgets/controls",
          "model_name": "HBoxModel",
          "model_module_version": "1.5.0",
          "state": {
            "_dom_classes": [],
            "_model_module": "@jupyter-widgets/controls",
            "_model_module_version": "1.5.0",
            "_model_name": "HBoxModel",
            "_view_count": null,
            "_view_module": "@jupyter-widgets/controls",
            "_view_module_version": "1.5.0",
            "_view_name": "HBoxView",
            "box_style": "",
            "children": [
              "IPY_MODEL_90ef7a3900e94f7388f44003fc3233dc",
              "IPY_MODEL_6cf5bd39c2094ae4b77f48dbf85d269d",
              "IPY_MODEL_29d5528c64c043ca83f598bcd0fa319a"
            ],
            "layout": "IPY_MODEL_1476789146e345b885cb6c9f83655369"
          }
        },
        "90ef7a3900e94f7388f44003fc3233dc": {
          "model_module": "@jupyter-widgets/controls",
          "model_name": "HTMLModel",
          "model_module_version": "1.5.0",
          "state": {
            "_dom_classes": [],
            "_model_module": "@jupyter-widgets/controls",
            "_model_module_version": "1.5.0",
            "_model_name": "HTMLModel",
            "_view_count": null,
            "_view_module": "@jupyter-widgets/controls",
            "_view_module_version": "1.5.0",
            "_view_name": "HTMLView",
            "description": "",
            "description_tooltip": null,
            "layout": "IPY_MODEL_afbf9e0daee2482f900921f7f54c29f4",
            "placeholder": "​",
            "style": "IPY_MODEL_f5af640746824b0ba2d1e4d85cf6439b",
            "value": "Map: 100%"
          }
        },
        "6cf5bd39c2094ae4b77f48dbf85d269d": {
          "model_module": "@jupyter-widgets/controls",
          "model_name": "FloatProgressModel",
          "model_module_version": "1.5.0",
          "state": {
            "_dom_classes": [],
            "_model_module": "@jupyter-widgets/controls",
            "_model_module_version": "1.5.0",
            "_model_name": "FloatProgressModel",
            "_view_count": null,
            "_view_module": "@jupyter-widgets/controls",
            "_view_module_version": "1.5.0",
            "_view_name": "ProgressView",
            "bar_style": "success",
            "description": "",
            "description_tooltip": null,
            "layout": "IPY_MODEL_3d7d1499fd8443c6a0b64ca91149f1bc",
            "max": 31708,
            "min": 0,
            "orientation": "horizontal",
            "style": "IPY_MODEL_921e508a0b544ac1a3fd2062b3416ca8",
            "value": 31708
          }
        },
        "29d5528c64c043ca83f598bcd0fa319a": {
          "model_module": "@jupyter-widgets/controls",
          "model_name": "HTMLModel",
          "model_module_version": "1.5.0",
          "state": {
            "_dom_classes": [],
            "_model_module": "@jupyter-widgets/controls",
            "_model_module_version": "1.5.0",
            "_model_name": "HTMLModel",
            "_view_count": null,
            "_view_module": "@jupyter-widgets/controls",
            "_view_module_version": "1.5.0",
            "_view_name": "HTMLView",
            "description": "",
            "description_tooltip": null,
            "layout": "IPY_MODEL_5c01683ec53b4db2b2c2826dda29bb52",
            "placeholder": "​",
            "style": "IPY_MODEL_7daa64b009d2496da4d0c710c101e665",
            "value": " 31708/31708 [00:16&lt;00:00, 2686.49 examples/s]"
          }
        },
        "1476789146e345b885cb6c9f83655369": {
          "model_module": "@jupyter-widgets/base",
          "model_name": "LayoutModel",
          "model_module_version": "1.2.0",
          "state": {
            "_model_module": "@jupyter-widgets/base",
            "_model_module_version": "1.2.0",
            "_model_name": "LayoutModel",
            "_view_count": null,
            "_view_module": "@jupyter-widgets/base",
            "_view_module_version": "1.2.0",
            "_view_name": "LayoutView",
            "align_content": null,
            "align_items": null,
            "align_self": null,
            "border": null,
            "bottom": null,
            "display": null,
            "flex": null,
            "flex_flow": null,
            "grid_area": null,
            "grid_auto_columns": null,
            "grid_auto_flow": null,
            "grid_auto_rows": null,
            "grid_column": null,
            "grid_gap": null,
            "grid_row": null,
            "grid_template_areas": null,
            "grid_template_columns": null,
            "grid_template_rows": null,
            "height": null,
            "justify_content": null,
            "justify_items": null,
            "left": null,
            "margin": null,
            "max_height": null,
            "max_width": null,
            "min_height": null,
            "min_width": null,
            "object_fit": null,
            "object_position": null,
            "order": null,
            "overflow": null,
            "overflow_x": null,
            "overflow_y": null,
            "padding": null,
            "right": null,
            "top": null,
            "visibility": null,
            "width": null
          }
        },
        "afbf9e0daee2482f900921f7f54c29f4": {
          "model_module": "@jupyter-widgets/base",
          "model_name": "LayoutModel",
          "model_module_version": "1.2.0",
          "state": {
            "_model_module": "@jupyter-widgets/base",
            "_model_module_version": "1.2.0",
            "_model_name": "LayoutModel",
            "_view_count": null,
            "_view_module": "@jupyter-widgets/base",
            "_view_module_version": "1.2.0",
            "_view_name": "LayoutView",
            "align_content": null,
            "align_items": null,
            "align_self": null,
            "border": null,
            "bottom": null,
            "display": null,
            "flex": null,
            "flex_flow": null,
            "grid_area": null,
            "grid_auto_columns": null,
            "grid_auto_flow": null,
            "grid_auto_rows": null,
            "grid_column": null,
            "grid_gap": null,
            "grid_row": null,
            "grid_template_areas": null,
            "grid_template_columns": null,
            "grid_template_rows": null,
            "height": null,
            "justify_content": null,
            "justify_items": null,
            "left": null,
            "margin": null,
            "max_height": null,
            "max_width": null,
            "min_height": null,
            "min_width": null,
            "object_fit": null,
            "object_position": null,
            "order": null,
            "overflow": null,
            "overflow_x": null,
            "overflow_y": null,
            "padding": null,
            "right": null,
            "top": null,
            "visibility": null,
            "width": null
          }
        },
        "f5af640746824b0ba2d1e4d85cf6439b": {
          "model_module": "@jupyter-widgets/controls",
          "model_name": "DescriptionStyleModel",
          "model_module_version": "1.5.0",
          "state": {
            "_model_module": "@jupyter-widgets/controls",
            "_model_module_version": "1.5.0",
            "_model_name": "DescriptionStyleModel",
            "_view_count": null,
            "_view_module": "@jupyter-widgets/base",
            "_view_module_version": "1.2.0",
            "_view_name": "StyleView",
            "description_width": ""
          }
        },
        "3d7d1499fd8443c6a0b64ca91149f1bc": {
          "model_module": "@jupyter-widgets/base",
          "model_name": "LayoutModel",
          "model_module_version": "1.2.0",
          "state": {
            "_model_module": "@jupyter-widgets/base",
            "_model_module_version": "1.2.0",
            "_model_name": "LayoutModel",
            "_view_count": null,
            "_view_module": "@jupyter-widgets/base",
            "_view_module_version": "1.2.0",
            "_view_name": "LayoutView",
            "align_content": null,
            "align_items": null,
            "align_self": null,
            "border": null,
            "bottom": null,
            "display": null,
            "flex": null,
            "flex_flow": null,
            "grid_area": null,
            "grid_auto_columns": null,
            "grid_auto_flow": null,
            "grid_auto_rows": null,
            "grid_column": null,
            "grid_gap": null,
            "grid_row": null,
            "grid_template_areas": null,
            "grid_template_columns": null,
            "grid_template_rows": null,
            "height": null,
            "justify_content": null,
            "justify_items": null,
            "left": null,
            "margin": null,
            "max_height": null,
            "max_width": null,
            "min_height": null,
            "min_width": null,
            "object_fit": null,
            "object_position": null,
            "order": null,
            "overflow": null,
            "overflow_x": null,
            "overflow_y": null,
            "padding": null,
            "right": null,
            "top": null,
            "visibility": null,
            "width": null
          }
        },
        "921e508a0b544ac1a3fd2062b3416ca8": {
          "model_module": "@jupyter-widgets/controls",
          "model_name": "ProgressStyleModel",
          "model_module_version": "1.5.0",
          "state": {
            "_model_module": "@jupyter-widgets/controls",
            "_model_module_version": "1.5.0",
            "_model_name": "ProgressStyleModel",
            "_view_count": null,
            "_view_module": "@jupyter-widgets/base",
            "_view_module_version": "1.2.0",
            "_view_name": "StyleView",
            "bar_color": null,
            "description_width": ""
          }
        },
        "5c01683ec53b4db2b2c2826dda29bb52": {
          "model_module": "@jupyter-widgets/base",
          "model_name": "LayoutModel",
          "model_module_version": "1.2.0",
          "state": {
            "_model_module": "@jupyter-widgets/base",
            "_model_module_version": "1.2.0",
            "_model_name": "LayoutModel",
            "_view_count": null,
            "_view_module": "@jupyter-widgets/base",
            "_view_module_version": "1.2.0",
            "_view_name": "LayoutView",
            "align_content": null,
            "align_items": null,
            "align_self": null,
            "border": null,
            "bottom": null,
            "display": null,
            "flex": null,
            "flex_flow": null,
            "grid_area": null,
            "grid_auto_columns": null,
            "grid_auto_flow": null,
            "grid_auto_rows": null,
            "grid_column": null,
            "grid_gap": null,
            "grid_row": null,
            "grid_template_areas": null,
            "grid_template_columns": null,
            "grid_template_rows": null,
            "height": null,
            "justify_content": null,
            "justify_items": null,
            "left": null,
            "margin": null,
            "max_height": null,
            "max_width": null,
            "min_height": null,
            "min_width": null,
            "object_fit": null,
            "object_position": null,
            "order": null,
            "overflow": null,
            "overflow_x": null,
            "overflow_y": null,
            "padding": null,
            "right": null,
            "top": null,
            "visibility": null,
            "width": null
          }
        },
        "7daa64b009d2496da4d0c710c101e665": {
          "model_module": "@jupyter-widgets/controls",
          "model_name": "DescriptionStyleModel",
          "model_module_version": "1.5.0",
          "state": {
            "_model_module": "@jupyter-widgets/controls",
            "_model_module_version": "1.5.0",
            "_model_name": "DescriptionStyleModel",
            "_view_count": null,
            "_view_module": "@jupyter-widgets/base",
            "_view_module_version": "1.2.0",
            "_view_name": "StyleView",
            "description_width": ""
          }
        },
        "7f0f98ec920a43288d41ca371f0c52a9": {
          "model_module": "@jupyter-widgets/controls",
          "model_name": "HBoxModel",
          "model_module_version": "1.5.0",
          "state": {
            "_dom_classes": [],
            "_model_module": "@jupyter-widgets/controls",
            "_model_module_version": "1.5.0",
            "_model_name": "HBoxModel",
            "_view_count": null,
            "_view_module": "@jupyter-widgets/controls",
            "_view_module_version": "1.5.0",
            "_view_name": "HBoxView",
            "box_style": "",
            "children": [
              "IPY_MODEL_129e261d95d34b8bbbe126adbfc1cf55",
              "IPY_MODEL_428ebb4bc57946e0994df7e24ec27858",
              "IPY_MODEL_fa360fe22ae144348755a44ff4f9f7b0"
            ],
            "layout": "IPY_MODEL_8d962ab153754d70982ad6f4c4fe52f0"
          }
        },
        "129e261d95d34b8bbbe126adbfc1cf55": {
          "model_module": "@jupyter-widgets/controls",
          "model_name": "HTMLModel",
          "model_module_version": "1.5.0",
          "state": {
            "_dom_classes": [],
            "_model_module": "@jupyter-widgets/controls",
            "_model_module_version": "1.5.0",
            "_model_name": "HTMLModel",
            "_view_count": null,
            "_view_module": "@jupyter-widgets/controls",
            "_view_module_version": "1.5.0",
            "_view_name": "HTMLView",
            "description": "",
            "description_tooltip": null,
            "layout": "IPY_MODEL_baa99d3f0f064ba5ad47cc72b527af0d",
            "placeholder": "​",
            "style": "IPY_MODEL_0b8f64e45fbb44058862afde84d221b3",
            "value": "Map: 100%"
          }
        },
        "428ebb4bc57946e0994df7e24ec27858": {
          "model_module": "@jupyter-widgets/controls",
          "model_name": "FloatProgressModel",
          "model_module_version": "1.5.0",
          "state": {
            "_dom_classes": [],
            "_model_module": "@jupyter-widgets/controls",
            "_model_module_version": "1.5.0",
            "_model_name": "FloatProgressModel",
            "_view_count": null,
            "_view_module": "@jupyter-widgets/controls",
            "_view_module_version": "1.5.0",
            "_view_name": "ProgressView",
            "bar_style": "success",
            "description": "",
            "description_tooltip": null,
            "layout": "IPY_MODEL_ff6a3826658c44f4bb456857e4922917",
            "max": 31708,
            "min": 0,
            "orientation": "horizontal",
            "style": "IPY_MODEL_8c34c6875d844f0ba8c75caa5cd5bb28",
            "value": 31708
          }
        },
        "fa360fe22ae144348755a44ff4f9f7b0": {
          "model_module": "@jupyter-widgets/controls",
          "model_name": "HTMLModel",
          "model_module_version": "1.5.0",
          "state": {
            "_dom_classes": [],
            "_model_module": "@jupyter-widgets/controls",
            "_model_module_version": "1.5.0",
            "_model_name": "HTMLModel",
            "_view_count": null,
            "_view_module": "@jupyter-widgets/controls",
            "_view_module_version": "1.5.0",
            "_view_name": "HTMLView",
            "description": "",
            "description_tooltip": null,
            "layout": "IPY_MODEL_896f9418368440138873e4692c683a1c",
            "placeholder": "​",
            "style": "IPY_MODEL_28870ed8644841cda0c78b95554a8719",
            "value": " 31708/31708 [00:09&lt;00:00, 3548.87 examples/s]"
          }
        },
        "8d962ab153754d70982ad6f4c4fe52f0": {
          "model_module": "@jupyter-widgets/base",
          "model_name": "LayoutModel",
          "model_module_version": "1.2.0",
          "state": {
            "_model_module": "@jupyter-widgets/base",
            "_model_module_version": "1.2.0",
            "_model_name": "LayoutModel",
            "_view_count": null,
            "_view_module": "@jupyter-widgets/base",
            "_view_module_version": "1.2.0",
            "_view_name": "LayoutView",
            "align_content": null,
            "align_items": null,
            "align_self": null,
            "border": null,
            "bottom": null,
            "display": null,
            "flex": null,
            "flex_flow": null,
            "grid_area": null,
            "grid_auto_columns": null,
            "grid_auto_flow": null,
            "grid_auto_rows": null,
            "grid_column": null,
            "grid_gap": null,
            "grid_row": null,
            "grid_template_areas": null,
            "grid_template_columns": null,
            "grid_template_rows": null,
            "height": null,
            "justify_content": null,
            "justify_items": null,
            "left": null,
            "margin": null,
            "max_height": null,
            "max_width": null,
            "min_height": null,
            "min_width": null,
            "object_fit": null,
            "object_position": null,
            "order": null,
            "overflow": null,
            "overflow_x": null,
            "overflow_y": null,
            "padding": null,
            "right": null,
            "top": null,
            "visibility": null,
            "width": null
          }
        },
        "baa99d3f0f064ba5ad47cc72b527af0d": {
          "model_module": "@jupyter-widgets/base",
          "model_name": "LayoutModel",
          "model_module_version": "1.2.0",
          "state": {
            "_model_module": "@jupyter-widgets/base",
            "_model_module_version": "1.2.0",
            "_model_name": "LayoutModel",
            "_view_count": null,
            "_view_module": "@jupyter-widgets/base",
            "_view_module_version": "1.2.0",
            "_view_name": "LayoutView",
            "align_content": null,
            "align_items": null,
            "align_self": null,
            "border": null,
            "bottom": null,
            "display": null,
            "flex": null,
            "flex_flow": null,
            "grid_area": null,
            "grid_auto_columns": null,
            "grid_auto_flow": null,
            "grid_auto_rows": null,
            "grid_column": null,
            "grid_gap": null,
            "grid_row": null,
            "grid_template_areas": null,
            "grid_template_columns": null,
            "grid_template_rows": null,
            "height": null,
            "justify_content": null,
            "justify_items": null,
            "left": null,
            "margin": null,
            "max_height": null,
            "max_width": null,
            "min_height": null,
            "min_width": null,
            "object_fit": null,
            "object_position": null,
            "order": null,
            "overflow": null,
            "overflow_x": null,
            "overflow_y": null,
            "padding": null,
            "right": null,
            "top": null,
            "visibility": null,
            "width": null
          }
        },
        "0b8f64e45fbb44058862afde84d221b3": {
          "model_module": "@jupyter-widgets/controls",
          "model_name": "DescriptionStyleModel",
          "model_module_version": "1.5.0",
          "state": {
            "_model_module": "@jupyter-widgets/controls",
            "_model_module_version": "1.5.0",
            "_model_name": "DescriptionStyleModel",
            "_view_count": null,
            "_view_module": "@jupyter-widgets/base",
            "_view_module_version": "1.2.0",
            "_view_name": "StyleView",
            "description_width": ""
          }
        },
        "ff6a3826658c44f4bb456857e4922917": {
          "model_module": "@jupyter-widgets/base",
          "model_name": "LayoutModel",
          "model_module_version": "1.2.0",
          "state": {
            "_model_module": "@jupyter-widgets/base",
            "_model_module_version": "1.2.0",
            "_model_name": "LayoutModel",
            "_view_count": null,
            "_view_module": "@jupyter-widgets/base",
            "_view_module_version": "1.2.0",
            "_view_name": "LayoutView",
            "align_content": null,
            "align_items": null,
            "align_self": null,
            "border": null,
            "bottom": null,
            "display": null,
            "flex": null,
            "flex_flow": null,
            "grid_area": null,
            "grid_auto_columns": null,
            "grid_auto_flow": null,
            "grid_auto_rows": null,
            "grid_column": null,
            "grid_gap": null,
            "grid_row": null,
            "grid_template_areas": null,
            "grid_template_columns": null,
            "grid_template_rows": null,
            "height": null,
            "justify_content": null,
            "justify_items": null,
            "left": null,
            "margin": null,
            "max_height": null,
            "max_width": null,
            "min_height": null,
            "min_width": null,
            "object_fit": null,
            "object_position": null,
            "order": null,
            "overflow": null,
            "overflow_x": null,
            "overflow_y": null,
            "padding": null,
            "right": null,
            "top": null,
            "visibility": null,
            "width": null
          }
        },
        "8c34c6875d844f0ba8c75caa5cd5bb28": {
          "model_module": "@jupyter-widgets/controls",
          "model_name": "ProgressStyleModel",
          "model_module_version": "1.5.0",
          "state": {
            "_model_module": "@jupyter-widgets/controls",
            "_model_module_version": "1.5.0",
            "_model_name": "ProgressStyleModel",
            "_view_count": null,
            "_view_module": "@jupyter-widgets/base",
            "_view_module_version": "1.2.0",
            "_view_name": "StyleView",
            "bar_color": null,
            "description_width": ""
          }
        },
        "896f9418368440138873e4692c683a1c": {
          "model_module": "@jupyter-widgets/base",
          "model_name": "LayoutModel",
          "model_module_version": "1.2.0",
          "state": {
            "_model_module": "@jupyter-widgets/base",
            "_model_module_version": "1.2.0",
            "_model_name": "LayoutModel",
            "_view_count": null,
            "_view_module": "@jupyter-widgets/base",
            "_view_module_version": "1.2.0",
            "_view_name": "LayoutView",
            "align_content": null,
            "align_items": null,
            "align_self": null,
            "border": null,
            "bottom": null,
            "display": null,
            "flex": null,
            "flex_flow": null,
            "grid_area": null,
            "grid_auto_columns": null,
            "grid_auto_flow": null,
            "grid_auto_rows": null,
            "grid_column": null,
            "grid_gap": null,
            "grid_row": null,
            "grid_template_areas": null,
            "grid_template_columns": null,
            "grid_template_rows": null,
            "height": null,
            "justify_content": null,
            "justify_items": null,
            "left": null,
            "margin": null,
            "max_height": null,
            "max_width": null,
            "min_height": null,
            "min_width": null,
            "object_fit": null,
            "object_position": null,
            "order": null,
            "overflow": null,
            "overflow_x": null,
            "overflow_y": null,
            "padding": null,
            "right": null,
            "top": null,
            "visibility": null,
            "width": null
          }
        },
        "28870ed8644841cda0c78b95554a8719": {
          "model_module": "@jupyter-widgets/controls",
          "model_name": "DescriptionStyleModel",
          "model_module_version": "1.5.0",
          "state": {
            "_model_module": "@jupyter-widgets/controls",
            "_model_module_version": "1.5.0",
            "_model_name": "DescriptionStyleModel",
            "_view_count": null,
            "_view_module": "@jupyter-widgets/base",
            "_view_module_version": "1.2.0",
            "_view_name": "StyleView",
            "description_width": ""
          }
        }
      }
    }
  },
  "nbformat": 4,
  "nbformat_minor": 0
}